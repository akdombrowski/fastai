{
 "cells": [
  {
   "cell_type": "markdown",
   "metadata": {},
   "source": [
    "# CSDA: GOOD VS BAD"
   ]
  },
  {
   "cell_type": "raw",
   "metadata": {},
   "source": [
    "%pwd\n",
    "\n",
    "# import sys\n",
    "# sys.path.append(\"/home/akdombrowski/fastai\")\n",
    "# print(sys.path)"
   ]
  },
  {
   "cell_type": "code",
   "execution_count": 2,
   "metadata": {},
   "outputs": [],
   "source": [
    "%reload_ext autoreload\n",
    "%autoreload 2\n",
    "%matplotlib inline\n",
    "import torch\n",
    "from torch import *\n",
    "\n",
    "import fastai\n",
    "from fastai.text import *\n",
    "from fastai.docs import *\n",
    "\n",
    "\n",
    "import torchtext\n",
    "from torchtext import vocab, data\n",
    "from torchtext.datasets import language_modeling\n",
    "\n",
    "import dill as pickle\n",
    "import spacy\n",
    "import pandas\n",
    "\n",
    "\n",
    "# This file contains all the main external libs we'll use\n",
    "from fastai.imports import *"
   ]
  },
  {
   "cell_type": "markdown",
   "metadata": {},
   "source": [
    "`PATH` is the path to your data - if you use the recommended setup approaches from the lesson, you won't need to change this. `sz` is the size that the images will be resized to in order to ensure that the training runs quickly. We'll be talking about this parameter a lot during the course. Leave it at `224` for now."
   ]
  },
  {
   "cell_type": "code",
   "execution_count": 3,
   "metadata": {},
   "outputs": [],
   "source": [
    "PATH = \"/home/akdombrowski/fastai/data/csda/\"\n",
    "sz=112"
   ]
  },
  {
   "cell_type": "markdown",
   "metadata": {},
   "source": [
    "It's important that you have a working NVidia GPU set up. The programming framework used to behind the scenes to work with NVidia GPUs is called CUDA. Therefore, you need to ensure the following line returns `True` before you proceed. If you have problems with this, please check the FAQ and ask for help on [the forums](http://forums.fast.ai)."
   ]
  },
  {
   "cell_type": "code",
   "execution_count": 4,
   "metadata": {},
   "outputs": [
    {
     "data": {
      "text/plain": [
       "True"
      ]
     },
     "execution_count": 4,
     "metadata": {},
     "output_type": "execute_result"
    }
   ],
   "source": [
    "torch.cuda.is_available()"
   ]
  },
  {
   "cell_type": "markdown",
   "metadata": {},
   "source": [
    "In addition, NVidia provides special accelerated functions for deep learning in a package called CuDNN. Although not strictly necessary, it will improve training performance significantly, and is included by default in all supported fastai configurations. Therefore, if the following does not return `True`, you may want to look into why."
   ]
  },
  {
   "cell_type": "code",
   "execution_count": 5,
   "metadata": {},
   "outputs": [
    {
     "data": {
      "text/plain": [
       "True"
      ]
     },
     "execution_count": 5,
     "metadata": {},
     "output_type": "execute_result"
    }
   ],
   "source": [
    "torch.backends.cudnn.enabled"
   ]
  },
  {
   "cell_type": "markdown",
   "metadata": {},
   "source": [
    "## Grab csds with severe alerts"
   ]
  },
  {
   "cell_type": "markdown",
   "metadata": {},
   "source": [
    "##### Find all csds with a severe alert and only keep csd name and /server-root-files so the names look like {csd_name}/server-root-files\n",
    "\n",
    "grep --include=alerts.ldif \"severe\" -ir * -l | uniq -u | grep -Po \".*/server-root-files\" > allnoalertscsdnames\n",
    "\n",
    "##### chop off all but the csd directory name\n",
    "\n",
    "sed -i 's/server-root-files//g' allnoalertscsdnames\n",
    "\n",
    "##### move csds matching the names found in allnoalertcsdsnames to trainalerts\n",
    "\n",
    "cat allnoalertscsdnames | xargs -I % mv % ../trainalerts/\n",
    "\n",
    "##### can find how many csds we have with severe alerts\n",
    "ls ../trainalerts/ | wc -l\n",
    "\n",
    "###### total csds\n",
    "ls ../allcsd/ | wc -l\n",
    "\n",
    "total number of csds (divide by two because this also includes all of the zips)\n",
    "len(os.listdir('/home/akdombrowski/fastai/data/csda/allcsd')) / 2\n",
    "\n",
    "##### turns out this csd has a bunch of other csds nested underneath that already appear in our allcsd directory so we can delete it\n",
    "rm -rf ../trainalerts/support-data-ds-hpds05-20110331082534\n",
    "\n",
    "##### from the trainalerts directory we can move some to the validalerts directory to have some for validation testing\n",
    "mv `ls | head -28` ../../valid/validalerts/\n",
    "\n",
    "##### Do the same from trainnoalerts directory\n",
    "mv `ls | head -128` ../../valid/validnoalerts/"
   ]
  },
  {
   "cell_type": "raw",
   "metadata": {},
   "source": [
    "# # total number of csds in validalerts\n",
    "# validalertsnum=len(os.listdir('/home/akdombrowski/fastai/data/csda/validalerts'))\n",
    "# validalertsnum\n",
    "\n",
    "# # total number of csds in validnoalerts\n",
    "# validnoalertsnum=len(os.listdir('/home/akdombrowski/fastai/data/csda/validnoalerts'))\n",
    "# validnoalertsnum\n",
    "\n",
    "# # total number of csds in train\n",
    "# trainalertsnum=len(os.listdir('/home/akdombrowski/fastai/data/csda/trainalerts'))\n",
    "# trainalertsnum\n",
    "\n",
    "# # total number of csds in trainnoalerts\n",
    "# trainnoalertsnum=len(os.listdir('/home/akdombrowski/fastai/data/csda/trainnoalerts'))\n",
    "# trainnoalertsnum\n",
    "\n",
    "# # valid set\n",
    "# valids=validalertsnum + validnoalertsnum\n",
    "# valids\n",
    "\n",
    "# # total train set\n",
    "# trains=trainalertsnum + trainnoalertsnum\n",
    "# trains\n",
    "\n",
    "# # total csds\n",
    "# totalcsds=valids + trains\n",
    "# totalcsds"
   ]
  },
  {
   "cell_type": "markdown",
   "metadata": {
    "heading_collapsed": true
   },
   "source": [
    "## First look at training set"
   ]
  },
  {
   "cell_type": "markdown",
   "metadata": {
    "hidden": true
   },
   "source": [
    "Our library will assume that you have *train* and *valid* directories. It also assumes that each dir will have subdirs for each class you wish to recognize (in this case, 'alertscsd' and 'noalertscsd')."
   ]
  },
  {
   "cell_type": "raw",
   "metadata": {},
   "source": [
    "PATH\n",
    "\n",
    "pwd\n",
    "\n",
    "# os.listdir(train)\n",
    "\n",
    "# os.listdir(trAl)[:3]\n",
    "# os.listdir(trno)[:3]"
   ]
  },
  {
   "cell_type": "code",
   "execution_count": 6,
   "metadata": {},
   "outputs": [
    {
     "data": {
      "text/plain": [
       "['train', 'valid', 'trAl', 'trno', 'vAl', 'vno', 'PATH']"
      ]
     },
     "execution_count": 6,
     "metadata": {},
     "output_type": "execute_result"
    }
   ],
   "source": [
    "# path names\n",
    "train=f'{PATH}train/'\n",
    "valid=f'{PATH}valid/'\n",
    "trAl=f'{train}goodserver'\n",
    "trno=f'{train}badserver'\n",
    "vAl=f'{valid}goodserver'\n",
    "vno=f'{valid}badserver'\n",
    "paths = [train, valid, trAl, trno, vAl, vno, PATH]\n",
    "paths\n",
    "pathnames=[\"train\", \"valid\", \"trAl\", \"trno\", \"vAl\", \"vno\", \"PATH\"]\n",
    "pathnames"
   ]
  },
  {
   "cell_type": "markdown",
   "metadata": {},
   "source": [
    "# Now look at validation set"
   ]
  },
  {
   "cell_type": "raw",
   "metadata": {
    "hidden": true
   },
   "source": [
    "# os.listdir(valid)\n",
    "\n",
    "# os.listdir(vAl)[:3]\n",
    "\n",
    "# os.listdir(vno)[:3]"
   ]
  },
  {
   "cell_type": "markdown",
   "metadata": {
    "hidden": true
   },
   "source": [
    "##### Here is what the inside of a csd looks like"
   ]
  },
  {
   "cell_type": "raw",
   "metadata": {},
   "source": [
    "###### pathnames\n",
    "\n",
    "###### csdpath=os.path.join(f'{PATH}','valid')\n",
    "# os.listdir(csdpath)\n",
    "\n",
    "###### csds=os.path.join(f'{PATH}', 'validalerts')\n",
    "# csd1=os.path.join(csds, os.listdir(csds)[10])\n",
    "# csd1\n",
    "\n",
    "###### os.listdir(csd1)"
   ]
  },
  {
   "cell_type": "markdown",
   "metadata": {},
   "source": [
    "##### server-root-files directory"
   ]
  },
  {
   "cell_type": "raw",
   "metadata": {},
   "source": [
    "# srf=os.path.join(f'{csd1}', 'server-root-files')\n",
    "# srf\n",
    "\n",
    "# os.listdir(srf)"
   ]
  },
  {
   "cell_type": "markdown",
   "metadata": {},
   "source": [
    "#### logs dir"
   ]
  },
  {
   "cell_type": "raw",
   "metadata": {},
   "source": [
    "# logs=os.path.join(srf,\"logs\")\n",
    "# logs\n",
    "\n",
    "# os.listdir(logs)\n",
    "\n",
    "# monitors=os.path.join(logs, \"monitor-history\")\n",
    "# monitors\n",
    "\n",
    "# os.listdir(monitors)\n",
    "\n",
    "# pathnames + paths\n",
    "\n",
    "# !find {vAl} -name 'monitor.[0-9]*' | xargs cat | wc -w"
   ]
  },
  {
   "cell_type": "markdown",
   "metadata": {},
   "source": [
    "### First try with just monitor logs"
   ]
  },
  {
   "cell_type": "raw",
   "metadata": {},
   "source": [
    "# !find {trAl} -name 'monitor.[0-9]*' | xargs cat | wc -w\n",
    "\n",
    "# !find {trno} -name 'monitor.[0-9]*' | xargs cat | wc -w\n",
    "\n",
    "# os.listdir(vAl)[:3]\n",
    "\n",
    "# !find {vAl} -name 'monitor.[0-9]*' | xargs cat | wc -w\n",
    "\n",
    "# !find {vno} -name 'monitor.[0-9]*' | xargs cat | wc -w"
   ]
  },
  {
   "cell_type": "markdown",
   "metadata": {},
   "source": [
    "## Classes "
   ]
  },
  {
   "cell_type": "code",
   "execution_count": 7,
   "metadata": {},
   "outputs": [],
   "source": [
    "classes=[\"goodserver\", \"badserver\"]"
   ]
  },
  {
   "cell_type": "markdown",
   "metadata": {},
   "source": [
    "## Reset cached values for tokens (if needed)"
   ]
  },
  {
   "cell_type": "code",
   "execution_count": 9,
   "metadata": {},
   "outputs": [],
   "source": [
    "# shutil.rmtree(os.path.join(PATH, 'tmp'))"
   ]
  },
  {
   "cell_type": "markdown",
   "metadata": {},
   "source": [
    "## Tokenize"
   ]
  },
  {
   "cell_type": "markdown",
   "metadata": {},
   "source": [
    "###### Tokenize train data set"
   ]
  },
  {
   "cell_type": "markdown",
   "metadata": {},
   "source": [
    "should be stored in tmp directory for use by the text_data_from_folder"
   ]
  },
  {
   "cell_type": "code",
   "execution_count": 8,
   "metadata": {
    "scrolled": false
   },
   "outputs": [
    {
     "name": "stdout",
     "output_type": "stream",
     "text": [
      "Tokenizing train.\n"
     ]
    },
    {
     "data": {
      "application/vnd.jupyter.widget-view+json": {
       "model_id": "",
       "version_major": 2,
       "version_minor": 0
      },
      "text/plain": [
       "HBox(children=(IntProgress(value=0, max=1), HTML(value='')))"
      ]
     },
     "metadata": {},
     "output_type": "display_data"
    },
    {
     "data": {
      "application/vnd.jupyter.widget-view+json": {
       "model_id": "",
       "version_major": 2,
       "version_minor": 0
      },
      "text/plain": [
       "HBox(children=(IntProgress(value=0, max=1), HTML(value='0.00% [0/1 00:00<00:00]')))"
      ]
     },
     "metadata": {},
     "output_type": "display_data"
    },
    {
     "name": "stdout",
     "output_type": "stream",
     "text": [
      "Numericalizing train.\n",
      "CPU times: user 4.65 s, sys: 669 ms, total: 5.32 s\n",
      "Wall time: 43.1 s\n"
     ]
    }
   ],
   "source": [
    "# ~ 50s for ~75 monitor logs\n",
    "%time train_ds = TextDataset.from_folder(PATH, name='train', tokenizer=Tokenizer(rules=[rm_useless_spaces], special_cases=[UNK]), classes=classes, min_freq=100, n_labels=1)"
   ]
  },
  {
   "cell_type": "markdown",
   "metadata": {},
   "source": [
    "###### Tokenize valid data set"
   ]
  },
  {
   "cell_type": "markdown",
   "metadata": {},
   "source": [
    "should be stored in tmp directory for use by the text_data_from_folder"
   ]
  },
  {
   "cell_type": "code",
   "execution_count": 10,
   "metadata": {},
   "outputs": [
    {
     "name": "stdout",
     "output_type": "stream",
     "text": [
      "Numericalizing valid.\n",
      "CPU times: user 2.38 s, sys: 171 ms, total: 2.55 s\n",
      "Wall time: 2.54 s\n"
     ]
    }
   ],
   "source": [
    "# ~ 40s for 20 monitor logs\n",
    "%time valid_ds = TextDataset.from_folder(PATH, name='valid', tokenizer=Tokenizer(rules=[rm_useless_spaces], special_cases=[UNK]), classes=classes, min_freq=100, n_labels=1)"
   ]
  },
  {
   "cell_type": "markdown",
   "metadata": {},
   "source": [
    "## Create the language model DataBunch"
   ]
  },
  {
   "cell_type": "markdown",
   "metadata": {},
   "source": [
    "TextDataset(path:PathOrStr, tokenizer:Tokenizer=None, vocab:Vocab=None, max_vocab:int=60000, chunksize:int=10000, name:str='train', min_freq:int=2, n_labels:int=1, create_mtd:TextMtd=<TextMtd.CSV: 1>, classes:Classes=None)"
   ]
  },
  {
   "cell_type": "code",
   "execution_count": 9,
   "metadata": {},
   "outputs": [],
   "source": [
    "chsz=10000\n",
    "bs=64\n",
    "bptt=64\n",
    "shuffle=False"
   ]
  },
  {
   "cell_type": "code",
   "execution_count": 11,
   "metadata": {},
   "outputs": [
    {
     "name": "stdout",
     "output_type": "stream",
     "text": [
      "Tokenizing train.\n"
     ]
    },
    {
     "data": {
      "application/vnd.jupyter.widget-view+json": {
       "model_id": "",
       "version_major": 2,
       "version_minor": 0
      },
      "text/plain": [
       "HBox(children=(IntProgress(value=0, max=1), HTML(value='')))"
      ]
     },
     "metadata": {},
     "output_type": "display_data"
    },
    {
     "data": {
      "application/vnd.jupyter.widget-view+json": {
       "model_id": "",
       "version_major": 2,
       "version_minor": 0
      },
      "text/plain": [
       "HBox(children=(IntProgress(value=0, max=1), HTML(value='0.00% [0/1 00:00<00:00]')))"
      ]
     },
     "metadata": {},
     "output_type": "display_data"
    },
    {
     "name": "stdout",
     "output_type": "stream",
     "text": [
      "Numericalizing train.\n",
      "Numericalizing valid.\n"
     ]
    }
   ],
   "source": [
    "data_lm = text_data_from_folder(PATH, shuffle=shuffle, data_func=lm_data, chunksize=chsz, bs=bs, bptt=bptt)"
   ]
  },
  {
   "cell_type": "markdown",
   "metadata": {},
   "source": [
    "## Create the classifier DataBunch"
   ]
  },
  {
   "cell_type": "code",
   "execution_count": 14,
   "metadata": {},
   "outputs": [],
   "source": [
    "voc=data_lm.train_ds.vocab"
   ]
  },
  {
   "cell_type": "code",
   "execution_count": 13,
   "metadata": {},
   "outputs": [],
   "source": [
    "data_clas = text_data_from_folder(PATH, shuffle=shuffle, data_func=classifier_data, vocab=data_lm.train_ds.vocab, chunksize=chsz, bs=bs, bptt=bptt)"
   ]
  },
  {
   "cell_type": "markdown",
   "metadata": {},
   "source": [
    "Download Pretrained language model to use as a starting point\n",
    "\n",
    "??download_wt103_model\n",
    "this method looks for IMDB_PATH so just used wget on commandline\n",
    "\n",
    "~/fastai/data/csda/models$ wget http://files.fast.ai/models/wt103_v1/lstm_wt103.pth\n",
    "~/fastai/data/csda/models$ wget http://files.fast.ai/models/wt103_v1/itos_wt103.pkl\n",
    "equivalent to below\n",
    "download_url('http://files.fast.ai/models/wt103_v1/lstm_wt103.pth', 'models/lstm_wt103.pth')\n",
    "download_url('http://files.fast.ai/models/wt103_v1/itos_wt103.pkl', 'models/itos_wt103.pkl')"
   ]
  },
  {
   "cell_type": "markdown",
   "metadata": {},
   "source": [
    "## Create language learner and encoder "
   ]
  },
  {
   "cell_type": "raw",
   "metadata": {},
   "source": [
    "# learn = RNNLearner.language_model(data_lm, pretrained_fnames=['lstm_wt103', 'itos_wt103'], drop_mult=0.5)\n",
    "# learn.lr_find()\n",
    "\n",
    "# learn.recorder.plot()\n",
    "\n",
    "# learn = RNNLearner.language_model(data_lm, bptt=8, pretrained_fnames=['lstm_wt103', 'itos_wt103'])\n",
    "# learn.lr_find()\n",
    "# learn.recorder.plot()\n",
    "\n",
    "# learn = RNNLearner.language_model(data_lm, bptt=1, emb_sz=400, nh=1150, nl=3, pad_token=1, drop_mult=1.0, tie_weights=True, bias=True, pretrained_fnames=['lstm_wt103', 'itos_wt103'])\n",
    "# learn.lr_find()\n",
    "# learn.recorder.plot()\n",
    "\n",
    "# learn = RNNLearner.language_model(data_lm, bptt=1000, emb_sz=400, nh=1150, nl=3, pad_token=1, drop_mult=1.0, tie_weights=True, bias=True, pretrained_fnames=['lstm_wt103', 'itos_wt103'])\n",
    "# learn.lr_find()\n",
    "# learn.recorder.plot()\n",
    "\n",
    "# learn = RNNLearner.language_model(data_lm, bptt=1000, emb_sz=400, nh=1150, nl=3, pad_token=1, drop_mult=0.10, tie_weights=True, bias=True, pretrained_fnames=['lstm_wt103', 'itos_wt103'])\n",
    "# learn.lr_find()\n",
    "# learn.recorder.plot()"
   ]
  },
  {
   "cell_type": "code",
   "execution_count": 16,
   "metadata": {
    "scrolled": true
   },
   "outputs": [
    {
     "data": {
      "application/vnd.jupyter.widget-view+json": {
       "model_id": "ad876cf40e37426e9e34d426c1c260a6",
       "version_major": 2,
       "version_minor": 0
      },
      "text/plain": [
       "VBox(children=(HBox(children=(IntProgress(value=0, max=1), HTML(value='0.00% [0/1 00:00<00:00]'))), HTML(value…"
      ]
     },
     "metadata": {},
     "output_type": "display_data"
    },
    {
     "data": {
      "image/png": "[encoded data removed]",
      "text/plain": [
       "<Figure size 432x288 with 1 Axes>"
      ]
     },
     "metadata": {
      "needs_background": "light"
     },
     "output_type": "display_data"
    }
   ],
   "source": [
    "learn = RNNLearner.language_model(data_lm, bptt=1, drop_mult=1.0, pretrained_fnames=['lstm_wt103', 'itos_wt103'])\n",
    "learn.lr_find()\n",
    "learn.recorder.plot()"
   ]
  },
  {
   "cell_type": "code",
   "execution_count": 17,
   "metadata": {
    "scrolled": true
   },
   "outputs": [
    {
     "data": {
      "application/vnd.jupyter.widget-view+json": {
       "model_id": "",
       "version_major": 2,
       "version_minor": 0
      },
      "text/plain": [
       "VBox(children=(HBox(children=(IntProgress(value=0, max=1), HTML(value='0.00% [0/1 00:00<00:00]'))), HTML(value…"
      ]
     },
     "metadata": {},
     "output_type": "display_data"
    },
    {
     "name": "stdout",
     "output_type": "stream",
     "text": [
      "Total time: 07:27\n",
      "epoch  train loss  valid loss  accuracy\n",
      "0      1.830570    1.218082    0.763939  (07:27)\n",
      "\n"
     ]
    }
   ],
   "source": [
    "# Latest ~ 7:20 runtime\n",
    "learn.fit_one_cycle(1, 1e-1)"
   ]
  },
  {
   "cell_type": "raw",
   "metadata": {},
   "source": [
    "# learn = RNNLearner.language_model(data_lm, bptt=1, emb_sz=400, nh=1150, nl=3, pad_token=1, drop_mult=1.0, tie_weights=True, bias=True, pretrained_fnames=['lstm_wt103', 'itos_wt103'])\n",
    "# learn.lr_find()\n",
    "# learn.recorder.plot()\n",
    "\n",
    "# learn.fit_one_cycle(2, 5e-1)\n",
    "\n",
    "# learn = RNNLearner.language_model(data_lm, bptt=2, pretrained_fnames=['lstm_wt103', 'itos_wt103'])\n",
    "# learn.lr_find()\n",
    "# learn.recorder.plot()\n",
    "\n",
    "# learn.fit_one_cycle(10, 5e-1)\n",
    "\n",
    "# learn = RNNLearner.language_model(data_lm, bptt=2, pretrained_fnames=['lstm_wt103', 'itos_wt103'])\n",
    "# learn.lr_find()\n",
    "# learn.recorder.plot()\n",
    "\n",
    "# learn.fit_one_cycle(6, 5e-1)"
   ]
  },
  {
   "cell_type": "code",
   "execution_count": 18,
   "metadata": {},
   "outputs": [],
   "source": [
    "learn.save_encoder('lm_encoder_firstfit')"
   ]
  },
  {
   "cell_type": "code",
   "execution_count": 19,
   "metadata": {},
   "outputs": [],
   "source": [
    "learn.load_encoder('lm_encoder_firstfit')"
   ]
  },
  {
   "cell_type": "markdown",
   "metadata": {},
   "source": [
    "Fine tune by unfreezing and doing some more fitting."
   ]
  },
  {
   "cell_type": "code",
   "execution_count": 20,
   "metadata": {},
   "outputs": [
    {
     "data": {
      "application/vnd.jupyter.widget-view+json": {
       "model_id": "",
       "version_major": 2,
       "version_minor": 0
      },
      "text/plain": [
       "VBox(children=(HBox(children=(IntProgress(value=0, max=1), HTML(value='0.00% [0/1 00:00<00:00]'))), HTML(value…"
      ]
     },
     "metadata": {},
     "output_type": "display_data"
    },
    {
     "name": "stdout",
     "output_type": "stream",
     "text": [
      "Total time: 07:29\n",
      "epoch  train loss  valid loss  accuracy\n",
      "0      1.802637    1.430515    0.754495  (07:29)\n",
      "\n"
     ]
    }
   ],
   "source": [
    "learn.fit_one_cycle(1, 1e-1)"
   ]
  },
  {
   "cell_type": "code",
   "execution_count": 21,
   "metadata": {},
   "outputs": [],
   "source": [
    "learn.save_encoder('lm_encoder_secondfit')"
   ]
  },
  {
   "cell_type": "code",
   "execution_count": 22,
   "metadata": {},
   "outputs": [],
   "source": [
    "learn.load_encoder('lm_encoder_secondfit')"
   ]
  },
  {
   "cell_type": "code",
   "execution_count": 23,
   "metadata": {},
   "outputs": [
    {
     "data": {
      "application/vnd.jupyter.widget-view+json": {
       "model_id": "",
       "version_major": 2,
       "version_minor": 0
      },
      "text/plain": [
       "VBox(children=(HBox(children=(IntProgress(value=0, max=1), HTML(value='0.00% [0/1 00:00<00:00]'))), HTML(value…"
      ]
     },
     "metadata": {},
     "output_type": "display_data"
    },
    {
     "name": "stdout",
     "output_type": "stream",
     "text": [
      "Total time: 08:37\n",
      "epoch  train loss  valid loss  accuracy\n",
      "0      0.619719    1.004311    0.839662  (08:37)\n",
      "\n"
     ]
    }
   ],
   "source": [
    "learn.unfreeze()\n",
    "learn.fit_one_cycle(1, max_lr=slice(1e-1,1e-3))"
   ]
  },
  {
   "cell_type": "code",
   "execution_count": 24,
   "metadata": {},
   "outputs": [],
   "source": [
    "learn.save_encoder('lm_unfreeze_firstfit')"
   ]
  },
  {
   "cell_type": "code",
   "execution_count": 27,
   "metadata": {},
   "outputs": [],
   "source": [
    "learn.load_encoder('lm_unfreeze_firstfit')"
   ]
  },
  {
   "cell_type": "code",
   "execution_count": 26,
   "metadata": {
    "collapsed": true
   },
   "outputs": [
    {
     "data": {
      "application/vnd.jupyter.widget-view+json": {
       "model_id": "56c1be48fe0b42f5bec1ba53b5853f06",
       "version_major": 2,
       "version_minor": 0
      },
      "text/plain": [
       "VBox(children=(HBox(children=(IntProgress(value=0, max=1), HTML(value='0.00% [0/1 00:00<00:00]'))), HTML(value…"
      ]
     },
     "metadata": {},
     "output_type": "display_data"
    },
    {
     "ename": "KeyboardInterrupt",
     "evalue": "",
     "output_type": "error",
     "traceback": [
      "\u001b[0;31m---------------------------------------------------------------------------\u001b[0m",
      "\u001b[0;31mKeyboardInterrupt\u001b[0m                         Traceback (most recent call last)",
      "\u001b[0;32m<ipython-input-26-0eb5352d916b>\u001b[0m in \u001b[0;36m<module>\u001b[0;34m\u001b[0m\n\u001b[0;32m----> 1\u001b[0;31m \u001b[0mlearn\u001b[0m\u001b[0;34m.\u001b[0m\u001b[0mfit_one_cycle\u001b[0m\u001b[0;34m(\u001b[0m\u001b[0;36m1\u001b[0m\u001b[0;34m,\u001b[0m \u001b[0mmax_lr\u001b[0m\u001b[0;34m=\u001b[0m\u001b[0mslice\u001b[0m\u001b[0;34m(\u001b[0m\u001b[0;36m1e-1\u001b[0m\u001b[0;34m,\u001b[0m\u001b[0;36m1e-2\u001b[0m\u001b[0;34m)\u001b[0m\u001b[0;34m)\u001b[0m\u001b[0;34m\u001b[0m\u001b[0m\n\u001b[0m",
      "\u001b[0;32m~/fastai/fastai/train.py\u001b[0m in \u001b[0;36mfit_one_cycle\u001b[0;34m(learn, cyc_len, max_lr, moms, div_factor, pct_start, wd, **kwargs)\u001b[0m\n\u001b[1;32m     16\u001b[0m     cbs = [OneCycleScheduler(learn, max_lr, moms=moms, div_factor=div_factor,\n\u001b[1;32m     17\u001b[0m                              pct_start=pct_start, **kwargs)]\n\u001b[0;32m---> 18\u001b[0;31m     \u001b[0mlearn\u001b[0m\u001b[0;34m.\u001b[0m\u001b[0mfit\u001b[0m\u001b[0;34m(\u001b[0m\u001b[0mcyc_len\u001b[0m\u001b[0;34m,\u001b[0m \u001b[0mmax_lr\u001b[0m\u001b[0;34m,\u001b[0m \u001b[0mwd\u001b[0m\u001b[0;34m=\u001b[0m\u001b[0mwd\u001b[0m\u001b[0;34m,\u001b[0m \u001b[0mcallbacks\u001b[0m\u001b[0;34m=\u001b[0m\u001b[0mcbs\u001b[0m\u001b[0;34m)\u001b[0m\u001b[0;34m\u001b[0m\u001b[0m\n\u001b[0m\u001b[1;32m     19\u001b[0m \u001b[0;34m\u001b[0m\u001b[0m\n\u001b[1;32m     20\u001b[0m \u001b[0;32mdef\u001b[0m \u001b[0mlr_find\u001b[0m\u001b[0;34m(\u001b[0m\u001b[0mlearn\u001b[0m\u001b[0;34m:\u001b[0m\u001b[0mLearner\u001b[0m\u001b[0;34m,\u001b[0m \u001b[0mstart_lr\u001b[0m\u001b[0;34m:\u001b[0m\u001b[0mFloats\u001b[0m\u001b[0;34m=\u001b[0m\u001b[0;36m1e-5\u001b[0m\u001b[0;34m,\u001b[0m \u001b[0mend_lr\u001b[0m\u001b[0;34m:\u001b[0m\u001b[0mFloats\u001b[0m\u001b[0;34m=\u001b[0m\u001b[0;36m10\u001b[0m\u001b[0;34m,\u001b[0m \u001b[0mnum_it\u001b[0m\u001b[0;34m:\u001b[0m\u001b[0mint\u001b[0m\u001b[0;34m=\u001b[0m\u001b[0;36m100\u001b[0m\u001b[0;34m,\u001b[0m \u001b[0;34m**\u001b[0m\u001b[0mkwargs\u001b[0m\u001b[0;34m:\u001b[0m\u001b[0mAny\u001b[0m\u001b[0;34m)\u001b[0m\u001b[0;34m:\u001b[0m\u001b[0;34m\u001b[0m\u001b[0m\n",
      "\u001b[0;32m~/fastai/fastai/basic_train.py\u001b[0m in \u001b[0;36mfit\u001b[0;34m(self, epochs, lr, wd, callbacks)\u001b[0m\n\u001b[1;32m    134\u001b[0m         \u001b[0mcallbacks\u001b[0m \u001b[0;34m=\u001b[0m \u001b[0;34m[\u001b[0m\u001b[0mcb\u001b[0m\u001b[0;34m(\u001b[0m\u001b[0mself\u001b[0m\u001b[0;34m)\u001b[0m \u001b[0;32mfor\u001b[0m \u001b[0mcb\u001b[0m \u001b[0;32min\u001b[0m \u001b[0mself\u001b[0m\u001b[0;34m.\u001b[0m\u001b[0mcallback_fns\u001b[0m\u001b[0;34m]\u001b[0m \u001b[0;34m+\u001b[0m \u001b[0mlistify\u001b[0m\u001b[0;34m(\u001b[0m\u001b[0mcallbacks\u001b[0m\u001b[0;34m)\u001b[0m\u001b[0;34m\u001b[0m\u001b[0m\n\u001b[1;32m    135\u001b[0m         fit(epochs, self.model, self.loss_fn, opt=self.opt, data=self.data, metrics=self.metrics,\n\u001b[0;32m--> 136\u001b[0;31m             callbacks=self.callbacks+callbacks)\n\u001b[0m\u001b[1;32m    137\u001b[0m \u001b[0;34m\u001b[0m\u001b[0m\n\u001b[1;32m    138\u001b[0m     \u001b[0;32mdef\u001b[0m \u001b[0mcreate_opt\u001b[0m\u001b[0;34m(\u001b[0m\u001b[0mself\u001b[0m\u001b[0;34m,\u001b[0m \u001b[0mlr\u001b[0m\u001b[0;34m:\u001b[0m\u001b[0mFloats\u001b[0m\u001b[0;34m,\u001b[0m \u001b[0mwd\u001b[0m\u001b[0;34m:\u001b[0m\u001b[0mFloats\u001b[0m\u001b[0;34m=\u001b[0m\u001b[0;36m0.\u001b[0m\u001b[0;34m)\u001b[0m\u001b[0;34m->\u001b[0m\u001b[0;32mNone\u001b[0m\u001b[0;34m:\u001b[0m\u001b[0;34m\u001b[0m\u001b[0m\n",
      "\u001b[0;32m~/fastai/fastai/basic_train.py\u001b[0m in \u001b[0;36mfit\u001b[0;34m(epochs, model, loss_fn, opt, data, callbacks, metrics)\u001b[0m\n\u001b[1;32m     77\u001b[0m             \u001b[0;32mfor\u001b[0m \u001b[0mxb\u001b[0m\u001b[0;34m,\u001b[0m\u001b[0myb\u001b[0m \u001b[0;32min\u001b[0m \u001b[0mprogress_bar\u001b[0m\u001b[0;34m(\u001b[0m\u001b[0mdata\u001b[0m\u001b[0;34m.\u001b[0m\u001b[0mtrain_dl\u001b[0m\u001b[0;34m,\u001b[0m \u001b[0mparent\u001b[0m\u001b[0;34m=\u001b[0m\u001b[0mpbar\u001b[0m\u001b[0;34m)\u001b[0m\u001b[0;34m:\u001b[0m\u001b[0;34m\u001b[0m\u001b[0m\n\u001b[1;32m     78\u001b[0m                 \u001b[0mxb\u001b[0m\u001b[0;34m,\u001b[0m \u001b[0myb\u001b[0m \u001b[0;34m=\u001b[0m \u001b[0mcb_handler\u001b[0m\u001b[0;34m.\u001b[0m\u001b[0mon_batch_begin\u001b[0m\u001b[0;34m(\u001b[0m\u001b[0mxb\u001b[0m\u001b[0;34m,\u001b[0m \u001b[0myb\u001b[0m\u001b[0;34m)\u001b[0m\u001b[0;34m\u001b[0m\u001b[0m\n\u001b[0;32m---> 79\u001b[0;31m                 \u001b[0mloss\u001b[0m \u001b[0;34m=\u001b[0m \u001b[0mloss_batch\u001b[0m\u001b[0;34m(\u001b[0m\u001b[0mmodel\u001b[0m\u001b[0;34m,\u001b[0m \u001b[0mxb\u001b[0m\u001b[0;34m,\u001b[0m \u001b[0myb\u001b[0m\u001b[0;34m,\u001b[0m \u001b[0mloss_fn\u001b[0m\u001b[0;34m,\u001b[0m \u001b[0mopt\u001b[0m\u001b[0;34m,\u001b[0m \u001b[0mcb_handler\u001b[0m\u001b[0;34m)\u001b[0m\u001b[0;34m\u001b[0m\u001b[0m\n\u001b[0m\u001b[1;32m     80\u001b[0m                 \u001b[0;32mif\u001b[0m \u001b[0mcb_handler\u001b[0m\u001b[0;34m.\u001b[0m\u001b[0mon_batch_end\u001b[0m\u001b[0;34m(\u001b[0m\u001b[0mloss\u001b[0m\u001b[0;34m)\u001b[0m\u001b[0;34m:\u001b[0m \u001b[0;32mbreak\u001b[0m\u001b[0;34m\u001b[0m\u001b[0m\n\u001b[1;32m     81\u001b[0m \u001b[0;34m\u001b[0m\u001b[0m\n",
      "\u001b[0;32m~/fastai/fastai/basic_train.py\u001b[0m in \u001b[0;36mloss_batch\u001b[0;34m(model, xb, yb, loss_fn, opt, cb_handler, metrics)\u001b[0m\n\u001b[1;32m     24\u001b[0m     \u001b[0;32mif\u001b[0m \u001b[0mopt\u001b[0m \u001b[0;32mis\u001b[0m \u001b[0;32mnot\u001b[0m \u001b[0;32mNone\u001b[0m\u001b[0;34m:\u001b[0m\u001b[0;34m\u001b[0m\u001b[0m\n\u001b[1;32m     25\u001b[0m         \u001b[0mloss\u001b[0m \u001b[0;34m=\u001b[0m \u001b[0mcb_handler\u001b[0m\u001b[0;34m.\u001b[0m\u001b[0mon_backward_begin\u001b[0m\u001b[0;34m(\u001b[0m\u001b[0mloss\u001b[0m\u001b[0;34m)\u001b[0m\u001b[0;34m\u001b[0m\u001b[0m\n\u001b[0;32m---> 26\u001b[0;31m         \u001b[0mloss\u001b[0m\u001b[0;34m.\u001b[0m\u001b[0mbackward\u001b[0m\u001b[0;34m(\u001b[0m\u001b[0;34m)\u001b[0m\u001b[0;34m\u001b[0m\u001b[0m\n\u001b[0m\u001b[1;32m     27\u001b[0m         \u001b[0mcb_handler\u001b[0m\u001b[0;34m.\u001b[0m\u001b[0mon_backward_end\u001b[0m\u001b[0;34m(\u001b[0m\u001b[0;34m)\u001b[0m\u001b[0;34m\u001b[0m\u001b[0m\n\u001b[1;32m     28\u001b[0m         \u001b[0mopt\u001b[0m\u001b[0;34m.\u001b[0m\u001b[0mstep\u001b[0m\u001b[0;34m(\u001b[0m\u001b[0;34m)\u001b[0m\u001b[0;34m\u001b[0m\u001b[0m\n",
      "\u001b[0;32m~/anaconda3/envs/fastai/lib/python3.6/site-packages/torch/tensor.py\u001b[0m in \u001b[0;36mbackward\u001b[0;34m(self, gradient, retain_graph, create_graph)\u001b[0m\n\u001b[1;32m     94\u001b[0m                 \u001b[0mproducts\u001b[0m\u001b[0;34m.\u001b[0m \u001b[0mDefaults\u001b[0m \u001b[0mto\u001b[0m\u001b[0;31m \u001b[0m\u001b[0;31m`\u001b[0m\u001b[0;31m`\u001b[0m\u001b[0;32mFalse\u001b[0m\u001b[0;31m`\u001b[0m\u001b[0;31m`\u001b[0m\u001b[0;34m.\u001b[0m\u001b[0;34m\u001b[0m\u001b[0m\n\u001b[1;32m     95\u001b[0m         \"\"\"\n\u001b[0;32m---> 96\u001b[0;31m         \u001b[0mtorch\u001b[0m\u001b[0;34m.\u001b[0m\u001b[0mautograd\u001b[0m\u001b[0;34m.\u001b[0m\u001b[0mbackward\u001b[0m\u001b[0;34m(\u001b[0m\u001b[0mself\u001b[0m\u001b[0;34m,\u001b[0m \u001b[0mgradient\u001b[0m\u001b[0;34m,\u001b[0m \u001b[0mretain_graph\u001b[0m\u001b[0;34m,\u001b[0m \u001b[0mcreate_graph\u001b[0m\u001b[0;34m)\u001b[0m\u001b[0;34m\u001b[0m\u001b[0m\n\u001b[0m\u001b[1;32m     97\u001b[0m \u001b[0;34m\u001b[0m\u001b[0m\n\u001b[1;32m     98\u001b[0m     \u001b[0;32mdef\u001b[0m \u001b[0mregister_hook\u001b[0m\u001b[0;34m(\u001b[0m\u001b[0mself\u001b[0m\u001b[0;34m,\u001b[0m \u001b[0mhook\u001b[0m\u001b[0;34m)\u001b[0m\u001b[0;34m:\u001b[0m\u001b[0;34m\u001b[0m\u001b[0m\n",
      "\u001b[0;32m~/anaconda3/envs/fastai/lib/python3.6/site-packages/torch/autograd/__init__.py\u001b[0m in \u001b[0;36mbackward\u001b[0;34m(tensors, grad_tensors, retain_graph, create_graph, grad_variables)\u001b[0m\n\u001b[1;32m     88\u001b[0m     Variable._execution_engine.run_backward(\n\u001b[1;32m     89\u001b[0m         \u001b[0mtensors\u001b[0m\u001b[0;34m,\u001b[0m \u001b[0mgrad_tensors\u001b[0m\u001b[0;34m,\u001b[0m \u001b[0mretain_graph\u001b[0m\u001b[0;34m,\u001b[0m \u001b[0mcreate_graph\u001b[0m\u001b[0;34m,\u001b[0m\u001b[0;34m\u001b[0m\u001b[0m\n\u001b[0;32m---> 90\u001b[0;31m         allow_unreachable=True)  # allow_unreachable flag\n\u001b[0m\u001b[1;32m     91\u001b[0m \u001b[0;34m\u001b[0m\u001b[0m\n\u001b[1;32m     92\u001b[0m \u001b[0;34m\u001b[0m\u001b[0m\n",
      "\u001b[0;31mKeyboardInterrupt\u001b[0m: "
     ]
    }
   ],
   "source": [
    "learn.fit_one_cycle(1, max_lr=slice(1e-1,1e-2))"
   ]
  },
  {
   "cell_type": "code",
   "execution_count": 28,
   "metadata": {},
   "outputs": [
    {
     "data": {
      "image/png": "[encoded data removed]",
      "text/plain": [
       "<Figure size 432x288 with 1 Axes>"
      ]
     },
     "metadata": {
      "needs_background": "light"
     },
     "output_type": "display_data"
    }
   ],
   "source": [
    "learn.recorder.plot_lr()"
   ]
  },
  {
   "cell_type": "code",
   "execution_count": 29,
   "metadata": {},
   "outputs": [
    {
     "data": {
      "image/png": "[encoded data removed]",
      "text/plain": [
       "<Figure size 432x288 with 1 Axes>"
      ]
     },
     "metadata": {
      "needs_background": "light"
     },
     "output_type": "display_data"
    }
   ],
   "source": [
    "learn.recorder.plot_losses()"
   ]
  },
  {
   "cell_type": "code",
   "execution_count": 30,
   "metadata": {},
   "outputs": [],
   "source": [
    "learn.save_encoder('lm_unfreeze_secondfit')"
   ]
  },
  {
   "cell_type": "code",
   "execution_count": 31,
   "metadata": {},
   "outputs": [],
   "source": [
    "learn.load_encoder('lm_unfreeze_secondfit')"
   ]
  },
  {
   "cell_type": "code",
   "execution_count": 32,
   "metadata": {},
   "outputs": [],
   "source": [
    "learn.freeze()"
   ]
  },
  {
   "cell_type": "code",
   "execution_count": 33,
   "metadata": {},
   "outputs": [],
   "source": [
    "learn.save_encoder('language_model_trained_encoder')"
   ]
  },
  {
   "cell_type": "code",
   "execution_count": 34,
   "metadata": {},
   "outputs": [],
   "source": [
    "learn.load_encoder('language_model_trained_encoder')"
   ]
  },
  {
   "cell_type": "markdown",
   "metadata": {},
   "source": [
    "## Creating classifier learner"
   ]
  },
  {
   "cell_type": "code",
   "execution_count": 59,
   "metadata": {
    "scrolled": true
   },
   "outputs": [],
   "source": [
    "learn = RNNLearner.classifier(data_clas, drop_mult=1.0, bptt=70, max_len=1500)"
   ]
  },
  {
   "cell_type": "code",
   "execution_count": 60,
   "metadata": {},
   "outputs": [],
   "source": [
    "learn.load_encoder('language_model_trained_encoder')"
   ]
  },
  {
   "cell_type": "code",
   "execution_count": 65,
   "metadata": {
    "collapsed": true
   },
   "outputs": [
    {
     "data": {
      "application/vnd.jupyter.widget-view+json": {
       "model_id": "59e577f59df6479a8c9bb682c3c2a0bb",
       "version_major": 2,
       "version_minor": 0
      },
      "text/plain": [
       "VBox(children=(HBox(children=(IntProgress(value=0, max=1), HTML(value='0.00% [0/1 00:00<00:00]'))), HTML(value…"
      ]
     },
     "metadata": {},
     "output_type": "display_data"
    },
    {
     "name": "stdout",
     "output_type": "stream",
     "text": [
      "CPU times: user 2min 24s, sys: 7.12 s, total: 2min 31s\n",
      "Wall time: 2min 32s\n"
     ]
    },
    {
     "data": {
      "image/png": "[encoded data removed]",
      "text/plain": [
       "<Figure size 432x288 with 1 Axes>"
      ]
     },
     "metadata": {
      "needs_background": "light"
     },
     "output_type": "display_data"
    }
   ],
   "source": [
    "%time learn.lr_find(1e-5, 1e-1, 2)\n",
    "learn.recorder.plot()"
   ]
  },
  {
   "cell_type": "code",
   "execution_count": null,
   "metadata": {},
   "outputs": [],
   "source": [
    "learn.recorder"
   ]
  },
  {
   "cell_type": "code",
   "execution_count": null,
   "metadata": {},
   "outputs": [],
   "source": []
  },
  {
   "cell_type": "code",
   "execution_count": 14,
   "metadata": {
    "scrolled": true
   },
   "outputs": [],
   "source": [
    "learn = RNNLearner.classifier(data_clas, drop_mult=1.0, bptt=70, max_len=10)"
   ]
  },
  {
   "cell_type": "code",
   "execution_count": 15,
   "metadata": {},
   "outputs": [],
   "source": [
    "learn.load_encoder('language_model_trained_encoder')"
   ]
  },
  {
   "cell_type": "code",
   "execution_count": 18,
   "metadata": {
    "scrolled": true
   },
   "outputs": [
    {
     "data": {
      "application/vnd.jupyter.widget-view+json": {
       "model_id": "0db0cf53f9f244a69a6a480598699f7f",
       "version_major": 2,
       "version_minor": 0
      },
      "text/plain": [
       "VBox(children=(HBox(children=(IntProgress(value=0, max=1), HTML(value='0.00% [0/1 00:00<00:00]'))), HTML(value…"
      ]
     },
     "metadata": {},
     "output_type": "display_data"
    },
    {
     "ename": "IndexError",
     "evalue": "list index out of range",
     "output_type": "error",
     "traceback": [
      "\u001b[0;31m---------------------------------------------------------------------------\u001b[0m",
      "\u001b[0;31mIndexError\u001b[0m                                Traceback (most recent call last)",
      "\u001b[0;32m<timed eval>\u001b[0m in \u001b[0;36m<module>\u001b[0;34m\u001b[0m\n",
      "\u001b[0;32m~/fastai/fastai/train.py\u001b[0m in \u001b[0;36mlr_find\u001b[0;34m(learn, start_lr, end_lr, num_it, **kwargs)\u001b[0m\n\u001b[1;32m     24\u001b[0m     \u001b[0mcb\u001b[0m \u001b[0;34m=\u001b[0m \u001b[0mLRFinder\u001b[0m\u001b[0;34m(\u001b[0m\u001b[0mlearn\u001b[0m\u001b[0;34m,\u001b[0m \u001b[0mstart_lr\u001b[0m\u001b[0;34m,\u001b[0m \u001b[0mend_lr\u001b[0m\u001b[0;34m,\u001b[0m \u001b[0mnum_it\u001b[0m\u001b[0;34m)\u001b[0m\u001b[0;34m\u001b[0m\u001b[0m\n\u001b[1;32m     25\u001b[0m     \u001b[0ma\u001b[0m \u001b[0;34m=\u001b[0m \u001b[0mint\u001b[0m\u001b[0;34m(\u001b[0m\u001b[0mnp\u001b[0m\u001b[0;34m.\u001b[0m\u001b[0mceil\u001b[0m\u001b[0;34m(\u001b[0m\u001b[0mnum_it\u001b[0m\u001b[0;34m/\u001b[0m\u001b[0mlen\u001b[0m\u001b[0;34m(\u001b[0m\u001b[0mlearn\u001b[0m\u001b[0;34m.\u001b[0m\u001b[0mdata\u001b[0m\u001b[0;34m.\u001b[0m\u001b[0mtrain_dl\u001b[0m\u001b[0;34m)\u001b[0m\u001b[0;34m)\u001b[0m\u001b[0;34m)\u001b[0m\u001b[0;34m\u001b[0m\u001b[0m\n\u001b[0;32m---> 26\u001b[0;31m     \u001b[0mlearn\u001b[0m\u001b[0;34m.\u001b[0m\u001b[0mfit\u001b[0m\u001b[0;34m(\u001b[0m\u001b[0ma\u001b[0m\u001b[0;34m,\u001b[0m \u001b[0mstart_lr\u001b[0m\u001b[0;34m,\u001b[0m \u001b[0mcallbacks\u001b[0m\u001b[0;34m=\u001b[0m\u001b[0;34m[\u001b[0m\u001b[0mcb\u001b[0m\u001b[0;34m]\u001b[0m\u001b[0;34m,\u001b[0m \u001b[0;34m**\u001b[0m\u001b[0mkwargs\u001b[0m\u001b[0;34m)\u001b[0m\u001b[0;34m\u001b[0m\u001b[0m\n\u001b[0m\u001b[1;32m     27\u001b[0m \u001b[0;34m\u001b[0m\u001b[0m\n\u001b[1;32m     28\u001b[0m \u001b[0;32mdef\u001b[0m \u001b[0mto_fp16\u001b[0m\u001b[0;34m(\u001b[0m\u001b[0mlearn\u001b[0m\u001b[0;34m:\u001b[0m\u001b[0mLearner\u001b[0m\u001b[0;34m,\u001b[0m \u001b[0mloss_scale\u001b[0m\u001b[0;34m:\u001b[0m\u001b[0mfloat\u001b[0m\u001b[0;34m=\u001b[0m\u001b[0;36m512.\u001b[0m\u001b[0;34m,\u001b[0m \u001b[0mflat_master\u001b[0m\u001b[0;34m:\u001b[0m\u001b[0mbool\u001b[0m\u001b[0;34m=\u001b[0m\u001b[0;32mFalse\u001b[0m\u001b[0;34m)\u001b[0m\u001b[0;34m->\u001b[0m\u001b[0mLearner\u001b[0m\u001b[0;34m:\u001b[0m\u001b[0;34m\u001b[0m\u001b[0m\n",
      "\u001b[0;32m~/fastai/fastai/basic_train.py\u001b[0m in \u001b[0;36mfit\u001b[0;34m(self, epochs, lr, wd, callbacks)\u001b[0m\n\u001b[1;32m    134\u001b[0m         \u001b[0mcallbacks\u001b[0m \u001b[0;34m=\u001b[0m \u001b[0;34m[\u001b[0m\u001b[0mcb\u001b[0m\u001b[0;34m(\u001b[0m\u001b[0mself\u001b[0m\u001b[0;34m)\u001b[0m \u001b[0;32mfor\u001b[0m \u001b[0mcb\u001b[0m \u001b[0;32min\u001b[0m \u001b[0mself\u001b[0m\u001b[0;34m.\u001b[0m\u001b[0mcallback_fns\u001b[0m\u001b[0;34m]\u001b[0m \u001b[0;34m+\u001b[0m \u001b[0mlistify\u001b[0m\u001b[0;34m(\u001b[0m\u001b[0mcallbacks\u001b[0m\u001b[0;34m)\u001b[0m\u001b[0;34m\u001b[0m\u001b[0m\n\u001b[1;32m    135\u001b[0m         fit(epochs, self.model, self.loss_fn, opt=self.opt, data=self.data, metrics=self.metrics,\n\u001b[0;32m--> 136\u001b[0;31m             callbacks=self.callbacks+callbacks)\n\u001b[0m\u001b[1;32m    137\u001b[0m \u001b[0;34m\u001b[0m\u001b[0m\n\u001b[1;32m    138\u001b[0m     \u001b[0;32mdef\u001b[0m \u001b[0mcreate_opt\u001b[0m\u001b[0;34m(\u001b[0m\u001b[0mself\u001b[0m\u001b[0;34m,\u001b[0m \u001b[0mlr\u001b[0m\u001b[0;34m:\u001b[0m\u001b[0mFloats\u001b[0m\u001b[0;34m,\u001b[0m \u001b[0mwd\u001b[0m\u001b[0;34m:\u001b[0m\u001b[0mFloats\u001b[0m\u001b[0;34m=\u001b[0m\u001b[0;36m0.\u001b[0m\u001b[0;34m)\u001b[0m\u001b[0;34m->\u001b[0m\u001b[0;32mNone\u001b[0m\u001b[0;34m:\u001b[0m\u001b[0;34m\u001b[0m\u001b[0m\n",
      "\u001b[0;32m~/fastai/fastai/basic_train.py\u001b[0m in \u001b[0;36mfit\u001b[0;34m(epochs, model, loss_fn, opt, data, callbacks, metrics)\u001b[0m\n\u001b[1;32m     87\u001b[0m     \u001b[0;32mexcept\u001b[0m \u001b[0mException\u001b[0m \u001b[0;32mas\u001b[0m \u001b[0me\u001b[0m\u001b[0;34m:\u001b[0m\u001b[0;34m\u001b[0m\u001b[0m\n\u001b[1;32m     88\u001b[0m         \u001b[0mexception\u001b[0m \u001b[0;34m=\u001b[0m \u001b[0me\u001b[0m\u001b[0;34m\u001b[0m\u001b[0m\n\u001b[0;32m---> 89\u001b[0;31m         \u001b[0;32mraise\u001b[0m \u001b[0me\u001b[0m\u001b[0;34m\u001b[0m\u001b[0m\n\u001b[0m\u001b[1;32m     90\u001b[0m     \u001b[0;32mfinally\u001b[0m\u001b[0;34m:\u001b[0m \u001b[0mcb_handler\u001b[0m\u001b[0;34m.\u001b[0m\u001b[0mon_train_end\u001b[0m\u001b[0;34m(\u001b[0m\u001b[0mexception\u001b[0m\u001b[0;34m)\u001b[0m\u001b[0;34m\u001b[0m\u001b[0m\n\u001b[1;32m     91\u001b[0m \u001b[0;34m\u001b[0m\u001b[0m\n",
      "\u001b[0;32m~/fastai/fastai/basic_train.py\u001b[0m in \u001b[0;36mfit\u001b[0;34m(epochs, model, loss_fn, opt, data, callbacks, metrics)\u001b[0m\n\u001b[1;32m     77\u001b[0m             \u001b[0;32mfor\u001b[0m \u001b[0mxb\u001b[0m\u001b[0;34m,\u001b[0m\u001b[0myb\u001b[0m \u001b[0;32min\u001b[0m \u001b[0mprogress_bar\u001b[0m\u001b[0;34m(\u001b[0m\u001b[0mdata\u001b[0m\u001b[0;34m.\u001b[0m\u001b[0mtrain_dl\u001b[0m\u001b[0;34m,\u001b[0m \u001b[0mparent\u001b[0m\u001b[0;34m=\u001b[0m\u001b[0mpbar\u001b[0m\u001b[0;34m)\u001b[0m\u001b[0;34m:\u001b[0m\u001b[0;34m\u001b[0m\u001b[0m\n\u001b[1;32m     78\u001b[0m                 \u001b[0mxb\u001b[0m\u001b[0;34m,\u001b[0m \u001b[0myb\u001b[0m \u001b[0;34m=\u001b[0m \u001b[0mcb_handler\u001b[0m\u001b[0;34m.\u001b[0m\u001b[0mon_batch_begin\u001b[0m\u001b[0;34m(\u001b[0m\u001b[0mxb\u001b[0m\u001b[0;34m,\u001b[0m \u001b[0myb\u001b[0m\u001b[0;34m)\u001b[0m\u001b[0;34m\u001b[0m\u001b[0m\n\u001b[0;32m---> 79\u001b[0;31m                 \u001b[0mloss\u001b[0m \u001b[0;34m=\u001b[0m \u001b[0mloss_batch\u001b[0m\u001b[0;34m(\u001b[0m\u001b[0mmodel\u001b[0m\u001b[0;34m,\u001b[0m \u001b[0mxb\u001b[0m\u001b[0;34m,\u001b[0m \u001b[0myb\u001b[0m\u001b[0;34m,\u001b[0m \u001b[0mloss_fn\u001b[0m\u001b[0;34m,\u001b[0m \u001b[0mopt\u001b[0m\u001b[0;34m,\u001b[0m \u001b[0mcb_handler\u001b[0m\u001b[0;34m)\u001b[0m\u001b[0;34m\u001b[0m\u001b[0m\n\u001b[0m\u001b[1;32m     80\u001b[0m                 \u001b[0;32mif\u001b[0m \u001b[0mcb_handler\u001b[0m\u001b[0;34m.\u001b[0m\u001b[0mon_batch_end\u001b[0m\u001b[0;34m(\u001b[0m\u001b[0mloss\u001b[0m\u001b[0;34m)\u001b[0m\u001b[0;34m:\u001b[0m \u001b[0;32mbreak\u001b[0m\u001b[0;34m\u001b[0m\u001b[0m\n\u001b[1;32m     81\u001b[0m \u001b[0;34m\u001b[0m\u001b[0m\n",
      "\u001b[0;32m~/fastai/fastai/basic_train.py\u001b[0m in \u001b[0;36mloss_batch\u001b[0;34m(model, xb, yb, loss_fn, opt, cb_handler, metrics)\u001b[0m\n\u001b[1;32m     16\u001b[0m     \u001b[0;32mif\u001b[0m \u001b[0;32mnot\u001b[0m \u001b[0mis_listy\u001b[0m\u001b[0;34m(\u001b[0m\u001b[0mxb\u001b[0m\u001b[0;34m)\u001b[0m\u001b[0;34m:\u001b[0m \u001b[0mxb\u001b[0m \u001b[0;34m=\u001b[0m \u001b[0;34m[\u001b[0m\u001b[0mxb\u001b[0m\u001b[0;34m]\u001b[0m\u001b[0;34m\u001b[0m\u001b[0m\n\u001b[1;32m     17\u001b[0m     \u001b[0;32mif\u001b[0m \u001b[0;32mnot\u001b[0m \u001b[0mis_listy\u001b[0m\u001b[0;34m(\u001b[0m\u001b[0myb\u001b[0m\u001b[0;34m)\u001b[0m\u001b[0;34m:\u001b[0m \u001b[0myb\u001b[0m \u001b[0;34m=\u001b[0m \u001b[0;34m[\u001b[0m\u001b[0myb\u001b[0m\u001b[0;34m]\u001b[0m\u001b[0;34m\u001b[0m\u001b[0m\n\u001b[0;32m---> 18\u001b[0;31m     \u001b[0mout\u001b[0m \u001b[0;34m=\u001b[0m \u001b[0mmodel\u001b[0m\u001b[0;34m(\u001b[0m\u001b[0;34m*\u001b[0m\u001b[0mxb\u001b[0m\u001b[0;34m)\u001b[0m\u001b[0;34m\u001b[0m\u001b[0m\n\u001b[0m\u001b[1;32m     19\u001b[0m     \u001b[0mout\u001b[0m \u001b[0;34m=\u001b[0m \u001b[0mcb_handler\u001b[0m\u001b[0;34m.\u001b[0m\u001b[0mon_loss_begin\u001b[0m\u001b[0;34m(\u001b[0m\u001b[0mout\u001b[0m\u001b[0;34m)\u001b[0m\u001b[0;34m\u001b[0m\u001b[0m\n\u001b[1;32m     20\u001b[0m     \u001b[0;32mif\u001b[0m \u001b[0;32mnot\u001b[0m \u001b[0mloss_fn\u001b[0m\u001b[0;34m:\u001b[0m \u001b[0;32mreturn\u001b[0m \u001b[0mout\u001b[0m\u001b[0;34m[\u001b[0m\u001b[0;36m0\u001b[0m\u001b[0;34m]\u001b[0m\u001b[0;34m.\u001b[0m\u001b[0mdetach\u001b[0m\u001b[0;34m(\u001b[0m\u001b[0;34m)\u001b[0m\u001b[0;34m,\u001b[0m \u001b[0myb\u001b[0m\u001b[0;34m[\u001b[0m\u001b[0;36m0\u001b[0m\u001b[0;34m]\u001b[0m\u001b[0;34m.\u001b[0m\u001b[0mdetach\u001b[0m\u001b[0;34m(\u001b[0m\u001b[0;34m)\u001b[0m\u001b[0;34m\u001b[0m\u001b[0m\n",
      "\u001b[0;32m~/anaconda3/envs/fastai/lib/python3.6/site-packages/torch/nn/modules/module.py\u001b[0m in \u001b[0;36m__call__\u001b[0;34m(self, *input, **kwargs)\u001b[0m\n\u001b[1;32m    475\u001b[0m             \u001b[0mresult\u001b[0m \u001b[0;34m=\u001b[0m \u001b[0mself\u001b[0m\u001b[0;34m.\u001b[0m\u001b[0m_slow_forward\u001b[0m\u001b[0;34m(\u001b[0m\u001b[0;34m*\u001b[0m\u001b[0minput\u001b[0m\u001b[0;34m,\u001b[0m \u001b[0;34m**\u001b[0m\u001b[0mkwargs\u001b[0m\u001b[0;34m)\u001b[0m\u001b[0;34m\u001b[0m\u001b[0m\n\u001b[1;32m    476\u001b[0m         \u001b[0;32melse\u001b[0m\u001b[0;34m:\u001b[0m\u001b[0;34m\u001b[0m\u001b[0m\n\u001b[0;32m--> 477\u001b[0;31m             \u001b[0mresult\u001b[0m \u001b[0;34m=\u001b[0m \u001b[0mself\u001b[0m\u001b[0;34m.\u001b[0m\u001b[0mforward\u001b[0m\u001b[0;34m(\u001b[0m\u001b[0;34m*\u001b[0m\u001b[0minput\u001b[0m\u001b[0;34m,\u001b[0m \u001b[0;34m**\u001b[0m\u001b[0mkwargs\u001b[0m\u001b[0;34m)\u001b[0m\u001b[0;34m\u001b[0m\u001b[0m\n\u001b[0m\u001b[1;32m    478\u001b[0m         \u001b[0;32mfor\u001b[0m \u001b[0mhook\u001b[0m \u001b[0;32min\u001b[0m \u001b[0mself\u001b[0m\u001b[0;34m.\u001b[0m\u001b[0m_forward_hooks\u001b[0m\u001b[0;34m.\u001b[0m\u001b[0mvalues\u001b[0m\u001b[0;34m(\u001b[0m\u001b[0;34m)\u001b[0m\u001b[0;34m:\u001b[0m\u001b[0;34m\u001b[0m\u001b[0m\n\u001b[1;32m    479\u001b[0m             \u001b[0mhook_result\u001b[0m \u001b[0;34m=\u001b[0m \u001b[0mhook\u001b[0m\u001b[0;34m(\u001b[0m\u001b[0mself\u001b[0m\u001b[0;34m,\u001b[0m \u001b[0minput\u001b[0m\u001b[0;34m,\u001b[0m \u001b[0mresult\u001b[0m\u001b[0;34m)\u001b[0m\u001b[0;34m\u001b[0m\u001b[0m\n",
      "\u001b[0;32m~/anaconda3/envs/fastai/lib/python3.6/site-packages/torch/nn/modules/container.py\u001b[0m in \u001b[0;36mforward\u001b[0;34m(self, input)\u001b[0m\n\u001b[1;32m     90\u001b[0m     \u001b[0;32mdef\u001b[0m \u001b[0mforward\u001b[0m\u001b[0;34m(\u001b[0m\u001b[0mself\u001b[0m\u001b[0;34m,\u001b[0m \u001b[0minput\u001b[0m\u001b[0;34m)\u001b[0m\u001b[0;34m:\u001b[0m\u001b[0;34m\u001b[0m\u001b[0m\n\u001b[1;32m     91\u001b[0m         \u001b[0;32mfor\u001b[0m \u001b[0mmodule\u001b[0m \u001b[0;32min\u001b[0m \u001b[0mself\u001b[0m\u001b[0;34m.\u001b[0m\u001b[0m_modules\u001b[0m\u001b[0;34m.\u001b[0m\u001b[0mvalues\u001b[0m\u001b[0;34m(\u001b[0m\u001b[0;34m)\u001b[0m\u001b[0;34m:\u001b[0m\u001b[0;34m\u001b[0m\u001b[0m\n\u001b[0;32m---> 92\u001b[0;31m             \u001b[0minput\u001b[0m \u001b[0;34m=\u001b[0m \u001b[0mmodule\u001b[0m\u001b[0;34m(\u001b[0m\u001b[0minput\u001b[0m\u001b[0;34m)\u001b[0m\u001b[0;34m\u001b[0m\u001b[0m\n\u001b[0m\u001b[1;32m     93\u001b[0m         \u001b[0;32mreturn\u001b[0m \u001b[0minput\u001b[0m\u001b[0;34m\u001b[0m\u001b[0m\n\u001b[1;32m     94\u001b[0m \u001b[0;34m\u001b[0m\u001b[0m\n",
      "\u001b[0;32m~/anaconda3/envs/fastai/lib/python3.6/site-packages/torch/nn/modules/module.py\u001b[0m in \u001b[0;36m__call__\u001b[0;34m(self, *input, **kwargs)\u001b[0m\n\u001b[1;32m    475\u001b[0m             \u001b[0mresult\u001b[0m \u001b[0;34m=\u001b[0m \u001b[0mself\u001b[0m\u001b[0;34m.\u001b[0m\u001b[0m_slow_forward\u001b[0m\u001b[0;34m(\u001b[0m\u001b[0;34m*\u001b[0m\u001b[0minput\u001b[0m\u001b[0;34m,\u001b[0m \u001b[0;34m**\u001b[0m\u001b[0mkwargs\u001b[0m\u001b[0;34m)\u001b[0m\u001b[0;34m\u001b[0m\u001b[0m\n\u001b[1;32m    476\u001b[0m         \u001b[0;32melse\u001b[0m\u001b[0;34m:\u001b[0m\u001b[0;34m\u001b[0m\u001b[0m\n\u001b[0;32m--> 477\u001b[0;31m             \u001b[0mresult\u001b[0m \u001b[0;34m=\u001b[0m \u001b[0mself\u001b[0m\u001b[0;34m.\u001b[0m\u001b[0mforward\u001b[0m\u001b[0;34m(\u001b[0m\u001b[0;34m*\u001b[0m\u001b[0minput\u001b[0m\u001b[0;34m,\u001b[0m \u001b[0;34m**\u001b[0m\u001b[0mkwargs\u001b[0m\u001b[0;34m)\u001b[0m\u001b[0;34m\u001b[0m\u001b[0m\n\u001b[0m\u001b[1;32m    478\u001b[0m         \u001b[0;32mfor\u001b[0m \u001b[0mhook\u001b[0m \u001b[0;32min\u001b[0m \u001b[0mself\u001b[0m\u001b[0;34m.\u001b[0m\u001b[0m_forward_hooks\u001b[0m\u001b[0;34m.\u001b[0m\u001b[0mvalues\u001b[0m\u001b[0;34m(\u001b[0m\u001b[0;34m)\u001b[0m\u001b[0;34m:\u001b[0m\u001b[0;34m\u001b[0m\u001b[0m\n\u001b[1;32m    479\u001b[0m             \u001b[0mhook_result\u001b[0m \u001b[0;34m=\u001b[0m \u001b[0mhook\u001b[0m\u001b[0;34m(\u001b[0m\u001b[0mself\u001b[0m\u001b[0;34m,\u001b[0m \u001b[0minput\u001b[0m\u001b[0;34m,\u001b[0m \u001b[0mresult\u001b[0m\u001b[0;34m)\u001b[0m\u001b[0;34m\u001b[0m\u001b[0m\n",
      "\u001b[0;32m~/fastai/fastai/text/models.py\u001b[0m in \u001b[0;36mforward\u001b[0;34m(self, input)\u001b[0m\n\u001b[1;32m    178\u001b[0m                 \u001b[0mraw_outputs\u001b[0m\u001b[0;34m.\u001b[0m\u001b[0mappend\u001b[0m\u001b[0;34m(\u001b[0m\u001b[0mr\u001b[0m\u001b[0;34m)\u001b[0m\u001b[0;34m\u001b[0m\u001b[0m\n\u001b[1;32m    179\u001b[0m                 \u001b[0moutputs\u001b[0m\u001b[0;34m.\u001b[0m\u001b[0mappend\u001b[0m\u001b[0;34m(\u001b[0m\u001b[0mo\u001b[0m\u001b[0;34m)\u001b[0m\u001b[0;34m\u001b[0m\u001b[0m\n\u001b[0;32m--> 180\u001b[0;31m         \u001b[0;32mreturn\u001b[0m \u001b[0mself\u001b[0m\u001b[0;34m.\u001b[0m\u001b[0mconcat\u001b[0m\u001b[0;34m(\u001b[0m\u001b[0mraw_outputs\u001b[0m\u001b[0;34m)\u001b[0m\u001b[0;34m,\u001b[0m \u001b[0mself\u001b[0m\u001b[0;34m.\u001b[0m\u001b[0mconcat\u001b[0m\u001b[0;34m(\u001b[0m\u001b[0moutputs\u001b[0m\u001b[0;34m)\u001b[0m\u001b[0;34m\u001b[0m\u001b[0m\n\u001b[0m\u001b[1;32m    181\u001b[0m \u001b[0;34m\u001b[0m\u001b[0m\n\u001b[1;32m    182\u001b[0m \u001b[0;32mclass\u001b[0m \u001b[0mPoolingLinearClassifier\u001b[0m\u001b[0;34m(\u001b[0m\u001b[0mnn\u001b[0m\u001b[0;34m.\u001b[0m\u001b[0mModule\u001b[0m\u001b[0;34m)\u001b[0m\u001b[0;34m:\u001b[0m\u001b[0;34m\u001b[0m\u001b[0m\n",
      "\u001b[0;32m~/fastai/fastai/text/models.py\u001b[0m in \u001b[0;36mconcat\u001b[0;34m(self, arrs)\u001b[0m\n\u001b[1;32m    167\u001b[0m     \u001b[0;32mdef\u001b[0m \u001b[0mconcat\u001b[0m\u001b[0;34m(\u001b[0m\u001b[0mself\u001b[0m\u001b[0;34m,\u001b[0m \u001b[0marrs\u001b[0m\u001b[0;34m:\u001b[0m\u001b[0mCollection\u001b[0m\u001b[0;34m[\u001b[0m\u001b[0mTensor\u001b[0m\u001b[0;34m]\u001b[0m\u001b[0;34m)\u001b[0m \u001b[0;34m->\u001b[0m \u001b[0mTensor\u001b[0m\u001b[0;34m:\u001b[0m\u001b[0;34m\u001b[0m\u001b[0m\n\u001b[1;32m    168\u001b[0m         \u001b[0;34m\"Concatenate the `arrs` along the batch dimension.\"\u001b[0m\u001b[0;34m\u001b[0m\u001b[0m\n\u001b[0;32m--> 169\u001b[0;31m         \u001b[0;32mreturn\u001b[0m \u001b[0;34m[\u001b[0m\u001b[0mtorch\u001b[0m\u001b[0;34m.\u001b[0m\u001b[0mcat\u001b[0m\u001b[0;34m(\u001b[0m\u001b[0;34m[\u001b[0m\u001b[0ml\u001b[0m\u001b[0;34m[\u001b[0m\u001b[0msi\u001b[0m\u001b[0;34m]\u001b[0m \u001b[0;32mfor\u001b[0m \u001b[0ml\u001b[0m \u001b[0;32min\u001b[0m \u001b[0marrs\u001b[0m\u001b[0;34m]\u001b[0m\u001b[0;34m)\u001b[0m \u001b[0;32mfor\u001b[0m \u001b[0msi\u001b[0m \u001b[0;32min\u001b[0m \u001b[0mrange_of\u001b[0m\u001b[0;34m(\u001b[0m\u001b[0marrs\u001b[0m\u001b[0;34m[\u001b[0m\u001b[0;36m0\u001b[0m\u001b[0;34m]\u001b[0m\u001b[0;34m)\u001b[0m\u001b[0;34m]\u001b[0m\u001b[0;34m\u001b[0m\u001b[0m\n\u001b[0m\u001b[1;32m    170\u001b[0m \u001b[0;34m\u001b[0m\u001b[0m\n\u001b[1;32m    171\u001b[0m     \u001b[0;32mdef\u001b[0m \u001b[0mforward\u001b[0m\u001b[0;34m(\u001b[0m\u001b[0mself\u001b[0m\u001b[0;34m,\u001b[0m \u001b[0minput\u001b[0m\u001b[0;34m:\u001b[0m\u001b[0mLongTensor\u001b[0m\u001b[0;34m)\u001b[0m \u001b[0;34m->\u001b[0m \u001b[0mTuple\u001b[0m\u001b[0;34m[\u001b[0m\u001b[0mTensor\u001b[0m\u001b[0;34m,\u001b[0m\u001b[0mTensor\u001b[0m\u001b[0;34m]\u001b[0m\u001b[0;34m:\u001b[0m\u001b[0;34m\u001b[0m\u001b[0m\n",
      "\u001b[0;31mIndexError\u001b[0m: list index out of range"
     ]
    },
    {
     "data": {
      "image/png": "[encoded data removed]",
      "text/plain": [
       "<Figure size 432x288 with 1 Axes>"
      ]
     },
     "metadata": {
      "needs_background": "light"
     },
     "output_type": "display_data"
    }
   ],
   "source": [
    "%time learn.lr_find(start_lr=1e-3, end_lr=1e-1, num_it=1)\n",
    "learn.recorder.plot()"
   ]
  },
  {
   "cell_type": "code",
   "execution_count": null,
   "metadata": {},
   "outputs": [],
   "source": []
  },
  {
   "cell_type": "code",
   "execution_count": null,
   "metadata": {},
   "outputs": [],
   "source": []
  },
  {
   "cell_type": "code",
   "execution_count": null,
   "metadata": {},
   "outputs": [],
   "source": []
  },
  {
   "cell_type": "code",
   "execution_count": null,
   "metadata": {},
   "outputs": [],
   "source": []
  },
  {
   "cell_type": "code",
   "execution_count": null,
   "metadata": {},
   "outputs": [],
   "source": []
  },
  {
   "cell_type": "code",
   "execution_count": null,
   "metadata": {},
   "outputs": [],
   "source": []
  },
  {
   "cell_type": "code",
   "execution_count": null,
   "metadata": {},
   "outputs": [],
   "source": [
    "learn.fit_one_cycle(1, 1e-1)"
   ]
  },
  {
   "cell_type": "code",
   "execution_count": null,
   "metadata": {},
   "outputs": [],
   "source": [
    "learn.freeze_to(-2)\n",
    "learn.fit_one_cycle(1, slice(1e-1, 1e-3))"
   ]
  },
  {
   "cell_type": "code",
   "execution_count": null,
   "metadata": {},
   "outputs": [],
   "source": []
  },
  {
   "cell_type": "code",
   "execution_count": null,
   "metadata": {},
   "outputs": [],
   "source": []
  },
  {
   "cell_type": "code",
   "execution_count": null,
   "metadata": {},
   "outputs": [],
   "source": []
  },
  {
   "cell_type": "code",
   "execution_count": null,
   "metadata": {},
   "outputs": [],
   "source": []
  },
  {
   "cell_type": "code",
   "execution_count": null,
   "metadata": {
    "hidden": true
   },
   "outputs": [],
   "source": [
    "tfms = tfms_from_model(resnet34, sz, aug_tfms=transforms_side_on, max_zoom=0.1, crop_type=CropType.NO)"
   ]
  },
  {
   "cell_type": "code",
   "execution_count": null,
   "metadata": {
    "hidden": true
   },
   "outputs": [],
   "source": [
    "def get_augs():\n",
    "    data = ImageClassifierData.from_paths(PATH, bs=2, tfms=tfms, num_workers=1)\n",
    "    x,_ = next(iter(data.aug_dl))\n",
    "    return data.trn_ds.denorm(x)[1]"
   ]
  },
  {
   "cell_type": "code",
   "execution_count": null,
   "metadata": {
    "hidden": true
   },
   "outputs": [],
   "source": [
    "ims = np.stack([get_augs() for i in range(6)])"
   ]
  },
  {
   "cell_type": "code",
   "execution_count": null,
   "metadata": {
    "hidden": true
   },
   "outputs": [],
   "source": [
    "plots(ims, rows=2)"
   ]
  },
  {
   "cell_type": "markdown",
   "metadata": {
    "hidden": true
   },
   "source": [
    "Let's create a new `data` object that includes this augmentation in the transforms."
   ]
  },
  {
   "cell_type": "code",
   "execution_count": null,
   "metadata": {
    "hidden": true
   },
   "outputs": [],
   "source": [
    "data = ImageClassifierData.from_paths(PATH, tfms=tfms)\n",
    "learn = ConvLearner.pretrained(arch, data, precompute=True)"
   ]
  },
  {
   "cell_type": "code",
   "execution_count": null,
   "metadata": {
    "hidden": true
   },
   "outputs": [],
   "source": [
    "learn.fit(1e-3, 3)"
   ]
  },
  {
   "cell_type": "code",
   "execution_count": null,
   "metadata": {
    "hidden": true
   },
   "outputs": [],
   "source": [
    "learn.precompute=False"
   ]
  },
  {
   "cell_type": "markdown",
   "metadata": {
    "hidden": true
   },
   "source": [
    "By default when we create a learner, it sets all but the last layer to *frozen*. That means that it's still only updating the weights in the last layer when we call `fit`."
   ]
  },
  {
   "cell_type": "code",
   "execution_count": null,
   "metadata": {
    "hidden": true
   },
   "outputs": [],
   "source": [
    "learn.fit(5e-3, 4, cycle_len=1)"
   ]
  },
  {
   "cell_type": "markdown",
   "metadata": {
    "hidden": true
   },
   "source": [
    "What is that `cycle_len` parameter? What we've done here is used a technique called *stochastic gradient descent with restarts (SGDR)*, a variant of *learning rate annealing*, which gradually decreases the learning rate as training progresses. This is helpful because as we get closer to the optimal weights, we want to take smaller steps.\n",
    "\n",
    "However, we may find ourselves in a part of the weight space that isn't very resilient - that is, small changes to the weights may result in big changes to the loss. We want to encourage our model to find parts of the weight space that are both accurate and stable. Therefore, from time to time we increase the learning rate (this is the 'restarts' in 'SGDR'), which will force the model to jump to a different part of the weight space if the current area is \"spikey\". Here's a picture of how that might look if we reset the learning rates 3 times (in this paper they call it a \"cyclic LR schedule\"):\n",
    "\n",
    "<img src=\"images/sgdr.png\" width=\"80%\">\n",
    "(From the paper [Snapshot Ensembles](https://arxiv.org/abs/1704.00109)).\n",
    "\n",
    "The number of epochs between resetting the learning rate is set by `cycle_len`, and the number of times this happens is refered to as the *number of cycles*, and is what we're actually passing as the 2nd parameter to `fit()`. So here's what our actual learning rates looked like:"
   ]
  },
  {
   "cell_type": "code",
   "execution_count": null,
   "metadata": {
    "hidden": true
   },
   "outputs": [],
   "source": [
    "learn.sched.plot_lr()"
   ]
  },
  {
   "cell_type": "code",
   "execution_count": null,
   "metadata": {},
   "outputs": [],
   "source": [
    "learn.sched.plot_loss()"
   ]
  },
  {
   "cell_type": "code",
   "execution_count": null,
   "metadata": {},
   "outputs": [],
   "source": []
  },
  {
   "cell_type": "markdown",
   "metadata": {
    "hidden": true
   },
   "source": [
    "Our validation loss isn't improving much, so there's probably no point further training the last layer on its own."
   ]
  },
  {
   "cell_type": "markdown",
   "metadata": {
    "hidden": true
   },
   "source": [
    "Since we've got a pretty good model at this point, we might want to save it so we can load it again later without training it from scratch."
   ]
  },
  {
   "cell_type": "code",
   "execution_count": null,
   "metadata": {
    "hidden": true
   },
   "outputs": [],
   "source": [
    "learn.save('224_lastlayer')"
   ]
  },
  {
   "cell_type": "code",
   "execution_count": null,
   "metadata": {
    "hidden": true
   },
   "outputs": [],
   "source": [
    "learn.load('224_lastlayer')"
   ]
  },
  {
   "cell_type": "markdown",
   "metadata": {
    "heading_collapsed": true
   },
   "source": [
    "### Fine-tuning and differential learning rate annealing"
   ]
  },
  {
   "cell_type": "markdown",
   "metadata": {
    "hidden": true
   },
   "source": [
    "Now that we have a good final layer trained, we can try fine-tuning the other layers. To tell the learner that we want to unfreeze the remaining layers, just call (surprise surprise!) `unfreeze()`."
   ]
  },
  {
   "cell_type": "code",
   "execution_count": null,
   "metadata": {
    "hidden": true
   },
   "outputs": [],
   "source": [
    "learn.unfreeze()"
   ]
  },
  {
   "cell_type": "markdown",
   "metadata": {
    "hidden": true
   },
   "source": [
    "Note that the other layers have *already* been trained to recognize imagenet photos (whereas our final layers where randomly initialized), so we want to be careful of not destroying the carefully tuned weights that are already there.\n",
    "\n",
    "Generally speaking, the earlier layers (as we've seen) have more general-purpose features. Therefore we would expect them to need less fine-tuning for new datasets. For this reason we will use different learning rates for different layers: the first few layers will be at 1e-4, the middle layers at 1e-3, and our FC layers we'll leave at 1e-2 as before. We refer to this as *differential learning rates*, although there's no standard name for this techique in the literature that we're aware of."
   ]
  },
  {
   "cell_type": "code",
   "execution_count": null,
   "metadata": {},
   "outputs": [],
   "source": [
    "#  initially ran with both, see if it works with just the latter one\n",
    "# lr=np.array([1e-4,2e-3,1e-3])"
   ]
  },
  {
   "cell_type": "code",
   "execution_count": null,
   "metadata": {
    "hidden": true
   },
   "outputs": [],
   "source": [
    "lr=np.array([1e-3,1e-2,1e-1])"
   ]
  },
  {
   "cell_type": "code",
   "execution_count": null,
   "metadata": {
    "hidden": true
   },
   "outputs": [],
   "source": [
    "learn.fit(lr, 4, cycle_len=1, cycle_mult=2)"
   ]
  },
  {
   "cell_type": "markdown",
   "metadata": {
    "hidden": true
   },
   "source": [
    "Another trick we've used here is adding the `cycle_mult` parameter. Take a look at the following chart, and see if you can figure out what the parameter is doing:"
   ]
  },
  {
   "cell_type": "code",
   "execution_count": null,
   "metadata": {
    "hidden": true
   },
   "outputs": [],
   "source": [
    "learn.sched.plot_lr()"
   ]
  },
  {
   "cell_type": "markdown",
   "metadata": {
    "hidden": true
   },
   "source": [
    "Note that's what being plotted above is the learning rate of the *final layers*. The learning rates of the earlier layers are fixed at the same multiples of the final layer rates as we initially requested (i.e. the first layers have 100x smaller, and middle layers 10x smaller learning rates, since we set `lr=np.array([1e-4,1e-3,1e-2])`."
   ]
  },
  {
   "cell_type": "code",
   "execution_count": null,
   "metadata": {
    "hidden": true
   },
   "outputs": [],
   "source": [
    "learn.save('224_all')\n",
    "learn.save('thebestmtgyet')"
   ]
  },
  {
   "cell_type": "code",
   "execution_count": null,
   "metadata": {
    "hidden": true
   },
   "outputs": [],
   "source": [
    "learn.load('224_all')"
   ]
  },
  {
   "cell_type": "markdown",
   "metadata": {
    "hidden": true
   },
   "source": [
    "There is something else we can do with data augmentation: use it at *inference* time (also known as *test* time). Not surprisingly, this is known as *test time augmentation*, or just *TTA*.\n",
    "\n",
    "TTA simply makes predictions not just on the images in your validation set, but also makes predictions on a number of randomly augmented versions of them too (by default, it uses the original image along with 4 randomly augmented versions). It then takes the average prediction from these images, and uses that. To use TTA on the validation set, we can use the learner's `TTA()` method."
   ]
  },
  {
   "cell_type": "code",
   "execution_count": null,
   "metadata": {
    "hidden": true
   },
   "outputs": [],
   "source": [
    "log_preds,y = learn.TTA()\n",
    "probs = np.mean(np.exp(log_preds),0)"
   ]
  },
  {
   "cell_type": "code",
   "execution_count": null,
   "metadata": {
    "hidden": true
   },
   "outputs": [],
   "source": [
    "accuracy_np(probs, y)"
   ]
  },
  {
   "cell_type": "markdown",
   "metadata": {
    "hidden": true
   },
   "source": [
    "I generally see about a 10-20% reduction in error on this dataset when using TTA at this point, which is an amazing result for such a quick and easy technique!"
   ]
  },
  {
   "cell_type": "markdown",
   "metadata": {},
   "source": [
    "## Analyzing results"
   ]
  },
  {
   "cell_type": "markdown",
   "metadata": {
    "heading_collapsed": true
   },
   "source": [
    "### Confusion matrix "
   ]
  },
  {
   "cell_type": "code",
   "execution_count": null,
   "metadata": {
    "hidden": true
   },
   "outputs": [],
   "source": [
    "preds = np.argmax(probs, axis=1)\n",
    "probs = probs[:,1]"
   ]
  },
  {
   "cell_type": "markdown",
   "metadata": {
    "hidden": true
   },
   "source": [
    "A common way to analyze the result of a classification model is to use a [confusion matrix](http://www.dataschool.io/simple-guide-to-confusion-matrix-terminology/). Scikit-learn has a convenient function we can use for this purpose:"
   ]
  },
  {
   "cell_type": "code",
   "execution_count": null,
   "metadata": {
    "hidden": true
   },
   "outputs": [],
   "source": [
    "from sklearn.metrics import confusion_matrix\n",
    "cm = confusion_matrix(y, preds)"
   ]
  },
  {
   "cell_type": "markdown",
   "metadata": {
    "hidden": true
   },
   "source": [
    "We can just print out the confusion matrix, or we can show a graphical view (which is mainly useful for dependents with a larger number of categories)."
   ]
  },
  {
   "cell_type": "code",
   "execution_count": null,
   "metadata": {
    "hidden": true
   },
   "outputs": [],
   "source": [
    "plot_confusion_matrix(cm, data.classes)"
   ]
  },
  {
   "cell_type": "markdown",
   "metadata": {
    "heading_collapsed": true
   },
   "source": [
    "### Looking at pictures again"
   ]
  },
  {
   "cell_type": "code",
   "execution_count": null,
   "metadata": {
    "hidden": true
   },
   "outputs": [],
   "source": [
    "plot_val_with_title(most_by_correct(0, False), \"Most incorrect cats\")"
   ]
  },
  {
   "cell_type": "code",
   "execution_count": null,
   "metadata": {
    "hidden": true
   },
   "outputs": [],
   "source": [
    "plot_val_with_title(most_by_correct(1, False), \"Most incorrect dogs\")"
   ]
  },
  {
   "cell_type": "markdown",
   "metadata": {
    "heading_collapsed": true
   },
   "source": [
    "## Review: easy steps to train a world-class image classifier"
   ]
  },
  {
   "cell_type": "markdown",
   "metadata": {
    "hidden": true
   },
   "source": [
    "1. precompute=True\n",
    "1. Use `lr_find()` to find highest learning rate where loss is still clearly improving\n",
    "1. Train last layer from precomputed activations for 1-2 epochs\n",
    "1. Train last layer with data augmentation (i.e. precompute=False) for 2-3 epochs with cycle_len=1\n",
    "1. Unfreeze all layers\n",
    "1. Set earlier layers to 3x-10x lower learning rate than next higher layer\n",
    "1. Use `lr_find()` again\n",
    "1. Train full network with cycle_mult=2 until over-fitting"
   ]
  },
  {
   "cell_type": "markdown",
   "metadata": {
    "heading_collapsed": true
   },
   "source": [
    "## Understanding the code for our first model"
   ]
  },
  {
   "cell_type": "markdown",
   "metadata": {
    "hidden": true
   },
   "source": [
    "Let's look at the Dogs v Cats code line by line.\n",
    "\n",
    "**tfms** stands for *transformations*. `tfms_from_model` takes care of resizing, image cropping, initial normalization (creating data with (mean,stdev) of (0,1)), and more."
   ]
  },
  {
   "cell_type": "code",
   "execution_count": null,
   "metadata": {
    "hidden": true
   },
   "outputs": [],
   "source": [
    "tfms = tfms_from_model(resnet34, sz, crop_type=CropType.GOOGLENET)"
   ]
  },
  {
   "cell_type": "markdown",
   "metadata": {
    "hidden": true
   },
   "source": [
    "We need a <b>path</b> that points to the dataset. In this path we will also store temporary data and final results. `ImageClassifierData.from_paths` reads data from a provided path and creates a dataset ready for training."
   ]
  },
  {
   "cell_type": "code",
   "execution_count": null,
   "metadata": {
    "hidden": true
   },
   "outputs": [],
   "source": [
    "data = ImageClassifierData.from_paths(PATH, tfms=tfms)"
   ]
  },
  {
   "cell_type": "markdown",
   "metadata": {
    "hidden": true
   },
   "source": [
    "`ConvLearner.pretrained` builds *learner* that contains a pre-trained model. The last layer of the model needs to be replaced with the layer of the right dimensions. The pretained model was trained for 1000 classes therfore the final layer predicts a vector of 1000 probabilities. The model for cats and dogs needs to output a two dimensional vector. The diagram below shows in an example how this was done in one of the earliest successful CNNs. The layer \"FC8\" here would get replaced with a new layer with 2 outputs.\n",
    "\n",
    "<img src=\"images/pretrained.png\" width=\"500\">\n",
    "[original image](https://image.slidesharecdn.com/practicaldeeplearning-160329181459/95/practical-deep-learning-16-638.jpg)"
   ]
  },
  {
   "cell_type": "code",
   "execution_count": null,
   "metadata": {
    "hidden": true
   },
   "outputs": [],
   "source": [
    "learn = ConvLearner.pretrained(resnet34, data, precompute=True)"
   ]
  },
  {
   "cell_type": "markdown",
   "metadata": {
    "hidden": true
   },
   "source": [
    "\n",
    "*Parameters*  are learned by fitting a model to the data. *Hyperparameters* are another kind of parameter, that cannot be directly learned from the regular training process. These parameters express “higher-level” properties of the model such as its complexity or how fast it should learn. Two examples of hyperparameters are the *learning rate* and the *number of epochs*.\n",
    "\n",
    "During iterative training of a neural network, a *batch* or *mini-batch* is a subset of training samples used in one iteration of Stochastic Gradient Descent (SGD). An *epoch* is a single pass through the entire training set which consists of multiple iterations of SGD.\n",
    "\n",
    "We can now *fit* the model; that is, use *gradient descent* to find the best parameters for the fully connected layer we added, that can separate cat pictures from dog pictures. We need to pass two hyperameters: the *learning rate* (generally 1e-2 or 1e-3 is a good starting point, we'll look more at this next) and the *number of epochs* (you can pass in a higher number and just stop training when you see it's no longer improving, then re-run it with the number of epochs you found works well.)"
   ]
  },
  {
   "cell_type": "code",
   "execution_count": null,
   "metadata": {
    "hidden": true
   },
   "outputs": [],
   "source": [
    "learn.fit(1e-10, 3)"
   ]
  },
  {
   "cell_type": "markdown",
   "metadata": {
    "heading_collapsed": true
   },
   "source": [
    "## Analyzing results: loss and accuracy"
   ]
  },
  {
   "cell_type": "markdown",
   "metadata": {
    "hidden": true
   },
   "source": [
    "When we run `learn.fit` we print 3 performance values (see above.) Here 0.03 is the value of the **loss** in the training set, 0.0226 is the value of the loss in the validation set and 0.9927 is the validation accuracy. What is the loss? What is accuracy? Why not to just show accuracy?\n",
    "\n",
    "**Accuracy** is the ratio of correct prediction to the total number of predictions.\n",
    "\n",
    "In machine learning the **loss** function or cost function is representing the price paid for inaccuracy of predictions.\n",
    "\n",
    "The loss associated with one example in binary classification is given by:\n",
    "`-(y * log(p) + (1-y) * log (1-p))`\n",
    "where `y` is the true label of `x` and `p` is the probability predicted by our model that the label is 1."
   ]
  },
  {
   "cell_type": "code",
   "execution_count": null,
   "metadata": {
    "hidden": true
   },
   "outputs": [],
   "source": [
    "def binary_loss(y, p):\n",
    "    return np.mean(-(y * np.log(p) + (1-y)*np.log(1-p)))"
   ]
  },
  {
   "cell_type": "code",
   "execution_count": null,
   "metadata": {
    "hidden": true
   },
   "outputs": [],
   "source": [
    "acts = np.array([1, 0, 0, 1])\n",
    "preds = np.array([0.9, 0.1, 0.2, 0.8])\n",
    "binary_loss(acts, preds)"
   ]
  },
  {
   "cell_type": "markdown",
   "metadata": {
    "hidden": true
   },
   "source": [
    "Note that in our toy example above our accuracy is 100% and our loss is 0.16. Compare that to a loss of 0.03 that we are getting while predicting cats and dogs. Exercise: play with `preds` to get a lower loss for this example. \n",
    "\n",
    "**Example:** Here is an example on how to compute the loss for one example of binary classification problem. Suppose for an image x with label 1 and your model gives it a prediction of 0.9. For this case the loss should be small because our model is predicting a label $1$ with high probability.\n",
    "\n",
    "`loss = -log(0.9) = 0.10`\n",
    "\n",
    "Now suppose x has label 0 but our model is predicting 0.9. In this case our loss should be much larger.\n",
    "\n",
    "loss = -log(1-0.9) = 2.30\n",
    "\n",
    "- Exercise: look at the other cases and convince yourself that this make sense.\n",
    "- Exercise: how would you rewrite `binary_loss` using `if` instead of `*` and `+`?\n",
    "\n",
    "Why not just maximize accuracy? The binary classification loss is an easier function to optimize."
   ]
  },
  {
   "cell_type": "code",
   "execution_count": null,
   "metadata": {
    "hidden": true
   },
   "outputs": [],
   "source": [
    "loss=-log(.16425)"
   ]
  },
  {
   "cell_type": "code",
   "execution_count": null,
   "metadata": {},
   "outputs": [],
   "source": []
  }
 ],
 "metadata": {
  "kernelspec": {
   "display_name": "Python 3",
   "language": "python",
   "name": "python3"
  },
  "language_info": {
   "codemirror_mode": {
    "name": "ipython",
    "version": 3
   },
   "file_extension": ".py",
   "mimetype": "text/x-python",
   "name": "python",
   "nbconvert_exporter": "python",
   "pygments_lexer": "ipython3",
   "version": "3.6.6"
  },
  "toc": {
   "colors": {
    "hover_highlight": "#DAA520",
    "navigate_num": "#000000",
    "navigate_text": "#333333",
    "running_highlight": "#FF0000",
    "selected_highlight": "#FFD700",
    "sidebar_border": "#EEEEEE",
    "wrapper_background": "#FFFFFF"
   },
   "moveMenuLeft": true,
   "nav_menu": {
    "height": "266px",
    "width": "252px"
   },
   "navigate_menu": true,
   "number_sections": true,
   "sideBar": true,
   "threshold": 4,
   "toc_cell": false,
   "toc_section_display": "block",
   "toc_window_display": false,
   "widenNotebook": false
  },
  "widgets": {
   "application/vnd.jupyter.widget-state+json": {
    "state": {
     "001af635924c4a9fbad4c4f02a7ddf48": {
      "model_module": "@jupyter-widgets/base",
      "model_module_version": "1.1.0",
      "model_name": "LayoutModel",
      "state": {}
     },
     "00da7918a5ad4d91aa7d70cddb2ab550": {
      "model_module": "@jupyter-widgets/controls",
      "model_module_version": "1.4.0",
      "model_name": "HBoxModel",
      "state": {
       "children": [
        "IPY_MODEL_6ee23ddc40e7404f8e65707de752d1b5",
        "IPY_MODEL_7fafdfc021724c428d06c1cc0af7219f"
       ],
       "layout": "IPY_MODEL_b04bb319e071432687a14d5531a5e6d6"
      }
     },
     "00e48a278dbc41469f8d17109f7ff0f0": {
      "model_module": "@jupyter-widgets/controls",
      "model_module_version": "1.4.0",
      "model_name": "HBoxModel",
      "state": {
       "children": [
        "IPY_MODEL_d9dcd947f9e44eff8e686e8b90044048",
        "IPY_MODEL_9aa7f79c9b56461ab9acfd032596bd64"
       ],
       "layout": "IPY_MODEL_020db32585e842878bea5273766c42f6"
      }
     },
     "018e6207857044809e4ca9db0c519573": {
      "model_module": "@jupyter-widgets/controls",
      "model_module_version": "1.4.0",
      "model_name": "HTMLModel",
      "state": {
       "layout": "IPY_MODEL_4d4027fe40fa4e63922f6193c029fb1d",
       "style": "IPY_MODEL_8449eb896a1647f99749861346d79991",
       "value": "epoch  train loss  valid loss  accuracy<p>"
      }
     },
     "01964af2fc2943e494ab45a42227b6af": {
      "model_module": "@jupyter-widgets/base",
      "model_module_version": "1.1.0",
      "model_name": "LayoutModel",
      "state": {}
     },
     "01d73821ec044a628313f655485b8256": {
      "model_module": "@jupyter-widgets/controls",
      "model_module_version": "1.4.0",
      "model_name": "HTMLModel",
      "state": {
       "layout": "IPY_MODEL_a77ad55b543e4d319f16ddbe62534f95",
       "style": "IPY_MODEL_ffbdfdf80b2b49d9bb19e47ff3523d18",
       "value": "epoch  train loss  valid loss  accuracy<p>"
      }
     },
     "01dcf685e13b4c92a2a2a2c0395a3e2d": {
      "model_module": "@jupyter-widgets/base",
      "model_module_version": "1.1.0",
      "model_name": "LayoutModel",
      "state": {}
     },
     "02070af33f6d44b6b22347aba4a4aad9": {
      "model_module": "@jupyter-widgets/base",
      "model_module_version": "1.1.0",
      "model_name": "LayoutModel",
      "state": {}
     },
     "020db32585e842878bea5273766c42f6": {
      "model_module": "@jupyter-widgets/base",
      "model_module_version": "1.1.0",
      "model_name": "LayoutModel",
      "state": {}
     },
     "023994e107c94a80a7a4da856cf36880": {
      "model_module": "@jupyter-widgets/controls",
      "model_module_version": "1.4.0",
      "model_name": "HTMLModel",
      "state": {
       "layout": "IPY_MODEL_fa8994316a4c4928bcc65b73588c68b0",
       "style": "IPY_MODEL_647dc3f48e2649ddbac7211fdf47bdcd",
       "value": "6.39% [99/1550 00:15<03:39 20.7004]"
      }
     },
     "0259fdf36d314569b167e2fa775a6a02": {
      "model_module": "@jupyter-widgets/controls",
      "model_module_version": "1.4.0",
      "model_name": "ProgressStyleModel",
      "state": {
       "description_width": ""
      }
     },
     "034e34e3c4f143da90b40d1d8ba11547": {
      "model_module": "@jupyter-widgets/controls",
      "model_module_version": "1.4.0",
      "model_name": "ProgressStyleModel",
      "state": {
       "description_width": ""
      }
     },
     "036c86ae3d85443cad1d1d6ba4633fc8": {
      "model_module": "@jupyter-widgets/controls",
      "model_module_version": "1.4.0",
      "model_name": "HBoxModel",
      "state": {
       "children": [
        "IPY_MODEL_caca3cb6759643f3b4093f02f366f21e",
        "IPY_MODEL_e5f46613e1264a0b8a8586d608bde4a3"
       ],
       "layout": "IPY_MODEL_bc812412cb0640b886651d4ae2874468"
      }
     },
     "0375285aed1b4fe1b0e1a423ff95d0b6": {
      "model_module": "@jupyter-widgets/controls",
      "model_module_version": "1.4.0",
      "model_name": "IntProgressModel",
      "state": {
       "layout": "IPY_MODEL_3069116685174e0ca5acca87a5df24ae",
       "max": 3501,
       "style": "IPY_MODEL_a280d1f3704e4317bf9259bf1298b066",
       "value": 2479
      }
     },
     "0396b29c6a954775a76de69ade6f4532": {
      "model_module": "@jupyter-widgets/base",
      "model_module_version": "1.1.0",
      "model_name": "LayoutModel",
      "state": {}
     },
     "03ceec04e3374a368263fc9d4bf14c91": {
      "model_module": "@jupyter-widgets/controls",
      "model_module_version": "1.4.0",
      "model_name": "HTMLModel",
      "state": {
       "layout": "IPY_MODEL_1884f51b72aa48279040e6be44ed87a3",
       "style": "IPY_MODEL_e753f305f7b143a48988ebcd338801c3",
       "value": "100.00% [3501/3501 03:50<00:00]"
      }
     },
     "03eabd7b619e43e389230e55f9309b48": {
      "model_module": "@jupyter-widgets/controls",
      "model_module_version": "1.4.0",
      "model_name": "DescriptionStyleModel",
      "state": {
       "description_width": ""
      }
     },
     "047e439b3cc4441287eb9faac4799433": {
      "model_module": "@jupyter-widgets/controls",
      "model_module_version": "1.4.0",
      "model_name": "ProgressStyleModel",
      "state": {
       "description_width": ""
      }
     },
     "04c349a52b8e49318724e9b24b410157": {
      "model_module": "@jupyter-widgets/controls",
      "model_module_version": "1.4.0",
      "model_name": "HBoxModel",
      "state": {
       "children": [
        "IPY_MODEL_f6ee8ae8107d42788ef7233dacec9843",
        "IPY_MODEL_dd3b042ff92c4e4ab344eab960c0f577"
       ],
       "layout": "IPY_MODEL_9167f7cee58946b8b4652f3f7f8820ad"
      }
     },
     "04f4207615b54e17b11c191abc43f712": {
      "model_module": "@jupyter-widgets/base",
      "model_module_version": "1.1.0",
      "model_name": "LayoutModel",
      "state": {}
     },
     "0528063cb4494f449eb34a6194e7f16b": {
      "model_module": "@jupyter-widgets/base",
      "model_module_version": "1.1.0",
      "model_name": "LayoutModel",
      "state": {}
     },
     "05764048b96d4b4097c8d8f19256468d": {
      "model_module": "@jupyter-widgets/controls",
      "model_module_version": "1.4.0",
      "model_name": "HBoxModel",
      "state": {
       "children": [
        "IPY_MODEL_88caed451fb74d34b30b274fa67682fe",
        "IPY_MODEL_8d3ec4e92ec54be289d1a4e63ba8443d"
       ],
       "layout": "IPY_MODEL_b03212af3d464cf8a8633738f0c3a8b7"
      }
     },
     "058789f83148405ca749cac6267e3aef": {
      "model_module": "@jupyter-widgets/controls",
      "model_module_version": "1.4.0",
      "model_name": "ProgressStyleModel",
      "state": {
       "description_width": ""
      }
     },
     "0658c90184a948468b5c8ef11eb1dc5a": {
      "model_module": "@jupyter-widgets/controls",
      "model_module_version": "1.4.0",
      "model_name": "HTMLModel",
      "state": {
       "layout": "IPY_MODEL_6d1606891f6b4a9fb0b401b0ba35b761",
       "style": "IPY_MODEL_57f877aca4e1428bb7ec3560319d91b3",
       "value": "100.00% [3501/3501 03:51<00:00]"
      }
     },
     "06a27395255e4afbb3a8525d9c83da43": {
      "model_module": "@jupyter-widgets/controls",
      "model_module_version": "1.4.0",
      "model_name": "HBoxModel",
      "state": {
       "children": [
        "IPY_MODEL_080317f5275a4bdcb7f571c836306d06",
        "IPY_MODEL_465738d270ea4955beb71fedf9c1089d"
       ],
       "layout": "IPY_MODEL_9b09a904e97b4ef4b46797a20663da5b"
      }
     },
     "06be461785e64097b063063f251d8304": {
      "model_module": "@jupyter-widgets/controls",
      "model_module_version": "1.4.0",
      "model_name": "HTMLModel",
      "state": {
       "layout": "IPY_MODEL_0c948e0b1f1248fc9ac9e0a01396bb55",
       "style": "IPY_MODEL_fdfc1e1cfc044403bf4da0bbb980d930",
       "value": "epoch  train loss  valid loss  accuracy<p>"
      }
     },
     "0772a29cace04a30af3c766fed618565": {
      "model_module": "@jupyter-widgets/base",
      "model_module_version": "1.1.0",
      "model_name": "LayoutModel",
      "state": {}
     },
     "077e030fd2d5444e8538d1ff2d47637a": {
      "model_module": "@jupyter-widgets/base",
      "model_module_version": "1.1.0",
      "model_name": "LayoutModel",
      "state": {}
     },
     "0785594ec6274d41a0311b4fc3f1d79b": {
      "model_module": "@jupyter-widgets/base",
      "model_module_version": "1.1.0",
      "model_name": "LayoutModel",
      "state": {}
     },
     "078d80b8212f405d9fd8145a8b323bcc": {
      "model_module": "@jupyter-widgets/controls",
      "model_module_version": "1.4.0",
      "model_name": "IntProgressModel",
      "state": {
       "layout": "IPY_MODEL_f9343fa49a024310a355c84084cd6beb",
       "max": 1,
       "style": "IPY_MODEL_686c500ae2a84052baf2150dcd924351",
       "value": 1
      }
     },
     "0802206083ce4d1986ae19a6aedd5969": {
      "model_module": "@jupyter-widgets/base",
      "model_module_version": "1.1.0",
      "model_name": "LayoutModel",
      "state": {}
     },
     "080317f5275a4bdcb7f571c836306d06": {
      "model_module": "@jupyter-widgets/controls",
      "model_module_version": "1.4.0",
      "model_name": "IntProgressModel",
      "state": {
       "bar_style": "danger",
       "layout": "IPY_MODEL_9247c52752024981908b38cf3e1a85c3",
       "max": 1,
       "style": "IPY_MODEL_748b5aa06bdd4552a3ba7f529e20aa1b"
      }
     },
     "082a668519ae4b5b909cdcd8263013e3": {
      "model_module": "@jupyter-widgets/controls",
      "model_module_version": "1.4.0",
      "model_name": "DescriptionStyleModel",
      "state": {
       "description_width": ""
      }
     },
     "088d48febea14f3e81c4be3795e75212": {
      "model_module": "@jupyter-widgets/controls",
      "model_module_version": "1.4.0",
      "model_name": "ProgressStyleModel",
      "state": {
       "description_width": ""
      }
     },
     "08d6cf4b973642feb42dffd858672977": {
      "model_module": "@jupyter-widgets/controls",
      "model_module_version": "1.4.0",
      "model_name": "HTMLModel",
      "state": {
       "layout": "IPY_MODEL_96ec7b3cdc404878bf608e02310f31a1",
       "style": "IPY_MODEL_8045d8d6195b46a89b104508619b938a",
       "value": "100.00% [1550/1550 03:58<00:00 37.4097]"
      }
     },
     "08f6645e33124d15bf4e46d5fb67e734": {
      "model_module": "@jupyter-widgets/controls",
      "model_module_version": "1.4.0",
      "model_name": "IntProgressModel",
      "state": {
       "layout": "IPY_MODEL_f0a880c3ef4e41a2ad810b45b9934577",
       "max": 3501,
       "style": "IPY_MODEL_91b01f8b2769466693c76c20f339f95c",
       "value": 3501
      }
     },
     "097a018f849645cfb5c1bc3d1132b7b4": {
      "model_module": "@jupyter-widgets/controls",
      "model_module_version": "1.4.0",
      "model_name": "IntProgressModel",
      "state": {
       "layout": "IPY_MODEL_73ec68e2e4974dbaae7d8510fadb7155",
       "max": 1550,
       "style": "IPY_MODEL_1d5addbe50a645efa8faf33cf29c4c5b",
       "value": 1550
      }
     },
     "09afff9515a7469f867d84e730318df6": {
      "model_module": "@jupyter-widgets/base",
      "model_module_version": "1.1.0",
      "model_name": "LayoutModel",
      "state": {}
     },
     "09cc50df323f4eba941e0f5fcbdaa8fb": {
      "model_module": "@jupyter-widgets/base",
      "model_module_version": "1.1.0",
      "model_name": "LayoutModel",
      "state": {}
     },
     "0a4de595fd364fd0818751dad2ccb6a7": {
      "model_module": "@jupyter-widgets/controls",
      "model_module_version": "1.4.0",
      "model_name": "VBoxModel",
      "state": {
       "children": [
        "IPY_MODEL_798fbcd9454843a9bd8e6d64304ad7ae",
        "IPY_MODEL_dc961df1c8434c07a5ef6086c06e17c4",
        "IPY_MODEL_00da7918a5ad4d91aa7d70cddb2ab550"
       ],
       "layout": "IPY_MODEL_67c130b0227f4dafba37df7beb7390ea"
      }
     },
     "0abde5f82c7243e794e5599b0f94043b": {
      "model_module": "@jupyter-widgets/controls",
      "model_module_version": "1.4.0",
      "model_name": "DescriptionStyleModel",
      "state": {
       "description_width": ""
      }
     },
     "0b216f90951440509a1fd081dd121ac2": {
      "model_module": "@jupyter-widgets/controls",
      "model_module_version": "1.4.0",
      "model_name": "HTMLModel",
      "state": {
       "layout": "IPY_MODEL_68dee1b7cbcd4902bfe999ad9d0ef301",
       "style": "IPY_MODEL_224f0147db99468eb83a24b14d90b362",
       "value": "epoch  train loss  valid loss  accuracy<p>0      1.052735    0.956949    0.846244<p>"
      }
     },
     "0b74843a56b54967abb65618650f6f8d": {
      "model_module": "@jupyter-widgets/controls",
      "model_module_version": "1.4.0",
      "model_name": "ProgressStyleModel",
      "state": {
       "description_width": ""
      }
     },
     "0be9ceb561e548f4915165f15f63ad93": {
      "model_module": "@jupyter-widgets/base",
      "model_module_version": "1.1.0",
      "model_name": "LayoutModel",
      "state": {}
     },
     "0bea17f4e0f64d92ab2895b6756d06a5": {
      "model_module": "@jupyter-widgets/base",
      "model_module_version": "1.1.0",
      "model_name": "LayoutModel",
      "state": {}
     },
     "0c124c5178a841a3be890baa46fb9a85": {
      "model_module": "@jupyter-widgets/controls",
      "model_module_version": "1.4.0",
      "model_name": "ProgressStyleModel",
      "state": {
       "description_width": ""
      }
     },
     "0c2cb7f1233f47718e410e6a0a70fd27": {
      "model_module": "@jupyter-widgets/controls",
      "model_module_version": "1.4.0",
      "model_name": "ProgressStyleModel",
      "state": {
       "description_width": ""
      }
     },
     "0c336599a11f449da4a2147146d5d4d8": {
      "model_module": "@jupyter-widgets/base",
      "model_module_version": "1.1.0",
      "model_name": "LayoutModel",
      "state": {}
     },
     "0c3f6e4b68b445c68183b18c90117123": {
      "model_module": "@jupyter-widgets/controls",
      "model_module_version": "1.4.0",
      "model_name": "HTMLModel",
      "state": {
       "layout": "IPY_MODEL_68720adddb134c0da1ea8c982348742c",
       "style": "IPY_MODEL_8a3dea5c98e24da3be98eb8848d5aceb",
       "value": "0.00% [0/2 00:00<00:00]"
      }
     },
     "0c812cbba1704330874a6218bb428764": {
      "model_module": "@jupyter-widgets/base",
      "model_module_version": "1.1.0",
      "model_name": "LayoutModel",
      "state": {}
     },
     "0c948e0b1f1248fc9ac9e0a01396bb55": {
      "model_module": "@jupyter-widgets/base",
      "model_module_version": "1.1.0",
      "model_name": "LayoutModel",
      "state": {}
     },
     "0d49a024e09546a48c9816ff718f7f60": {
      "model_module": "@jupyter-widgets/base",
      "model_module_version": "1.1.0",
      "model_name": "LayoutModel",
      "state": {}
     },
     "0d57dc16e43f42339400a1d3cf99e7aa": {
      "model_module": "@jupyter-widgets/controls",
      "model_module_version": "1.4.0",
      "model_name": "IntProgressModel",
      "state": {
       "layout": "IPY_MODEL_e0e15a839eb747109549acb1a6a6feb4",
       "max": 1550,
       "style": "IPY_MODEL_51b3a8dca17648ec966876d98f586a93",
       "value": 1550
      }
     },
     "0d62a76142bd430ca6030b1433e0c3c3": {
      "model_module": "@jupyter-widgets/controls",
      "model_module_version": "1.4.0",
      "model_name": "HTMLModel",
      "state": {
       "layout": "IPY_MODEL_3035881a91b541d588086ca28fea7096",
       "style": "IPY_MODEL_d0457b644b874731baa655511356a920",
       "value": "100.00% [3501/3501 03:51<00:00]"
      }
     },
     "0d6ac0f982ae41738a9997d7a51550f6": {
      "model_module": "@jupyter-widgets/controls",
      "model_module_version": "1.4.0",
      "model_name": "HTMLModel",
      "state": {
       "layout": "IPY_MODEL_ed25419b0c2f4e94a5496f581328c0d9",
       "style": "IPY_MODEL_534d765c88704875b8d27d43097ac2c0",
       "value": "100.00% [1550/1550 03:59<00:00 5.6180]"
      }
     },
     "0e69fbb13ac04d72a69ec60080d07099": {
      "model_module": "@jupyter-widgets/base",
      "model_module_version": "1.1.0",
      "model_name": "LayoutModel",
      "state": {}
     },
     "0e73a8d9e8004935a65937d0d198689c": {
      "model_module": "@jupyter-widgets/controls",
      "model_module_version": "1.4.0",
      "model_name": "HTMLModel",
      "state": {
       "layout": "IPY_MODEL_6fffe295e7844bf2aa551c75b187ae0d",
       "style": "IPY_MODEL_4110a00fc6c942aea4188ea411dab925",
       "value": "epoch  train loss  valid loss  accuracy<p>"
      }
     },
     "0f212ed099e14a9685df767ac87c0ba2": {
      "model_module": "@jupyter-widgets/base",
      "model_module_version": "1.1.0",
      "model_name": "LayoutModel",
      "state": {}
     },
     "0fe6b6571011403e98a4615264a1d2a9": {
      "model_module": "@jupyter-widgets/controls",
      "model_module_version": "1.4.0",
      "model_name": "HBoxModel",
      "state": {
       "children": [
        "IPY_MODEL_ef22aa2442df4bba863ca0cf22f51fe1",
        "IPY_MODEL_c9809a7d83b4434290237434e6812f1a"
       ],
       "layout": "IPY_MODEL_f0717a56039b4d218e74b9504ab9f3f8"
      }
     },
     "103a9bf1190441c1a89f245cbc657244": {
      "model_module": "@jupyter-widgets/controls",
      "model_module_version": "1.4.0",
      "model_name": "ProgressStyleModel",
      "state": {
       "description_width": ""
      }
     },
     "10439287e34841e5a5022b16a634e52c": {
      "model_module": "@jupyter-widgets/base",
      "model_module_version": "1.1.0",
      "model_name": "LayoutModel",
      "state": {}
     },
     "106f8a8a7e9947e1898f0313f75e4c92": {
      "model_module": "@jupyter-widgets/base",
      "model_module_version": "1.1.0",
      "model_name": "LayoutModel",
      "state": {}
     },
     "127dc4ae6c1044e88056e6f0a508a9b6": {
      "model_module": "@jupyter-widgets/base",
      "model_module_version": "1.1.0",
      "model_name": "LayoutModel",
      "state": {}
     },
     "1290c40bf6e1466ba557a40cff384e7d": {
      "model_module": "@jupyter-widgets/controls",
      "model_module_version": "1.4.0",
      "model_name": "HBoxModel",
      "state": {
       "children": [
        "IPY_MODEL_4f8614abf9b7478e90d93fb323e011ac",
        "IPY_MODEL_1c53bd51621c460894d58f3541b977df"
       ],
       "layout": "IPY_MODEL_b8b1b64463f347a683fc93c0c11f3f13"
      }
     },
     "12b679f47505411ea5640d4fcdd5aa60": {
      "model_module": "@jupyter-widgets/controls",
      "model_module_version": "1.4.0",
      "model_name": "ProgressStyleModel",
      "state": {
       "description_width": ""
      }
     },
     "1307f6532d174014ae90515b24a34355": {
      "model_module": "@jupyter-widgets/base",
      "model_module_version": "1.1.0",
      "model_name": "LayoutModel",
      "state": {}
     },
     "142fb27237034edf8928040b91bcbc0a": {
      "model_module": "@jupyter-widgets/controls",
      "model_module_version": "1.4.0",
      "model_name": "HBoxModel",
      "state": {
       "children": [
        "IPY_MODEL_1d882cd7267b46f692c1a024bc47b875",
        "IPY_MODEL_1bce306d49d04e5b8c04141819b33b62"
       ],
       "layout": "IPY_MODEL_7e2021ce7d86497f8200aaea87959c21"
      }
     },
     "143e88a854cb412dba4557752c04b370": {
      "model_module": "@jupyter-widgets/controls",
      "model_module_version": "1.4.0",
      "model_name": "ProgressStyleModel",
      "state": {
       "description_width": ""
      }
     },
     "157506c9b85748a08021ea99d4affcea": {
      "model_module": "@jupyter-widgets/controls",
      "model_module_version": "1.4.0",
      "model_name": "DescriptionStyleModel",
      "state": {
       "description_width": ""
      }
     },
     "159b42786e7349869092f4341e0be915": {
      "model_module": "@jupyter-widgets/controls",
      "model_module_version": "1.4.0",
      "model_name": "HBoxModel",
      "state": {
       "children": [
        "IPY_MODEL_d347429cfb3f4258ad0c5115d7683a74",
        "IPY_MODEL_efccdbdeaf534c81ba6d504d3bf77592"
       ],
       "layout": "IPY_MODEL_fb8c4cd53c644e6b8984066693e86d8a"
      }
     },
     "163e3dacb8224802a087857db5732c92": {
      "model_module": "@jupyter-widgets/controls",
      "model_module_version": "1.4.0",
      "model_name": "DescriptionStyleModel",
      "state": {
       "description_width": ""
      }
     },
     "16eb94c294f24af1928a429bbd8882a1": {
      "model_module": "@jupyter-widgets/base",
      "model_module_version": "1.1.0",
      "model_name": "LayoutModel",
      "state": {}
     },
     "16fd6a8ac6224573b91f856121f8e558": {
      "model_module": "@jupyter-widgets/base",
      "model_module_version": "1.1.0",
      "model_name": "LayoutModel",
      "state": {}
     },
     "171bdec3dfa5477ebdfd183548de0a24": {
      "model_module": "@jupyter-widgets/base",
      "model_module_version": "1.1.0",
      "model_name": "LayoutModel",
      "state": {}
     },
     "175e50849b1648ca9b74c5a3d6e5509b": {
      "model_module": "@jupyter-widgets/controls",
      "model_module_version": "1.4.0",
      "model_name": "ProgressStyleModel",
      "state": {
       "description_width": ""
      }
     },
     "176ed8c2f88a4ce8af95162498e05956": {
      "model_module": "@jupyter-widgets/controls",
      "model_module_version": "1.4.0",
      "model_name": "HBoxModel",
      "state": {
       "children": [
        "IPY_MODEL_9279550e21314d2dbb20a4bd34241ed3",
        "IPY_MODEL_ad23d2f739c24fa6934e2b59a6a94bfb"
       ],
       "layout": "IPY_MODEL_0e69fbb13ac04d72a69ec60080d07099"
      }
     },
     "1836fd3b0ff143e68de4586772c635ec": {
      "model_module": "@jupyter-widgets/base",
      "model_module_version": "1.1.0",
      "model_name": "LayoutModel",
      "state": {}
     },
     "1884f51b72aa48279040e6be44ed87a3": {
      "model_module": "@jupyter-widgets/base",
      "model_module_version": "1.1.0",
      "model_name": "LayoutModel",
      "state": {}
     },
     "18dac7eb6f194835a757f8166d88fe7c": {
      "model_module": "@jupyter-widgets/controls",
      "model_module_version": "1.4.0",
      "model_name": "DescriptionStyleModel",
      "state": {
       "description_width": ""
      }
     },
     "190df18a68804e0fbde5b2ce2c31e0eb": {
      "model_module": "@jupyter-widgets/controls",
      "model_module_version": "1.4.0",
      "model_name": "DescriptionStyleModel",
      "state": {
       "description_width": ""
      }
     },
     "1a5d3d4c846a4b7fac1ecccbda471195": {
      "model_module": "@jupyter-widgets/base",
      "model_module_version": "1.1.0",
      "model_name": "LayoutModel",
      "state": {}
     },
     "1a65425385e9407c9821e4f96b2dbbf6": {
      "model_module": "@jupyter-widgets/controls",
      "model_module_version": "1.4.0",
      "model_name": "DescriptionStyleModel",
      "state": {
       "description_width": ""
      }
     },
     "1adc3e0dd8aa40469e3021b348873aa0": {
      "model_module": "@jupyter-widgets/controls",
      "model_module_version": "1.4.0",
      "model_name": "VBoxModel",
      "state": {
       "children": [
        "IPY_MODEL_3047758181f94210a5f7f8c525d056da",
        "IPY_MODEL_01d73821ec044a628313f655485b8256",
        "IPY_MODEL_c40f111d131a40bb997936903113c460"
       ],
       "layout": "IPY_MODEL_22a460a405344eeaab28a2829687c042"
      }
     },
     "1af06693503844b2bfe0597cb9ddd5d2": {
      "model_module": "@jupyter-widgets/controls",
      "model_module_version": "1.4.0",
      "model_name": "VBoxModel",
      "state": {
       "children": [
        "IPY_MODEL_2bed0f4b82874d709a08ed3aefc17511",
        "IPY_MODEL_dfc8430202d64a63baa1ff36154009cd",
        "IPY_MODEL_036c86ae3d85443cad1d1d6ba4633fc8"
       ],
       "layout": "IPY_MODEL_7b0411d0773849f294005668b9e88283"
      }
     },
     "1b0cfbe9069f484e8bff8d735cdfe8f5": {
      "model_module": "@jupyter-widgets/controls",
      "model_module_version": "1.4.0",
      "model_name": "HBoxModel",
      "state": {
       "children": [
        "IPY_MODEL_1e504959d0a74945b135694ac3028777",
        "IPY_MODEL_308fd5d9f1d140b28a754b9fd6b8069a"
       ],
       "layout": "IPY_MODEL_7af56df7de0746f59ce34e3470d8005c"
      }
     },
     "1b8a63ebd46648a7a852c0a1f0a23a58": {
      "model_module": "@jupyter-widgets/controls",
      "model_module_version": "1.4.0",
      "model_name": "DescriptionStyleModel",
      "state": {
       "description_width": ""
      }
     },
     "1ba93f5ebcae49f69d43c47b97744b02": {
      "model_module": "@jupyter-widgets/controls",
      "model_module_version": "1.4.0",
      "model_name": "ProgressStyleModel",
      "state": {
       "description_width": ""
      }
     },
     "1bb43ebb7e56408ca5b27739a408eb0f": {
      "model_module": "@jupyter-widgets/base",
      "model_module_version": "1.1.0",
      "model_name": "LayoutModel",
      "state": {}
     },
     "1bce306d49d04e5b8c04141819b33b62": {
      "model_module": "@jupyter-widgets/controls",
      "model_module_version": "1.4.0",
      "model_name": "HTMLModel",
      "state": {
       "layout": "IPY_MODEL_7a7d2662b8b2480abab10a3cb635845e",
       "style": "IPY_MODEL_626b4c94f0ba48079a729b3d1f2856e2",
       "value": "0.84% [13/1550 00:01<03:51 8.0008]"
      }
     },
     "1bd114fd95ae444b856ab19f7791406d": {
      "model_module": "@jupyter-widgets/base",
      "model_module_version": "1.1.0",
      "model_name": "LayoutModel",
      "state": {}
     },
     "1c53bd51621c460894d58f3541b977df": {
      "model_module": "@jupyter-widgets/controls",
      "model_module_version": "1.4.0",
      "model_name": "HTMLModel",
      "state": {
       "layout": "IPY_MODEL_f9259ac860114a9c9d48b40edbed6d58",
       "style": "IPY_MODEL_a975a78e39c842e385c49d54bc20ca55",
       "value": "19.94% [309/1550 00:47<03:11 3.1919]"
      }
     },
     "1c7b7c1515a044c5a8d1b108d00eceb0": {
      "model_module": "@jupyter-widgets/base",
      "model_module_version": "1.1.0",
      "model_name": "LayoutModel",
      "state": {}
     },
     "1d1e02e6c0cd40dd98cd44cc592bf430": {
      "model_module": "@jupyter-widgets/controls",
      "model_module_version": "1.4.0",
      "model_name": "IntProgressModel",
      "state": {
       "layout": "IPY_MODEL_8faefa2b5a6843f2870112af6b221fdd",
       "max": 3501,
       "style": "IPY_MODEL_747d1e2e409c4efdb48d65827c23ce3f",
       "value": 3501
      }
     },
     "1d5addbe50a645efa8faf33cf29c4c5b": {
      "model_module": "@jupyter-widgets/controls",
      "model_module_version": "1.4.0",
      "model_name": "ProgressStyleModel",
      "state": {
       "description_width": ""
      }
     },
     "1d5d286a8030482b9aa4d30a79b6fa21": {
      "model_module": "@jupyter-widgets/controls",
      "model_module_version": "1.4.0",
      "model_name": "HTMLModel",
      "state": {
       "layout": "IPY_MODEL_fb39b5d9e18c44a7be97e9231d0cca0a",
       "style": "IPY_MODEL_5867261461df457f8f337143b3337fdf",
       "value": "100.00% [1550/1550 03:57<00:00 2.4303]"
      }
     },
     "1d5ec13e9437454fa3b3f43fcf08253c": {
      "model_module": "@jupyter-widgets/controls",
      "model_module_version": "1.4.0",
      "model_name": "DescriptionStyleModel",
      "state": {
       "description_width": ""
      }
     },
     "1d6b3049a02d4ec89259274e230634bb": {
      "model_module": "@jupyter-widgets/controls",
      "model_module_version": "1.4.0",
      "model_name": "HTMLModel",
      "state": {
       "layout": "IPY_MODEL_d6e6c325f3334e0f9194caccf5165026",
       "style": "IPY_MODEL_c2cbc780d45845c898001bdf55ce8e19",
       "value": "6.39% [99/1550 00:15<03:44 21.1217]"
      }
     },
     "1d882cd7267b46f692c1a024bc47b875": {
      "model_module": "@jupyter-widgets/controls",
      "model_module_version": "1.4.0",
      "model_name": "IntProgressModel",
      "state": {
       "bar_style": "danger",
       "layout": "IPY_MODEL_5f96ee09f96e4daaa8b78ce6f2ae260b",
       "max": 1550,
       "style": "IPY_MODEL_5a305ac81b064fdab4a5eae8c8d65674",
       "value": 13
      }
     },
     "1e498d1ad2e74f27b6a8d16c1bc36d39": {
      "model_module": "@jupyter-widgets/base",
      "model_module_version": "1.1.0",
      "model_name": "LayoutModel",
      "state": {}
     },
     "1e504959d0a74945b135694ac3028777": {
      "model_module": "@jupyter-widgets/controls",
      "model_module_version": "1.4.0",
      "model_name": "IntProgressModel",
      "state": {
       "bar_style": "danger",
       "layout": "IPY_MODEL_09cc50df323f4eba941e0f5fcbdaa8fb",
       "max": 1550,
       "style": "IPY_MODEL_8a08e21fb5f94b5b99086b02ce723da1",
       "value": 98
      }
     },
     "1e8e12af227b4a33bd938c36f1a32c00": {
      "model_module": "@jupyter-widgets/base",
      "model_module_version": "1.1.0",
      "model_name": "LayoutModel",
      "state": {}
     },
     "1e9f927af43446e2980de091114bcec5": {
      "model_module": "@jupyter-widgets/base",
      "model_module_version": "1.1.0",
      "model_name": "LayoutModel",
      "state": {}
     },
     "1ee094deb7aa467c986181a59e9248f6": {
      "model_module": "@jupyter-widgets/base",
      "model_module_version": "1.1.0",
      "model_name": "LayoutModel",
      "state": {}
     },
     "1f03d91066ef45dbb96575f32b315b00": {
      "model_module": "@jupyter-widgets/base",
      "model_module_version": "1.1.0",
      "model_name": "LayoutModel",
      "state": {}
     },
     "1f9d4bd5b67c4afba46b1a0a09c560e5": {
      "model_module": "@jupyter-widgets/controls",
      "model_module_version": "1.4.0",
      "model_name": "IntProgressModel",
      "state": {
       "bar_style": "danger",
       "layout": "IPY_MODEL_f23df8afb4444fdcb4fd270ec8f36eab",
       "max": 3,
       "style": "IPY_MODEL_4d632241029249c88fd1ced80d1cb8e9"
      }
     },
     "1fa93d8b42264f65829aa897a3b2a5ae": {
      "model_module": "@jupyter-widgets/controls",
      "model_module_version": "1.4.0",
      "model_name": "IntProgressModel",
      "state": {
       "layout": "IPY_MODEL_265a540a97bc4ad9aa59c4f00407e8ef",
       "max": 1550,
       "style": "IPY_MODEL_902d82821e7c4870868ed928b0100123",
       "value": 1550
      }
     },
     "1fde777c14144354a43f95fb7d1ef0c8": {
      "model_module": "@jupyter-widgets/base",
      "model_module_version": "1.1.0",
      "model_name": "LayoutModel",
      "state": {}
     },
     "2049a5316cf34535b617c97569a7db90": {
      "model_module": "@jupyter-widgets/controls",
      "model_module_version": "1.4.0",
      "model_name": "HTMLModel",
      "state": {
       "layout": "IPY_MODEL_2cccf7d190dc44549a4c0c70a83786fe",
       "style": "IPY_MODEL_db09cd81bd9b4fad8e207d4c900dd1a7",
       "value": "epoch  train loss  valid loss  accuracy<p>0      26.574900 <p>"
      }
     },
     "209f53462fd9426eacd465b082e2e358": {
      "model_module": "@jupyter-widgets/controls",
      "model_module_version": "1.4.0",
      "model_name": "ProgressStyleModel",
      "state": {
       "description_width": ""
      }
     },
     "20aa0ed1086740a9994b9776e8870dde": {
      "model_module": "@jupyter-widgets/base",
      "model_module_version": "1.1.0",
      "model_name": "LayoutModel",
      "state": {}
     },
     "20cdc44e3ef94ed792cb9293bd99fd34": {
      "model_module": "@jupyter-widgets/controls",
      "model_module_version": "1.4.0",
      "model_name": "ProgressStyleModel",
      "state": {
       "description_width": ""
      }
     },
     "2112a125db99418c87e50cce543792f8": {
      "model_module": "@jupyter-widgets/base",
      "model_module_version": "1.1.0",
      "model_name": "LayoutModel",
      "state": {}
     },
     "215beec518fc45c89f98e71aa0ae9ae6": {
      "model_module": "@jupyter-widgets/base",
      "model_module_version": "1.1.0",
      "model_name": "LayoutModel",
      "state": {}
     },
     "217b9502774340949c7e1f639de65eb7": {
      "model_module": "@jupyter-widgets/base",
      "model_module_version": "1.1.0",
      "model_name": "LayoutModel",
      "state": {}
     },
     "217bf4bda21f4bb5bb3b5d686b742090": {
      "model_module": "@jupyter-widgets/controls",
      "model_module_version": "1.4.0",
      "model_name": "HTMLModel",
      "state": {
       "layout": "IPY_MODEL_1e8e12af227b4a33bd938c36f1a32c00",
       "style": "IPY_MODEL_eac79b465a79422f94ad15b294cc3297",
       "value": "epoch  train loss  valid loss  accuracy<p>0      3.892725    1.683203    0.702509<p>1      7.472247    2.976828    0.505884<p>2      88.035507   56.441883   0.141857<p>3      12.143187   5.212152    0.253135<p>4      37.409718   24.025637   0.100768<p>5      48.138988   35.730145   0.094743<p>6      15.380146   9.276640    0.112784<p>7      25.475039   21.066229   0.191267<p>8      11.974469   6.883949    0.232263<p>9      9.599607    5.330412    0.294782<p>"
      }
     },
     "222cdead4e254e3a94c8ce6516bcb0c0": {
      "model_module": "@jupyter-widgets/controls",
      "model_module_version": "1.4.0",
      "model_name": "IntProgressModel",
      "state": {
       "bar_style": "danger",
       "layout": "IPY_MODEL_55083b88b22a4224ac2c118977d9b442",
       "max": 1550,
       "style": "IPY_MODEL_209f53462fd9426eacd465b082e2e358",
       "value": 503
      }
     },
     "223db08d309b44408f626e62348da23a": {
      "model_module": "@jupyter-widgets/base",
      "model_module_version": "1.1.0",
      "model_name": "LayoutModel",
      "state": {}
     },
     "224f0147db99468eb83a24b14d90b362": {
      "model_module": "@jupyter-widgets/controls",
      "model_module_version": "1.4.0",
      "model_name": "DescriptionStyleModel",
      "state": {
       "description_width": ""
      }
     },
     "2283f0a17f96453a8be0208a675ecb51": {
      "model_module": "@jupyter-widgets/controls",
      "model_module_version": "1.4.0",
      "model_name": "DescriptionStyleModel",
      "state": {
       "description_width": ""
      }
     },
     "22a460a405344eeaab28a2829687c042": {
      "model_module": "@jupyter-widgets/base",
      "model_module_version": "1.1.0",
      "model_name": "LayoutModel",
      "state": {}
     },
     "22b142782398409dbd737e20f1f2c6ad": {
      "model_module": "@jupyter-widgets/controls",
      "model_module_version": "1.4.0",
      "model_name": "HTMLModel",
      "state": {
       "layout": "IPY_MODEL_c493e70063064799bda0cb3954ef1961",
       "style": "IPY_MODEL_082a668519ae4b5b909cdcd8263013e3",
       "value": "100.00% [1550/1550 03:57<00:00 18.9698]"
      }
     },
     "22c4aee7a8b04bfd8038fe0856050ec9": {
      "model_module": "@jupyter-widgets/controls",
      "model_module_version": "1.4.0",
      "model_name": "DescriptionStyleModel",
      "state": {
       "description_width": ""
      }
     },
     "232dd38cf7bd433b93a8639941e3d64f": {
      "model_module": "@jupyter-widgets/base",
      "model_module_version": "1.1.0",
      "model_name": "LayoutModel",
      "state": {}
     },
     "233be081ffce4c07bca5c28f99a29d43": {
      "model_module": "@jupyter-widgets/controls",
      "model_module_version": "1.4.0",
      "model_name": "DescriptionStyleModel",
      "state": {
       "description_width": ""
      }
     },
     "2376ae0c80384b48978155568a226c44": {
      "model_module": "@jupyter-widgets/controls",
      "model_module_version": "1.4.0",
      "model_name": "IntProgressModel",
      "state": {
       "layout": "IPY_MODEL_2e0781a7394548ba90beea6388276abe",
       "max": 1550,
       "style": "IPY_MODEL_0b74843a56b54967abb65618650f6f8d",
       "value": 1550
      }
     },
     "23d938afbff64ea5ac59adafdfb57a2f": {
      "model_module": "@jupyter-widgets/controls",
      "model_module_version": "1.4.0",
      "model_name": "ProgressStyleModel",
      "state": {
       "description_width": ""
      }
     },
     "23f756f64f1a45d6b07e23db757c2b5e": {
      "model_module": "@jupyter-widgets/controls",
      "model_module_version": "1.4.0",
      "model_name": "DescriptionStyleModel",
      "state": {
       "description_width": ""
      }
     },
     "246e6f561a534442887d61c2cd81e8ca": {
      "model_module": "@jupyter-widgets/base",
      "model_module_version": "1.1.0",
      "model_name": "LayoutModel",
      "state": {}
     },
     "24c34f969fb54c7ca09537f5e25fa1f0": {
      "model_module": "@jupyter-widgets/controls",
      "model_module_version": "1.4.0",
      "model_name": "HBoxModel",
      "state": {
       "children": [
        "IPY_MODEL_d0ad3c218514465faaa3502bb7b0c2d6",
        "IPY_MODEL_79eb74d9d8b74914978d4bfa52191362"
       ],
       "layout": "IPY_MODEL_d368bd1de6b446548d122ced3f2d11db"
      }
     },
     "24fcf2f182c442d59aa8e8c0c5b1d1af": {
      "model_module": "@jupyter-widgets/base",
      "model_module_version": "1.1.0",
      "model_name": "LayoutModel",
      "state": {}
     },
     "254931dfbd094743b41469aa6fc15238": {
      "model_module": "@jupyter-widgets/controls",
      "model_module_version": "1.4.0",
      "model_name": "DescriptionStyleModel",
      "state": {
       "description_width": ""
      }
     },
     "257102aaa09a45aaa0cb3ebbddc2bc17": {
      "model_module": "@jupyter-widgets/base",
      "model_module_version": "1.1.0",
      "model_name": "LayoutModel",
      "state": {}
     },
     "25b1d9146a2b48bc9e729ba2b3b06480": {
      "model_module": "@jupyter-widgets/base",
      "model_module_version": "1.1.0",
      "model_name": "LayoutModel",
      "state": {}
     },
     "25ec8e0103e34d4daf3f9dd78649d217": {
      "model_module": "@jupyter-widgets/controls",
      "model_module_version": "1.4.0",
      "model_name": "VBoxModel",
      "state": {
       "children": [
        "IPY_MODEL_05764048b96d4b4097c8d8f19256468d",
        "IPY_MODEL_d9115cd92ee64c02989df0570c49c05b",
        "IPY_MODEL_d8718c3b94574cc3891bab534e4e89fe"
       ],
       "layout": "IPY_MODEL_7cc6c7e4510e47e882bbd988fbc1c742"
      }
     },
     "25ee3d81f02f4ede938ee9308c04ed83": {
      "model_module": "@jupyter-widgets/controls",
      "model_module_version": "1.4.0",
      "model_name": "HTMLModel",
      "state": {
       "layout": "IPY_MODEL_6eb729d190744d7bb84f2b813baddb3a",
       "style": "IPY_MODEL_e814c00fca6646cb94bd14ad196f254a",
       "value": "0.00% [0/1 00:00<00:00]"
      }
     },
     "2608b763051e4000ba9c0ac0936c06df": {
      "model_module": "@jupyter-widgets/base",
      "model_module_version": "1.1.0",
      "model_name": "LayoutModel",
      "state": {}
     },
     "265a540a97bc4ad9aa59c4f00407e8ef": {
      "model_module": "@jupyter-widgets/base",
      "model_module_version": "1.1.0",
      "model_name": "LayoutModel",
      "state": {}
     },
     "26ac3be720cd4d628c9c612430bfa823": {
      "model_module": "@jupyter-widgets/controls",
      "model_module_version": "1.4.0",
      "model_name": "DescriptionStyleModel",
      "state": {
       "description_width": ""
      }
     },
     "26ce78bb8ee04cbbabee2792f9a867f8": {
      "model_module": "@jupyter-widgets/controls",
      "model_module_version": "1.4.0",
      "model_name": "VBoxModel",
      "state": {
       "children": [
        "IPY_MODEL_0fe6b6571011403e98a4615264a1d2a9",
        "IPY_MODEL_06be461785e64097b063063f251d8304",
        "IPY_MODEL_79f54b85ebd2484a93ea5b197a8988d6"
       ],
       "layout": "IPY_MODEL_5ce642aa464d4a6c96ae5edfcaa1cb9c"
      }
     },
     "26e5857d0d6247d3a0216856c3105959": {
      "model_module": "@jupyter-widgets/base",
      "model_module_version": "1.1.0",
      "model_name": "LayoutModel",
      "state": {}
     },
     "26f6e94c0cf8461a90fb4fdb1b14910e": {
      "model_module": "@jupyter-widgets/base",
      "model_module_version": "1.1.0",
      "model_name": "LayoutModel",
      "state": {}
     },
     "271d1e559efd493f805d6a93362e84cd": {
      "model_module": "@jupyter-widgets/controls",
      "model_module_version": "1.4.0",
      "model_name": "ProgressStyleModel",
      "state": {
       "description_width": ""
      }
     },
     "27889f5ce385413da4107375741bbd1c": {
      "model_module": "@jupyter-widgets/controls",
      "model_module_version": "1.4.0",
      "model_name": "HTMLModel",
      "state": {
       "layout": "IPY_MODEL_c0f47042ad5946569320bfcba1e89093",
       "style": "IPY_MODEL_95ec2e58e5434d1885c16f6bdb9f69b8",
       "value": "100.00% [3501/3501 03:51<00:00]"
      }
     },
     "27c4981c11444d47bf28c6f3a1ea910f": {
      "model_module": "@jupyter-widgets/controls",
      "model_module_version": "1.4.0",
      "model_name": "IntProgressModel",
      "state": {
       "layout": "IPY_MODEL_7b82a93862c3408f90f8e82f035c8728",
       "max": 1550,
       "style": "IPY_MODEL_20cdc44e3ef94ed792cb9293bd99fd34",
       "value": 1550
      }
     },
     "27f9239f63f44a46a00b37a7f5fec23c": {
      "model_module": "@jupyter-widgets/controls",
      "model_module_version": "1.4.0",
      "model_name": "DescriptionStyleModel",
      "state": {
       "description_width": ""
      }
     },
     "28153f97d84e4eb9846572a8fb284dd6": {
      "model_module": "@jupyter-widgets/controls",
      "model_module_version": "1.4.0",
      "model_name": "ProgressStyleModel",
      "state": {
       "description_width": ""
      }
     },
     "292a157d42a24941951e4a72144e77a7": {
      "model_module": "@jupyter-widgets/controls",
      "model_module_version": "1.4.0",
      "model_name": "ProgressStyleModel",
      "state": {
       "description_width": ""
      }
     },
     "2964dbd2078c4110bc96fe9316c6160f": {
      "model_module": "@jupyter-widgets/base",
      "model_module_version": "1.1.0",
      "model_name": "LayoutModel",
      "state": {}
     },
     "2a34613538dc4d01b67f35bbcb4d78c1": {
      "model_module": "@jupyter-widgets/controls",
      "model_module_version": "1.4.0",
      "model_name": "DescriptionStyleModel",
      "state": {
       "description_width": ""
      }
     },
     "2a77b181e9fe487e96a1b8b254c71caa": {
      "model_module": "@jupyter-widgets/base",
      "model_module_version": "1.1.0",
      "model_name": "LayoutModel",
      "state": {}
     },
     "2aa44712cac24832b795b28687c80776": {
      "model_module": "@jupyter-widgets/controls",
      "model_module_version": "1.4.0",
      "model_name": "VBoxModel",
      "state": {
       "children": [
        "IPY_MODEL_578bd754fa7043aa93a7f68d1073e274",
        "IPY_MODEL_018e6207857044809e4ca9db0c519573",
        "IPY_MODEL_93a9123cbbb34723856b89ffa1317a28"
       ],
       "layout": "IPY_MODEL_3a4182861ef245d7b205d6857ffc5d53"
      }
     },
     "2aa8f506d65548588ae687f8be1c5ff2": {
      "model_module": "@jupyter-widgets/controls",
      "model_module_version": "1.4.0",
      "model_name": "IntProgressModel",
      "state": {
       "bar_style": "danger",
       "layout": "IPY_MODEL_5bf637791d944a8aafbe7da4f1fa39fc",
       "max": 1550,
       "style": "IPY_MODEL_088d48febea14f3e81c4be3795e75212",
       "value": 99
      }
     },
     "2abd337f17624667b0964d01ab9e768b": {
      "model_module": "@jupyter-widgets/controls",
      "model_module_version": "1.4.0",
      "model_name": "HTMLModel",
      "state": {
       "layout": "IPY_MODEL_906ffece61ff4f8e98e3b74b4b723b5f",
       "style": "IPY_MODEL_3c46d1d2e9b646f0abcaf0cd63eead3e",
       "value": "100.00% [1550/1550 03:57<00:00 12.1432]"
      }
     },
     "2ace669da10142d3897ee666e8851921": {
      "model_module": "@jupyter-widgets/controls",
      "model_module_version": "1.4.0",
      "model_name": "DescriptionStyleModel",
      "state": {
       "description_width": ""
      }
     },
     "2b5e6ddaaf5945bd88a9b8eadad79c18": {
      "model_module": "@jupyter-widgets/controls",
      "model_module_version": "1.4.0",
      "model_name": "HTMLModel",
      "state": {
       "layout": "IPY_MODEL_c3de69e4beeb4b04b04e375946a2a193",
       "style": "IPY_MODEL_451beebcec9a4337807f27e4b85eabcf",
       "value": "0.00% [0/1 00:00<00:00]"
      }
     },
     "2b6a93f259384b29854981825289013c": {
      "model_module": "@jupyter-widgets/controls",
      "model_module_version": "1.4.0",
      "model_name": "HTMLModel",
      "state": {
       "layout": "IPY_MODEL_2be79e82d6de483a874daa927e7fa7fb",
       "style": "IPY_MODEL_94601b86b434446bae653b05a0c8d98c",
       "value": "100.00% [1550/1550 03:57<00:00 25.4750]"
      }
     },
     "2b7d223bfd254319a8b734b832f2fee1": {
      "model_module": "@jupyter-widgets/base",
      "model_module_version": "1.1.0",
      "model_name": "LayoutModel",
      "state": {}
     },
     "2bc929020e2044ca80189b4ff9e70343": {
      "model_module": "@jupyter-widgets/controls",
      "model_module_version": "1.4.0",
      "model_name": "HTMLModel",
      "state": {
       "layout": "IPY_MODEL_1c7b7c1515a044c5a8d1b108d00eceb0",
       "style": "IPY_MODEL_41e3d030cadf4a0d8d4b7e70a0a3f518",
       "value": "100.00% [1550/1550 03:57<00:00 0.7369]"
      }
     },
     "2be79e82d6de483a874daa927e7fa7fb": {
      "model_module": "@jupyter-widgets/base",
      "model_module_version": "1.1.0",
      "model_name": "LayoutModel",
      "state": {}
     },
     "2bed0f4b82874d709a08ed3aefc17511": {
      "model_module": "@jupyter-widgets/controls",
      "model_module_version": "1.4.0",
      "model_name": "HBoxModel",
      "state": {
       "children": [
        "IPY_MODEL_bfb3e81393a940faadb6cade3c7bdd37",
        "IPY_MODEL_ede5b133039848859203355fbd1ab875"
       ],
       "layout": "IPY_MODEL_d6f20bb6331148098bb35ed20865a1a4"
      }
     },
     "2c1ae389ee74461c9dc1f44f02e8d50f": {
      "model_module": "@jupyter-widgets/base",
      "model_module_version": "1.1.0",
      "model_name": "LayoutModel",
      "state": {}
     },
     "2cccf7d190dc44549a4c0c70a83786fe": {
      "model_module": "@jupyter-widgets/base",
      "model_module_version": "1.1.0",
      "model_name": "LayoutModel",
      "state": {}
     },
     "2dda23ccfc674676bc8ec872caac1e08": {
      "model_module": "@jupyter-widgets/base",
      "model_module_version": "1.1.0",
      "model_name": "LayoutModel",
      "state": {}
     },
     "2e0781a7394548ba90beea6388276abe": {
      "model_module": "@jupyter-widgets/base",
      "model_module_version": "1.1.0",
      "model_name": "LayoutModel",
      "state": {}
     },
     "2e2cd0d4c5a54a02b5c9885b58d7bf5c": {
      "model_module": "@jupyter-widgets/base",
      "model_module_version": "1.1.0",
      "model_name": "LayoutModel",
      "state": {}
     },
     "2e39cc29610c4fd0995ebd701ce3c211": {
      "model_module": "@jupyter-widgets/controls",
      "model_module_version": "1.4.0",
      "model_name": "ProgressStyleModel",
      "state": {
       "description_width": ""
      }
     },
     "2e513a0250cd4a05ac380b4f753341c9": {
      "model_module": "@jupyter-widgets/base",
      "model_module_version": "1.1.0",
      "model_name": "LayoutModel",
      "state": {}
     },
     "2ec7e355ee6647d385355f879a109237": {
      "model_module": "@jupyter-widgets/base",
      "model_module_version": "1.1.0",
      "model_name": "LayoutModel",
      "state": {}
     },
     "2f2ddfc5e85245629e1db0878c733108": {
      "model_module": "@jupyter-widgets/base",
      "model_module_version": "1.1.0",
      "model_name": "LayoutModel",
      "state": {}
     },
     "2f4e0a30211f4b2886d708d84b1a9f26": {
      "model_module": "@jupyter-widgets/controls",
      "model_module_version": "1.4.0",
      "model_name": "DescriptionStyleModel",
      "state": {
       "description_width": ""
      }
     },
     "2fb46c7b8252407483fa6cec907cd99c": {
      "model_module": "@jupyter-widgets/base",
      "model_module_version": "1.1.0",
      "model_name": "LayoutModel",
      "state": {}
     },
     "2fbc8dcceb544a85af5744957da056c9": {
      "model_module": "@jupyter-widgets/controls",
      "model_module_version": "1.4.0",
      "model_name": "DescriptionStyleModel",
      "state": {
       "description_width": ""
      }
     },
     "3035881a91b541d588086ca28fea7096": {
      "model_module": "@jupyter-widgets/base",
      "model_module_version": "1.1.0",
      "model_name": "LayoutModel",
      "state": {}
     },
     "3047758181f94210a5f7f8c525d056da": {
      "model_module": "@jupyter-widgets/controls",
      "model_module_version": "1.4.0",
      "model_name": "HBoxModel",
      "state": {
       "children": [
        "IPY_MODEL_cedcb861aec540a6ab7ba888fd217eb9",
        "IPY_MODEL_6b7896cb94ff472ebecc3c39e01c2021"
       ],
       "layout": "IPY_MODEL_732f1bd275df44f884e25c73d55f07c9"
      }
     },
     "3069116685174e0ca5acca87a5df24ae": {
      "model_module": "@jupyter-widgets/base",
      "model_module_version": "1.1.0",
      "model_name": "LayoutModel",
      "state": {}
     },
     "306b1953ef49414299fd6464f0bf3dea": {
      "model_module": "@jupyter-widgets/base",
      "model_module_version": "1.1.0",
      "model_name": "LayoutModel",
      "state": {}
     },
     "308fd5d9f1d140b28a754b9fd6b8069a": {
      "model_module": "@jupyter-widgets/controls",
      "model_module_version": "1.4.0",
      "model_name": "HTMLModel",
      "state": {
       "layout": "IPY_MODEL_449ecd91751f4a17949b83e20b1e4e4d",
       "style": "IPY_MODEL_6327c7885b8c4c9087d3f199a4c51590",
       "value": "6.32% [98/1550 00:15<03:50 19.6700]"
      }
     },
     "328e4b4f6762454c9d80b5ead4f33059": {
      "model_module": "@jupyter-widgets/controls",
      "model_module_version": "1.4.0",
      "model_name": "VBoxModel",
      "state": {
       "children": [
        "IPY_MODEL_d52403c42614491ca63b7fb37c1158b6",
        "IPY_MODEL_e36450c615414790ad2a1fa3b3f18691",
        "IPY_MODEL_1290c40bf6e1466ba557a40cff384e7d"
       ],
       "layout": "IPY_MODEL_9b0092e9a6bb49b7bbff8f69811b4387"
      }
     },
     "32cf775ef8164e029d8a25249ccdda58": {
      "model_module": "@jupyter-widgets/controls",
      "model_module_version": "1.4.0",
      "model_name": "IntProgressModel",
      "state": {
       "layout": "IPY_MODEL_10439287e34841e5a5022b16a634e52c",
       "max": 3501,
       "style": "IPY_MODEL_fe80544b247645ebba61b3581dba35de",
       "value": 3501
      }
     },
     "33673fb163d84336a120f6a50115268c": {
      "model_module": "@jupyter-widgets/controls",
      "model_module_version": "1.4.0",
      "model_name": "HTMLModel",
      "state": {
       "layout": "IPY_MODEL_cd818fd36472441cac75dc55dd8f2dc6",
       "style": "IPY_MODEL_a0de60090d8c4c988409e9c20078dff4",
       "value": "epoch  train loss  valid loss  accuracy<p>0      2.534581    1.301504    0.766675<p>1      1.652670    1.030255    0.813649<p>"
      }
     },
     "346777b79c164f6fbb531664188ee0d0": {
      "model_module": "@jupyter-widgets/base",
      "model_module_version": "1.1.0",
      "model_name": "LayoutModel",
      "state": {}
     },
     "347aed22ebde46579f6cbfd475a4b795": {
      "model_module": "@jupyter-widgets/controls",
      "model_module_version": "1.4.0",
      "model_name": "DescriptionStyleModel",
      "state": {
       "description_width": ""
      }
     },
     "348dd1f9edc24c409b69297379beffeb": {
      "model_module": "@jupyter-widgets/controls",
      "model_module_version": "1.4.0",
      "model_name": "HTMLModel",
      "state": {
       "layout": "IPY_MODEL_b8013eebd65e424ca5819fc3ca4f8381",
       "style": "IPY_MODEL_e4c680f6cab247c283b06c71709e7fcd",
       "value": "epoch  train loss  valid loss  accuracy<p>0      25.425455 <p>"
      }
     },
     "357b7014a84e4833997dd1e7be88d178": {
      "model_module": "@jupyter-widgets/controls",
      "model_module_version": "1.4.0",
      "model_name": "ProgressStyleModel",
      "state": {
       "description_width": ""
      }
     },
     "35a32e4d37a14a8baf66ad72e582551d": {
      "model_module": "@jupyter-widgets/controls",
      "model_module_version": "1.4.0",
      "model_name": "HTMLModel",
      "state": {
       "layout": "IPY_MODEL_d6fb2787036142499a136826001bb7c4",
       "style": "IPY_MODEL_3cdb000829914e079af164ca56d3c1af",
       "value": "100.00% [1550/1550 03:55<00:00 2.5346]"
      }
     },
     "35d43b052d3f4528be4d0d50e52d0f31": {
      "model_module": "@jupyter-widgets/base",
      "model_module_version": "1.1.0",
      "model_name": "LayoutModel",
      "state": {}
     },
     "36940f7f8c7a4fe2a4c6f3cf74bee443": {
      "model_module": "@jupyter-widgets/base",
      "model_module_version": "1.1.0",
      "model_name": "LayoutModel",
      "state": {}
     },
     "36b0cc82af044efd93bd486596f4ebe1": {
      "model_module": "@jupyter-widgets/controls",
      "model_module_version": "1.4.0",
      "model_name": "ProgressStyleModel",
      "state": {
       "description_width": ""
      }
     },
     "36bed4dea37f450a917bb1cef0a002d8": {
      "model_module": "@jupyter-widgets/controls",
      "model_module_version": "1.4.0",
      "model_name": "IntProgressModel",
      "state": {
       "layout": "IPY_MODEL_9870c1364a8a4fc09f669ff8521045ac",
       "max": 1550,
       "style": "IPY_MODEL_143e88a854cb412dba4557752c04b370",
       "value": 1550
      }
     },
     "36f595eff59f4becb7874fc4585cb493": {
      "model_module": "@jupyter-widgets/controls",
      "model_module_version": "1.4.0",
      "model_name": "DescriptionStyleModel",
      "state": {
       "description_width": ""
      }
     },
     "3737fbe20ae248b8b4e497533c9f9c52": {
      "model_module": "@jupyter-widgets/controls",
      "model_module_version": "1.4.0",
      "model_name": "HBoxModel",
      "state": {
       "children": [
        "IPY_MODEL_395079045a0142d0a661d47c19f29599",
        "IPY_MODEL_a0a4466240bf46e8b964148fe3c4392d"
       ],
       "layout": "IPY_MODEL_a79ab14afb704d85a21c4889c8f6a3c5"
      }
     },
     "374ca6e1f7df44d880a0c64fd5b9dbd3": {
      "model_module": "@jupyter-widgets/controls",
      "model_module_version": "1.4.0",
      "model_name": "ProgressStyleModel",
      "state": {
       "description_width": ""
      }
     },
     "37995de825fc4805b65adb0fcc46f0b5": {
      "model_module": "@jupyter-widgets/base",
      "model_module_version": "1.1.0",
      "model_name": "LayoutModel",
      "state": {}
     },
     "3865254f3cfb4808bcf457b61cb8c1f8": {
      "model_module": "@jupyter-widgets/controls",
      "model_module_version": "1.4.0",
      "model_name": "IntProgressModel",
      "state": {
       "bar_style": "danger",
       "layout": "IPY_MODEL_d49c926633b741908fe5228184a6b3d2",
       "max": 1550,
       "style": "IPY_MODEL_3cbecded1be44ba8a27b08494e592b43",
       "value": 99
      }
     },
     "38f908759e06467eb07c911aff9b1da4": {
      "model_module": "@jupyter-widgets/controls",
      "model_module_version": "1.4.0",
      "model_name": "HTMLModel",
      "state": {
       "layout": "IPY_MODEL_2e513a0250cd4a05ac380b4f753341c9",
       "style": "IPY_MODEL_b87bab1d1b324d36b98ed526968e173a",
       "value": "100.00% [3501/3501 03:51<00:00]"
      }
     },
     "394120ebb7b04272acf6461bcecd3686": {
      "model_module": "@jupyter-widgets/base",
      "model_module_version": "1.1.0",
      "model_name": "LayoutModel",
      "state": {}
     },
     "3943779a5411459e84c769ac3a7bbb07": {
      "model_module": "@jupyter-widgets/base",
      "model_module_version": "1.1.0",
      "model_name": "LayoutModel",
      "state": {}
     },
     "39490bf59bcd4c61b15fa58c14d90328": {
      "model_module": "@jupyter-widgets/controls",
      "model_module_version": "1.4.0",
      "model_name": "HTMLModel",
      "state": {
       "layout": "IPY_MODEL_0f212ed099e14a9685df767ac87c0ba2",
       "style": "IPY_MODEL_989db8cce7cc4e46b5339211adabeb0f",
       "value": "epoch  train loss  valid loss  accuracy<p>0      9.677355  <p>"
      }
     },
     "395079045a0142d0a661d47c19f29599": {
      "model_module": "@jupyter-widgets/controls",
      "model_module_version": "1.4.0",
      "model_name": "IntProgressModel",
      "state": {
       "bar_style": "danger",
       "layout": "IPY_MODEL_6212c96d1fb64bb7b05da52c7c38ca33",
       "max": 1550,
       "style": "IPY_MODEL_103a9bf1190441c1a89f245cbc657244",
       "value": 98
      }
     },
     "3956844057294358acf3f249dd33a5f7": {
      "model_module": "@jupyter-widgets/base",
      "model_module_version": "1.1.0",
      "model_name": "LayoutModel",
      "state": {}
     },
     "395cc6a0dead4766a5bcaa1d151a970b": {
      "model_module": "@jupyter-widgets/controls",
      "model_module_version": "1.4.0",
      "model_name": "ProgressStyleModel",
      "state": {
       "description_width": ""
      }
     },
     "3a4182861ef245d7b205d6857ffc5d53": {
      "model_module": "@jupyter-widgets/base",
      "model_module_version": "1.1.0",
      "model_name": "LayoutModel",
      "state": {}
     },
     "3a4a398e363141d2809c398f19ada4a9": {
      "model_module": "@jupyter-widgets/controls",
      "model_module_version": "1.4.0",
      "model_name": "IntProgressModel",
      "state": {
       "bar_style": "danger",
       "layout": "IPY_MODEL_1307f6532d174014ae90515b24a34355",
       "max": 1550,
       "style": "IPY_MODEL_2e39cc29610c4fd0995ebd701ce3c211"
      }
     },
     "3a54243c67f14505aabd835d4040c9e7": {
      "model_module": "@jupyter-widgets/controls",
      "model_module_version": "1.4.0",
      "model_name": "IntProgressModel",
      "state": {
       "layout": "IPY_MODEL_8c65cf7fc0094419ab5eec74d89a6367",
       "max": 3501,
       "style": "IPY_MODEL_d1fc506d4d76455d80fd5ad0c8c81226",
       "value": 3501
      }
     },
     "3aef95781cec454599b9ee5fe3623eb0": {
      "model_module": "@jupyter-widgets/controls",
      "model_module_version": "1.4.0",
      "model_name": "HTMLModel",
      "state": {
       "layout": "IPY_MODEL_ffd38ff6179f489db9092159e75b6b4a",
       "style": "IPY_MODEL_ec67313d4b1f499588d84a486b529e2b",
       "value": "6.39% [99/1550 00:15<03:43 8.6464]"
      }
     },
     "3b13c4b17d7344c686337b833d229f2b": {
      "model_module": "@jupyter-widgets/base",
      "model_module_version": "1.1.0",
      "model_name": "LayoutModel",
      "state": {}
     },
     "3c46d1d2e9b646f0abcaf0cd63eead3e": {
      "model_module": "@jupyter-widgets/controls",
      "model_module_version": "1.4.0",
      "model_name": "DescriptionStyleModel",
      "state": {
       "description_width": ""
      }
     },
     "3cbecded1be44ba8a27b08494e592b43": {
      "model_module": "@jupyter-widgets/controls",
      "model_module_version": "1.4.0",
      "model_name": "ProgressStyleModel",
      "state": {
       "description_width": ""
      }
     },
     "3cdb000829914e079af164ca56d3c1af": {
      "model_module": "@jupyter-widgets/controls",
      "model_module_version": "1.4.0",
      "model_name": "DescriptionStyleModel",
      "state": {
       "description_width": ""
      }
     },
     "3d9658f04b424aa0aaff21df2c38606b": {
      "model_module": "@jupyter-widgets/controls",
      "model_module_version": "1.4.0",
      "model_name": "HTMLModel",
      "state": {
       "layout": "IPY_MODEL_90d722404c2f42b4bdece8295c379912",
       "style": "IPY_MODEL_66daf48935ee4f8e8870a86bd3a3f19d",
       "value": "100.00% [3501/3501 03:50<00:00]"
      }
     },
     "3e692cc806eb4345972590f625fd27db": {
      "model_module": "@jupyter-widgets/controls",
      "model_module_version": "1.4.0",
      "model_name": "HTMLModel",
      "state": {
       "layout": "IPY_MODEL_346777b79c164f6fbb531664188ee0d0",
       "style": "IPY_MODEL_e7f17b85b9fa47239c4462c30dee8f5b",
       "value": "epoch  train loss  valid loss  accuracy<p>0      23.835136 <p>"
      }
     },
     "3e6b1a25f3a4464d8c460d4bd7edd479": {
      "model_module": "@jupyter-widgets/controls",
      "model_module_version": "1.4.0",
      "model_name": "IntProgressModel",
      "state": {
       "layout": "IPY_MODEL_2a77b181e9fe487e96a1b8b254c71caa",
       "max": 2,
       "style": "IPY_MODEL_034e34e3c4f143da90b40d1d8ba11547",
       "value": 2
      }
     },
     "3f31ce6c931749c49291e95e5710a81c": {
      "model_module": "@jupyter-widgets/base",
      "model_module_version": "1.1.0",
      "model_name": "LayoutModel",
      "state": {}
     },
     "3f8896e2c76a4bab968e5a8d40b642f4": {
      "model_module": "@jupyter-widgets/base",
      "model_module_version": "1.1.0",
      "model_name": "LayoutModel",
      "state": {}
     },
     "401c8889bbdd41129e4fb69ac0c3b7d5": {
      "model_module": "@jupyter-widgets/controls",
      "model_module_version": "1.4.0",
      "model_name": "IntProgressModel",
      "state": {
       "layout": "IPY_MODEL_bac5a14963574af3a63eeb1941a8573e",
       "max": 3501,
       "style": "IPY_MODEL_512b891e3c964286bd05c08492036982",
       "value": 3501
      }
     },
     "4032605ef6c44803a24d04ad374dd588": {
      "model_module": "@jupyter-widgets/controls",
      "model_module_version": "1.4.0",
      "model_name": "ProgressStyleModel",
      "state": {
       "description_width": ""
      }
     },
     "4110a00fc6c942aea4188ea411dab925": {
      "model_module": "@jupyter-widgets/controls",
      "model_module_version": "1.4.0",
      "model_name": "DescriptionStyleModel",
      "state": {
       "description_width": ""
      }
     },
     "41b598f56ec04d0c85a6e93dce6627f0": {
      "model_module": "@jupyter-widgets/base",
      "model_module_version": "1.1.0",
      "model_name": "LayoutModel",
      "state": {}
     },
     "41e3d030cadf4a0d8d4b7e70a0a3f518": {
      "model_module": "@jupyter-widgets/controls",
      "model_module_version": "1.4.0",
      "model_name": "DescriptionStyleModel",
      "state": {
       "description_width": ""
      }
     },
     "429782430d454d01b39b7fe4072448ff": {
      "model_module": "@jupyter-widgets/controls",
      "model_module_version": "1.4.0",
      "model_name": "DescriptionStyleModel",
      "state": {
       "description_width": ""
      }
     },
     "42e79c84a7524b1dac182ff72ce4ffab": {
      "model_module": "@jupyter-widgets/controls",
      "model_module_version": "1.4.0",
      "model_name": "HTMLModel",
      "state": {
       "layout": "IPY_MODEL_ce1ed8a2caac4f64909337b5d995d5b8",
       "style": "IPY_MODEL_7c9616cb407546268d5a1cf0ac61a5bf",
       "value": "100.00% [3501/3501 03:51<00:00]"
      }
     },
     "43846cc6143841da8658870bb9460cff": {
      "model_module": "@jupyter-widgets/base",
      "model_module_version": "1.1.0",
      "model_name": "LayoutModel",
      "state": {}
     },
     "4397f06774e5434ba724abd08dde77fb": {
      "model_module": "@jupyter-widgets/base",
      "model_module_version": "1.1.0",
      "model_name": "LayoutModel",
      "state": {}
     },
     "4404f48124374df08d94aad1b8beeb64": {
      "model_module": "@jupyter-widgets/controls",
      "model_module_version": "1.4.0",
      "model_name": "DescriptionStyleModel",
      "state": {
       "description_width": ""
      }
     },
     "4453c080bbfd4ebc90b16dd7dcc75945": {
      "model_module": "@jupyter-widgets/controls",
      "model_module_version": "1.4.0",
      "model_name": "ProgressStyleModel",
      "state": {
       "description_width": ""
      }
     },
     "449ecd91751f4a17949b83e20b1e4e4d": {
      "model_module": "@jupyter-widgets/base",
      "model_module_version": "1.1.0",
      "model_name": "LayoutModel",
      "state": {}
     },
     "451beebcec9a4337807f27e4b85eabcf": {
      "model_module": "@jupyter-widgets/controls",
      "model_module_version": "1.4.0",
      "model_name": "DescriptionStyleModel",
      "state": {
       "description_width": ""
      }
     },
     "4580599aa38f43a281b6bd64cd3464af": {
      "model_module": "@jupyter-widgets/base",
      "model_module_version": "1.1.0",
      "model_name": "LayoutModel",
      "state": {}
     },
     "465738d270ea4955beb71fedf9c1089d": {
      "model_module": "@jupyter-widgets/controls",
      "model_module_version": "1.4.0",
      "model_name": "HTMLModel",
      "state": {
       "layout": "IPY_MODEL_8ce1b38d06ac4eb19cdf4dd08a118bdd",
       "style": "IPY_MODEL_756c1616d49c41a1a5e43f6488d86e06",
       "value": "0.00% [0/1 00:00<00:00]"
      }
     },
     "46c8093400cd44dc8881464a04d0e582": {
      "model_module": "@jupyter-widgets/controls",
      "model_module_version": "1.4.0",
      "model_name": "HTMLModel",
      "state": {
       "layout": "IPY_MODEL_8aaa2ce221094c9d962c9d8084b70c1c",
       "style": "IPY_MODEL_b31b244744714fc782614d0e7a19d0a2",
       "value": "0.00% [0/1550 00:00<00:00]"
      }
     },
     "4786ba7a76b946e3979fbbdc60667091": {
      "model_module": "@jupyter-widgets/controls",
      "model_module_version": "1.4.0",
      "model_name": "ProgressStyleModel",
      "state": {
       "description_width": ""
      }
     },
     "47dc05418acc4767b9288c1db7c46d80": {
      "model_module": "@jupyter-widgets/controls",
      "model_module_version": "1.4.0",
      "model_name": "VBoxModel",
      "state": {
       "children": [
        "IPY_MODEL_73186f2d1d244336a1ed91f9a8e06455",
        "IPY_MODEL_39490bf59bcd4c61b15fa58c14d90328",
        "IPY_MODEL_4a145c0bb7be48b6a2a864ccaee541c0"
       ],
       "layout": "IPY_MODEL_a61c1d385d544561826f291c4bbf23ce"
      }
     },
     "4836dd854d1e4dc785f3e9b7db208492": {
      "model_module": "@jupyter-widgets/base",
      "model_module_version": "1.1.0",
      "model_name": "LayoutModel",
      "state": {}
     },
     "4878b167b47d4a83952441afc2b53d42": {
      "model_module": "@jupyter-widgets/controls",
      "model_module_version": "1.4.0",
      "model_name": "IntProgressModel",
      "state": {
       "bar_style": "danger",
       "layout": "IPY_MODEL_82ae7b1a0280482a860261b9280e3773",
       "max": 1,
       "style": "IPY_MODEL_7ff2db184b144f178db6f78141654192"
      }
     },
     "48c8f8c1d8124404a67826c499a6adba": {
      "model_module": "@jupyter-widgets/controls",
      "model_module_version": "1.4.0",
      "model_name": "HBoxModel",
      "state": {
       "children": [
        "IPY_MODEL_8f503476ad974497962fc45ff8d38120",
        "IPY_MODEL_ecafc1ebe9024cf3a282904f64ca978a"
       ],
       "layout": "IPY_MODEL_394120ebb7b04272acf6461bcecd3686"
      }
     },
     "48d1bd8049e9497e96fd5787a9f92907": {
      "model_module": "@jupyter-widgets/controls",
      "model_module_version": "1.4.0",
      "model_name": "IntProgressModel",
      "state": {
       "layout": "IPY_MODEL_7eef1762015543eeb00d470dc420ae74",
       "max": 1550,
       "style": "IPY_MODEL_61e51c2b45c2408d921d544f2c409722",
       "value": 1550
      }
     },
     "48f09881b55b47e8aaf5780d8f57017f": {
      "model_module": "@jupyter-widgets/base",
      "model_module_version": "1.1.0",
      "model_name": "LayoutModel",
      "state": {}
     },
     "494e86e7386d4729996e01c3f7d76310": {
      "model_module": "@jupyter-widgets/base",
      "model_module_version": "1.1.0",
      "model_name": "LayoutModel",
      "state": {}
     },
     "495efb90349b4e4991fb77dd8f0b9f6b": {
      "model_module": "@jupyter-widgets/controls",
      "model_module_version": "1.4.0",
      "model_name": "VBoxModel",
      "state": {
       "children": [
        "IPY_MODEL_f1da1b3bd3004e2fa707fb665d17a3e5",
        "IPY_MODEL_3e692cc806eb4345972590f625fd27db",
        "IPY_MODEL_1b0cfbe9069f484e8bff8d735cdfe8f5"
       ],
       "layout": "IPY_MODEL_b3e3b12e8a6b483897ffc2497a3b2b9e"
      }
     },
     "4a11a84f5797411698023405e01a36a5": {
      "model_module": "@jupyter-widgets/base",
      "model_module_version": "1.1.0",
      "model_name": "LayoutModel",
      "state": {}
     },
     "4a145c0bb7be48b6a2a864ccaee541c0": {
      "model_module": "@jupyter-widgets/controls",
      "model_module_version": "1.4.0",
      "model_name": "HBoxModel",
      "state": {
       "children": [
        "IPY_MODEL_651d2658646346babca7aed4be95eef9",
        "IPY_MODEL_3aef95781cec454599b9ee5fe3623eb0"
       ],
       "layout": "IPY_MODEL_613e38e05457444bbd50d2f6cf7f3abf"
      }
     },
     "4a14aa563a874582b6a648e4f14ba2df": {
      "model_module": "@jupyter-widgets/base",
      "model_module_version": "1.1.0",
      "model_name": "LayoutModel",
      "state": {}
     },
     "4a3c326d4819497fb9434da64e609289": {
      "model_module": "@jupyter-widgets/base",
      "model_module_version": "1.1.0",
      "model_name": "LayoutModel",
      "state": {}
     },
     "4b4ef43ee447435781b0f9a80bacc8f5": {
      "model_module": "@jupyter-widgets/base",
      "model_module_version": "1.1.0",
      "model_name": "LayoutModel",
      "state": {}
     },
     "4c3ab83bddf6497c891f814b2ff0eb7e": {
      "model_module": "@jupyter-widgets/controls",
      "model_module_version": "1.4.0",
      "model_name": "IntProgressModel",
      "state": {
       "bar_style": "danger",
       "layout": "IPY_MODEL_ff661c5825e4432eb8927730d0c9115b",
       "max": 1550,
       "style": "IPY_MODEL_058789f83148405ca749cac6267e3aef",
       "value": 99
      }
     },
     "4c590bd09dd949c1a81153d2a1e2fe83": {
      "model_module": "@jupyter-widgets/base",
      "model_module_version": "1.1.0",
      "model_name": "LayoutModel",
      "state": {}
     },
     "4d4027fe40fa4e63922f6193c029fb1d": {
      "model_module": "@jupyter-widgets/base",
      "model_module_version": "1.1.0",
      "model_name": "LayoutModel",
      "state": {}
     },
     "4d632241029249c88fd1ced80d1cb8e9": {
      "model_module": "@jupyter-widgets/controls",
      "model_module_version": "1.4.0",
      "model_name": "ProgressStyleModel",
      "state": {
       "description_width": ""
      }
     },
     "4d7cb23d51054bb5b1c422fdff6ccf9e": {
      "model_module": "@jupyter-widgets/base",
      "model_module_version": "1.1.0",
      "model_name": "LayoutModel",
      "state": {}
     },
     "4df27b34b8904fe487120848b7541c08": {
      "model_module": "@jupyter-widgets/controls",
      "model_module_version": "1.4.0",
      "model_name": "IntProgressModel",
      "state": {
       "layout": "IPY_MODEL_3b13c4b17d7344c686337b833d229f2b",
       "max": 1550,
       "style": "IPY_MODEL_bb31d63242be4c12a79441d31ded7f5b",
       "value": 1550
      }
     },
     "4e07afe9b1b648f9b4ee70341165419b": {
      "model_module": "@jupyter-widgets/base",
      "model_module_version": "1.1.0",
      "model_name": "LayoutModel",
      "state": {}
     },
     "4f34fd4053644e36af66f520b55e7cc4": {
      "model_module": "@jupyter-widgets/base",
      "model_module_version": "1.1.0",
      "model_name": "LayoutModel",
      "state": {}
     },
     "4f41b553f72542cf9323f671236540e2": {
      "model_module": "@jupyter-widgets/base",
      "model_module_version": "1.1.0",
      "model_name": "LayoutModel",
      "state": {}
     },
     "4f8614abf9b7478e90d93fb323e011ac": {
      "model_module": "@jupyter-widgets/controls",
      "model_module_version": "1.4.0",
      "model_name": "IntProgressModel",
      "state": {
       "bar_style": "danger",
       "layout": "IPY_MODEL_679b2aa7a074493fa15b3512d896de05",
       "max": 1550,
       "style": "IPY_MODEL_f3fdf213b142482bbdb9ce79d6bf6616",
       "value": 309
      }
     },
     "51297237de9b4d28a876c45585f3de5f": {
      "model_module": "@jupyter-widgets/base",
      "model_module_version": "1.1.0",
      "model_name": "LayoutModel",
      "state": {}
     },
     "512b891e3c964286bd05c08492036982": {
      "model_module": "@jupyter-widgets/controls",
      "model_module_version": "1.4.0",
      "model_name": "ProgressStyleModel",
      "state": {
       "description_width": ""
      }
     },
     "51b3a8dca17648ec966876d98f586a93": {
      "model_module": "@jupyter-widgets/controls",
      "model_module_version": "1.4.0",
      "model_name": "ProgressStyleModel",
      "state": {
       "description_width": ""
      }
     },
     "51bcde6885b541cd82f866e8b5159ada": {
      "model_module": "@jupyter-widgets/controls",
      "model_module_version": "1.4.0",
      "model_name": "IntProgressModel",
      "state": {
       "layout": "IPY_MODEL_b72acc0522fd4c7baebc1336643e7f2c",
       "max": 3501,
       "style": "IPY_MODEL_23d938afbff64ea5ac59adafdfb57a2f",
       "value": 3501
      }
     },
     "5254c0a3f47d473caea70114ef46a980": {
      "model_module": "@jupyter-widgets/base",
      "model_module_version": "1.1.0",
      "model_name": "LayoutModel",
      "state": {}
     },
     "52d6f9142356489694820cb722dab831": {
      "model_module": "@jupyter-widgets/controls",
      "model_module_version": "1.4.0",
      "model_name": "HTMLModel",
      "state": {
       "layout": "IPY_MODEL_bb3b777615e049a2b5fa2675cd2a1f56",
       "style": "IPY_MODEL_190df18a68804e0fbde5b2ce2c31e0eb",
       "value": "100.00% [3501/3501 03:50<00:00]"
      }
     },
     "534d765c88704875b8d27d43097ac2c0": {
      "model_module": "@jupyter-widgets/controls",
      "model_module_version": "1.4.0",
      "model_name": "DescriptionStyleModel",
      "state": {
       "description_width": ""
      }
     },
     "537d5e8dc51943978bf7ea8ed9c2d5f9": {
      "model_module": "@jupyter-widgets/controls",
      "model_module_version": "1.4.0",
      "model_name": "DescriptionStyleModel",
      "state": {
       "description_width": ""
      }
     },
     "5498f9432c4347d097d9202c8bd83314": {
      "model_module": "@jupyter-widgets/base",
      "model_module_version": "1.1.0",
      "model_name": "LayoutModel",
      "state": {}
     },
     "54aa1565f581447a82211013dbed83bb": {
      "model_module": "@jupyter-widgets/base",
      "model_module_version": "1.1.0",
      "model_name": "LayoutModel",
      "state": {}
     },
     "55083b88b22a4224ac2c118977d9b442": {
      "model_module": "@jupyter-widgets/base",
      "model_module_version": "1.1.0",
      "model_name": "LayoutModel",
      "state": {}
     },
     "55c341baa67641b1aaee6c30ec3b1103": {
      "model_module": "@jupyter-widgets/base",
      "model_module_version": "1.1.0",
      "model_name": "LayoutModel",
      "state": {}
     },
     "55dd3725f54d491dbfed0ebb8fcce1dd": {
      "model_module": "@jupyter-widgets/controls",
      "model_module_version": "1.4.0",
      "model_name": "DescriptionStyleModel",
      "state": {
       "description_width": ""
      }
     },
     "55dee7d3158c40b09a278fd52e1d7a3b": {
      "model_module": "@jupyter-widgets/controls",
      "model_module_version": "1.4.0",
      "model_name": "ProgressStyleModel",
      "state": {
       "description_width": ""
      }
     },
     "56161b3536ab4c1c9edb6280a90b5611": {
      "model_module": "@jupyter-widgets/base",
      "model_module_version": "1.1.0",
      "model_name": "LayoutModel",
      "state": {}
     },
     "56acfbef0e1b4d2fa1a9d2d718f09b80": {
      "model_module": "@jupyter-widgets/base",
      "model_module_version": "1.1.0",
      "model_name": "LayoutModel",
      "state": {}
     },
     "56db252a0263432ca132d9ceea2402eb": {
      "model_module": "@jupyter-widgets/base",
      "model_module_version": "1.1.0",
      "model_name": "LayoutModel",
      "state": {}
     },
     "56dc4974866445bd949751e931278023": {
      "model_module": "@jupyter-widgets/base",
      "model_module_version": "1.1.0",
      "model_name": "LayoutModel",
      "state": {}
     },
     "578bd754fa7043aa93a7f68d1073e274": {
      "model_module": "@jupyter-widgets/controls",
      "model_module_version": "1.4.0",
      "model_name": "HBoxModel",
      "state": {
       "children": [
        "IPY_MODEL_6a305fe677b34388911900eec54da92d",
        "IPY_MODEL_0c3f6e4b68b445c68183b18c90117123"
       ],
       "layout": "IPY_MODEL_171bdec3dfa5477ebdfd183548de0a24"
      }
     },
     "579f1c1cfa8c47e5af49c4ebd4ce7c95": {
      "model_module": "@jupyter-widgets/base",
      "model_module_version": "1.1.0",
      "model_name": "LayoutModel",
      "state": {}
     },
     "57cf496c61214a3e8cef45702d3f57dc": {
      "model_module": "@jupyter-widgets/controls",
      "model_module_version": "1.4.0",
      "model_name": "HTMLModel",
      "state": {
       "layout": "IPY_MODEL_e06bbe88f38947cda745f81033174f2c",
       "style": "IPY_MODEL_cdfa412d64654cdcba2eafd4550725ce",
       "value": "100.00% [3501/3501 03:51<00:00]"
      }
     },
     "57e029932e62418d807e391dc696da4c": {
      "model_module": "@jupyter-widgets/controls",
      "model_module_version": "1.4.0",
      "model_name": "HTMLModel",
      "state": {
       "layout": "IPY_MODEL_1fde777c14144354a43f95fb7d1ef0c8",
       "style": "IPY_MODEL_f7b227289c07464680b82082782f4a4c",
       "value": "0.00% [0/1 00:00<00:00]"
      }
     },
     "57f877aca4e1428bb7ec3560319d91b3": {
      "model_module": "@jupyter-widgets/controls",
      "model_module_version": "1.4.0",
      "model_name": "DescriptionStyleModel",
      "state": {
       "description_width": ""
      }
     },
     "5867261461df457f8f337143b3337fdf": {
      "model_module": "@jupyter-widgets/controls",
      "model_module_version": "1.4.0",
      "model_name": "DescriptionStyleModel",
      "state": {
       "description_width": ""
      }
     },
     "5869117522d34104bfdeb49e890cdf38": {
      "model_module": "@jupyter-widgets/controls",
      "model_module_version": "1.4.0",
      "model_name": "ProgressStyleModel",
      "state": {
       "description_width": ""
      }
     },
     "58ddbe4447104f1b81c8b30f4d3d2e98": {
      "model_module": "@jupyter-widgets/controls",
      "model_module_version": "1.4.0",
      "model_name": "ProgressStyleModel",
      "state": {
       "description_width": ""
      }
     },
     "58ed0277a6cd47d591fa0e10fb51e557": {
      "model_module": "@jupyter-widgets/controls",
      "model_module_version": "1.4.0",
      "model_name": "HBoxModel",
      "state": {
       "children": [
        "IPY_MODEL_4c3ab83bddf6497c891f814b2ff0eb7e",
        "IPY_MODEL_eb2dfc9831bf4ad0b9cd40f27b6d7b90"
       ],
       "layout": "IPY_MODEL_fb9e5d85933744119acb03405025286b"
      }
     },
     "58ee32f88e064120be69fbc9ff2708aa": {
      "model_module": "@jupyter-widgets/controls",
      "model_module_version": "1.4.0",
      "model_name": "IntProgressModel",
      "state": {
       "layout": "IPY_MODEL_e9059f549dc44e52bf38095812fa5797",
       "max": 3501,
       "style": "IPY_MODEL_ba3a0e1e648346dd9faf9df619611647",
       "value": 3501
      }
     },
     "593a0a71fd8f4cb0a0a8fb8de3710317": {
      "model_module": "@jupyter-widgets/controls",
      "model_module_version": "1.4.0",
      "model_name": "DescriptionStyleModel",
      "state": {
       "description_width": ""
      }
     },
     "5983dea622e14e5888a873b4cf5038cf": {
      "model_module": "@jupyter-widgets/base",
      "model_module_version": "1.1.0",
      "model_name": "LayoutModel",
      "state": {}
     },
     "59af9e8115844d8fae60141da40cbe2c": {
      "model_module": "@jupyter-widgets/controls",
      "model_module_version": "1.4.0",
      "model_name": "ProgressStyleModel",
      "state": {
       "description_width": ""
      }
     },
     "5a305ac81b064fdab4a5eae8c8d65674": {
      "model_module": "@jupyter-widgets/controls",
      "model_module_version": "1.4.0",
      "model_name": "ProgressStyleModel",
      "state": {
       "description_width": ""
      }
     },
     "5a37938c97f34508bb372e8fb26d23bd": {
      "model_module": "@jupyter-widgets/base",
      "model_module_version": "1.1.0",
      "model_name": "LayoutModel",
      "state": {}
     },
     "5a94eda8cab441a5ae5a488934af6380": {
      "model_module": "@jupyter-widgets/base",
      "model_module_version": "1.1.0",
      "model_name": "LayoutModel",
      "state": {}
     },
     "5aaade0142b14d0ea35091e7cbbb0556": {
      "model_module": "@jupyter-widgets/base",
      "model_module_version": "1.1.0",
      "model_name": "LayoutModel",
      "state": {}
     },
     "5aea0d7138ee44e7a1fc4954318de780": {
      "model_module": "@jupyter-widgets/base",
      "model_module_version": "1.1.0",
      "model_name": "LayoutModel",
      "state": {}
     },
     "5b4338b06be24e039bed166a943daf41": {
      "model_module": "@jupyter-widgets/controls",
      "model_module_version": "1.4.0",
      "model_name": "ProgressStyleModel",
      "state": {
       "description_width": ""
      }
     },
     "5bc3dda26b82497ca0775708cf443c57": {
      "model_module": "@jupyter-widgets/controls",
      "model_module_version": "1.4.0",
      "model_name": "IntProgressModel",
      "state": {
       "layout": "IPY_MODEL_4580599aa38f43a281b6bd64cd3464af",
       "max": 1550,
       "style": "IPY_MODEL_67bb26741ad547e7bf1c14908bbd1539",
       "value": 1550
      }
     },
     "5bf637791d944a8aafbe7da4f1fa39fc": {
      "model_module": "@jupyter-widgets/base",
      "model_module_version": "1.1.0",
      "model_name": "LayoutModel",
      "state": {}
     },
     "5c0c552149d54b18a4747e957bb26bd7": {
      "model_module": "@jupyter-widgets/controls",
      "model_module_version": "1.4.0",
      "model_name": "DescriptionStyleModel",
      "state": {
       "description_width": ""
      }
     },
     "5ce642aa464d4a6c96ae5edfcaa1cb9c": {
      "model_module": "@jupyter-widgets/base",
      "model_module_version": "1.1.0",
      "model_name": "LayoutModel",
      "state": {}
     },
     "5ce7bf74287f4129bc93d8a23f3a2e9d": {
      "model_module": "@jupyter-widgets/controls",
      "model_module_version": "1.4.0",
      "model_name": "HTMLModel",
      "state": {
       "layout": "IPY_MODEL_63dbfbbb9ac84ff9a44f99cfbeadf178",
       "style": "IPY_MODEL_cc7a5af1d3044618b841719785f8b3b6",
       "value": "83.33% [5/6 39:04<07:48]"
      }
     },
     "5d0440dee42b4458bb4ee69de1faf792": {
      "model_module": "@jupyter-widgets/controls",
      "model_module_version": "1.4.0",
      "model_name": "DescriptionStyleModel",
      "state": {
       "description_width": ""
      }
     },
     "5e2adca0175d4dcdb10c8f98279d3f96": {
      "model_module": "@jupyter-widgets/base",
      "model_module_version": "1.1.0",
      "model_name": "LayoutModel",
      "state": {}
     },
     "5e667ea7bdd343a3864f7271c0cb06c6": {
      "model_module": "@jupyter-widgets/controls",
      "model_module_version": "1.4.0",
      "model_name": "DescriptionStyleModel",
      "state": {
       "description_width": ""
      }
     },
     "5f42d8ec02c445209f004b3ed71d9801": {
      "model_module": "@jupyter-widgets/controls",
      "model_module_version": "1.4.0",
      "model_name": "IntProgressModel",
      "state": {
       "layout": "IPY_MODEL_f7bbb072891148e8b012557eec2ee1e7",
       "max": 1550,
       "style": "IPY_MODEL_4032605ef6c44803a24d04ad374dd588",
       "value": 1550
      }
     },
     "5f96ee09f96e4daaa8b78ce6f2ae260b": {
      "model_module": "@jupyter-widgets/base",
      "model_module_version": "1.1.0",
      "model_name": "LayoutModel",
      "state": {}
     },
     "60d6fcf4995d448e94a8789c2ad9315f": {
      "model_module": "@jupyter-widgets/controls",
      "model_module_version": "1.4.0",
      "model_name": "ProgressStyleModel",
      "state": {
       "description_width": ""
      }
     },
     "613e38e05457444bbd50d2f6cf7f3abf": {
      "model_module": "@jupyter-widgets/base",
      "model_module_version": "1.1.0",
      "model_name": "LayoutModel",
      "state": {}
     },
     "616a5ac75f824697b50132a54c2776c0": {
      "model_module": "@jupyter-widgets/base",
      "model_module_version": "1.1.0",
      "model_name": "LayoutModel",
      "state": {}
     },
     "616fbacd2f3f4f639b11d4dda683f3e1": {
      "model_module": "@jupyter-widgets/controls",
      "model_module_version": "1.4.0",
      "model_name": "HTMLModel",
      "state": {
       "layout": "IPY_MODEL_2e2cd0d4c5a54a02b5c9885b58d7bf5c",
       "style": "IPY_MODEL_a0f6d2ac3ab44d86838f267e0551cb8e",
       "value": "0.00% [0/3 00:00<00:00]"
      }
     },
     "619ac642fdb642deb8e99fac0b286a97": {
      "model_module": "@jupyter-widgets/base",
      "model_module_version": "1.1.0",
      "model_name": "LayoutModel",
      "state": {}
     },
     "61e51c2b45c2408d921d544f2c409722": {
      "model_module": "@jupyter-widgets/controls",
      "model_module_version": "1.4.0",
      "model_name": "ProgressStyleModel",
      "state": {
       "description_width": ""
      }
     },
     "6207f20e24ab49e88610a93167daae56": {
      "model_module": "@jupyter-widgets/base",
      "model_module_version": "1.1.0",
      "model_name": "LayoutModel",
      "state": {}
     },
     "6212c96d1fb64bb7b05da52c7c38ca33": {
      "model_module": "@jupyter-widgets/base",
      "model_module_version": "1.1.0",
      "model_name": "LayoutModel",
      "state": {}
     },
     "62194d876ce14ffa903b8316274c8400": {
      "model_module": "@jupyter-widgets/controls",
      "model_module_version": "1.4.0",
      "model_name": "HTMLModel",
      "state": {
       "layout": "IPY_MODEL_24fcf2f182c442d59aa8e8c0c5b1d1af",
       "style": "IPY_MODEL_9a0bec5dd4824e6296f5452f4ad49bd2",
       "value": "100.00% [3501/3501 03:50<00:00]"
      }
     },
     "6228dc9e73e14233adb05607063684ba": {
      "model_module": "@jupyter-widgets/controls",
      "model_module_version": "1.4.0",
      "model_name": "HBoxModel",
      "state": {
       "children": [
        "IPY_MODEL_3e6b1a25f3a4464d8c460d4bd7edd479",
        "IPY_MODEL_709ec9e794894e98aa39e2a83b89887a"
       ],
       "layout": "IPY_MODEL_e668d34533fc49ce9b917a94fb023fa8"
      }
     },
     "626b4c94f0ba48079a729b3d1f2856e2": {
      "model_module": "@jupyter-widgets/controls",
      "model_module_version": "1.4.0",
      "model_name": "DescriptionStyleModel",
      "state": {
       "description_width": ""
      }
     },
     "6327c7885b8c4c9087d3f199a4c51590": {
      "model_module": "@jupyter-widgets/controls",
      "model_module_version": "1.4.0",
      "model_name": "DescriptionStyleModel",
      "state": {
       "description_width": ""
      }
     },
     "63957f8dd5a94161a80c00f6a625be71": {
      "model_module": "@jupyter-widgets/base",
      "model_module_version": "1.1.0",
      "model_name": "LayoutModel",
      "state": {}
     },
     "63dbfbbb9ac84ff9a44f99cfbeadf178": {
      "model_module": "@jupyter-widgets/base",
      "model_module_version": "1.1.0",
      "model_name": "LayoutModel",
      "state": {}
     },
     "646a0d34eb824baebc0ba2d5409fe14f": {
      "model_module": "@jupyter-widgets/controls",
      "model_module_version": "1.4.0",
      "model_name": "DescriptionStyleModel",
      "state": {
       "description_width": ""
      }
     },
     "647dc3f48e2649ddbac7211fdf47bdcd": {
      "model_module": "@jupyter-widgets/controls",
      "model_module_version": "1.4.0",
      "model_name": "DescriptionStyleModel",
      "state": {
       "description_width": ""
      }
     },
     "648ef7bc25ea4573b938fde4caa756b3": {
      "model_module": "@jupyter-widgets/controls",
      "model_module_version": "1.4.0",
      "model_name": "IntProgressModel",
      "state": {
       "layout": "IPY_MODEL_fee5a4e8de914778ad2773778780a2c5",
       "max": 3501,
       "style": "IPY_MODEL_58ddbe4447104f1b81c8b30f4d3d2e98",
       "value": 3501
      }
     },
     "65095141b34b4bc1a21161f0b3af1c93": {
      "model_module": "@jupyter-widgets/controls",
      "model_module_version": "1.4.0",
      "model_name": "IntProgressModel",
      "state": {
       "layout": "IPY_MODEL_65b49e90ee8d4822ada6f7196cc803e0",
       "max": 3501,
       "style": "IPY_MODEL_374ca6e1f7df44d880a0c64fd5b9dbd3",
       "value": 3501
      }
     },
     "651d2658646346babca7aed4be95eef9": {
      "model_module": "@jupyter-widgets/controls",
      "model_module_version": "1.4.0",
      "model_name": "IntProgressModel",
      "state": {
       "bar_style": "danger",
       "layout": "IPY_MODEL_e9b9878e61e44175b705607f7942e21f",
       "max": 1550,
       "style": "IPY_MODEL_681f8667ce6848f1a8022dfbbb0ba757",
       "value": 99
      }
     },
     "6560c0966891462fb13a8fe2fa411b17": {
      "model_module": "@jupyter-widgets/controls",
      "model_module_version": "1.4.0",
      "model_name": "HTMLModel",
      "state": {
       "layout": "IPY_MODEL_faa5731df7914eadac1f7fd60c611a39",
       "style": "IPY_MODEL_7c17ab0782e24570ae4d58be06ce417f",
       "value": "0.00% [0/1 00:00<00:00]"
      }
     },
     "657f75c6b60f419aae270d164288fb0e": {
      "model_module": "@jupyter-widgets/base",
      "model_module_version": "1.1.0",
      "model_name": "LayoutModel",
      "state": {}
     },
     "65811d773ea143b194171ebdc7c56e2b": {
      "model_module": "@jupyter-widgets/controls",
      "model_module_version": "1.4.0",
      "model_name": "VBoxModel",
      "state": {
       "children": [
        "IPY_MODEL_d899d9a786824fcf8c5b09ee387d4fd6",
        "IPY_MODEL_a08c58fec766484bba66e58f16b991e2",
        "IPY_MODEL_9f0f2b64fdc5443ea88b25e8c09f495f"
       ],
       "layout": "IPY_MODEL_ec0319a160c9424d8743039ddd162315"
      }
     },
     "65b49e90ee8d4822ada6f7196cc803e0": {
      "model_module": "@jupyter-widgets/base",
      "model_module_version": "1.1.0",
      "model_name": "LayoutModel",
      "state": {}
     },
     "65bbd6aad19d4b2896ab8dc62f1c2a4c": {
      "model_module": "@jupyter-widgets/base",
      "model_module_version": "1.1.0",
      "model_name": "LayoutModel",
      "state": {}
     },
     "662792038b15455485f0dc8c402dbba0": {
      "model_module": "@jupyter-widgets/base",
      "model_module_version": "1.1.0",
      "model_name": "LayoutModel",
      "state": {}
     },
     "66daf48935ee4f8e8870a86bd3a3f19d": {
      "model_module": "@jupyter-widgets/controls",
      "model_module_version": "1.4.0",
      "model_name": "DescriptionStyleModel",
      "state": {
       "description_width": ""
      }
     },
     "679b2aa7a074493fa15b3512d896de05": {
      "model_module": "@jupyter-widgets/base",
      "model_module_version": "1.1.0",
      "model_name": "LayoutModel",
      "state": {}
     },
     "67bb26741ad547e7bf1c14908bbd1539": {
      "model_module": "@jupyter-widgets/controls",
      "model_module_version": "1.4.0",
      "model_name": "ProgressStyleModel",
      "state": {
       "description_width": ""
      }
     },
     "67c130b0227f4dafba37df7beb7390ea": {
      "model_module": "@jupyter-widgets/base",
      "model_module_version": "1.1.0",
      "model_name": "LayoutModel",
      "state": {}
     },
     "67d30aa60bd7489d8d09833b9d49ed2f": {
      "model_module": "@jupyter-widgets/controls",
      "model_module_version": "1.4.0",
      "model_name": "DescriptionStyleModel",
      "state": {
       "description_width": ""
      }
     },
     "681f8667ce6848f1a8022dfbbb0ba757": {
      "model_module": "@jupyter-widgets/controls",
      "model_module_version": "1.4.0",
      "model_name": "ProgressStyleModel",
      "state": {
       "description_width": ""
      }
     },
     "6834e6b4655d47f4963b876c0b2b6492": {
      "model_module": "@jupyter-widgets/controls",
      "model_module_version": "1.4.0",
      "model_name": "HTMLModel",
      "state": {
       "layout": "IPY_MODEL_a2e967ffd01848f4899cffe42f05d533",
       "style": "IPY_MODEL_73dd23d92825431f8e12a08e0f7c2182",
       "value": "100.00% [2/2 15:38<00:00]"
      }
     },
     "686c500ae2a84052baf2150dcd924351": {
      "model_module": "@jupyter-widgets/controls",
      "model_module_version": "1.4.0",
      "model_name": "ProgressStyleModel",
      "state": {
       "description_width": ""
      }
     },
     "68720adddb134c0da1ea8c982348742c": {
      "model_module": "@jupyter-widgets/base",
      "model_module_version": "1.1.0",
      "model_name": "LayoutModel",
      "state": {}
     },
     "68dee1b7cbcd4902bfe999ad9d0ef301": {
      "model_module": "@jupyter-widgets/base",
      "model_module_version": "1.1.0",
      "model_name": "LayoutModel",
      "state": {}
     },
     "6a305fe677b34388911900eec54da92d": {
      "model_module": "@jupyter-widgets/controls",
      "model_module_version": "1.4.0",
      "model_name": "IntProgressModel",
      "state": {
       "layout": "IPY_MODEL_16fd6a8ac6224573b91f856121f8e558",
       "max": 2,
       "style": "IPY_MODEL_9ec99c08032b454683585a2390c656c6"
      }
     },
     "6acfed3ee6ea42c7923959ecc59a8328": {
      "model_module": "@jupyter-widgets/controls",
      "model_module_version": "1.4.0",
      "model_name": "ProgressStyleModel",
      "state": {
       "description_width": ""
      }
     },
     "6b7896cb94ff472ebecc3c39e01c2021": {
      "model_module": "@jupyter-widgets/controls",
      "model_module_version": "1.4.0",
      "model_name": "HTMLModel",
      "state": {
       "layout": "IPY_MODEL_619ac642fdb642deb8e99fac0b286a97",
       "style": "IPY_MODEL_78f0af2dfb614a499a511ff2744e195a",
       "value": "0.00% [0/2 00:00<00:00]"
      }
     },
     "6c0292189685451c82efd1d26f6f97d1": {
      "model_module": "@jupyter-widgets/base",
      "model_module_version": "1.1.0",
      "model_name": "LayoutModel",
      "state": {}
     },
     "6c2ee39ec6994aa3a4802dca1f501058": {
      "model_module": "@jupyter-widgets/controls",
      "model_module_version": "1.4.0",
      "model_name": "HTMLModel",
      "state": {
       "layout": "IPY_MODEL_1f03d91066ef45dbb96575f32b315b00",
       "style": "IPY_MODEL_a99d0c805b6a4fc6946a6dcbc62f9d37",
       "value": "100.00% [1/1 07:48<00:00]"
      }
     },
     "6c4f4b56a5fe4be8b86510cebe49d5f9": {
      "model_module": "@jupyter-widgets/controls",
      "model_module_version": "1.4.0",
      "model_name": "HTMLModel",
      "state": {
       "layout": "IPY_MODEL_9ea8dab7a20f4bbca97cf5412eb7b3e9",
       "style": "IPY_MODEL_233be081ffce4c07bca5c28f99a29d43",
       "value": "0.00% [0/1 00:00<00:00]"
      }
     },
     "6c908c5bc2c7411cb30640440fd7b99f": {
      "model_module": "@jupyter-widgets/base",
      "model_module_version": "1.1.0",
      "model_name": "LayoutModel",
      "state": {}
     },
     "6d1606891f6b4a9fb0b401b0ba35b761": {
      "model_module": "@jupyter-widgets/base",
      "model_module_version": "1.1.0",
      "model_name": "LayoutModel",
      "state": {}
     },
     "6d618ca246764826918a4825ae7fdd3c": {
      "model_module": "@jupyter-widgets/controls",
      "model_module_version": "1.4.0",
      "model_name": "DescriptionStyleModel",
      "state": {
       "description_width": ""
      }
     },
     "6d9714513b9742d0b5b086851a5a6b3e": {
      "model_module": "@jupyter-widgets/base",
      "model_module_version": "1.1.0",
      "model_name": "LayoutModel",
      "state": {}
     },
     "6db4990a92f24ca08f6d1e9e14ffd57f": {
      "model_module": "@jupyter-widgets/controls",
      "model_module_version": "1.4.0",
      "model_name": "HTMLModel",
      "state": {
       "layout": "IPY_MODEL_106f8a8a7e9947e1898f0313f75e4c92",
       "style": "IPY_MODEL_1d5ec13e9437454fa3b3f43fcf08253c",
       "value": "epoch  train loss  valid loss  accuracy<p>0      2.438206    1.309509    0.764011<p>1      1.615931    1.033092    0.816339<p>"
      }
     },
     "6db54d66b5de48098390c9e174847deb": {
      "model_module": "@jupyter-widgets/controls",
      "model_module_version": "1.4.0",
      "model_name": "VBoxModel",
      "state": {
       "children": [
        "IPY_MODEL_f2f241b9d33242a7abc6ed48519894e7",
        "IPY_MODEL_348dd1f9edc24c409b69297379beffeb",
        "IPY_MODEL_dbf6e43727df447d81757210c77f7fcf"
       ],
       "layout": "IPY_MODEL_bb2cbb16d20a4920a1d01fbfdc78cd95"
      }
     },
     "6dfca50a958a440a86b773a6206f2d47": {
      "model_module": "@jupyter-widgets/base",
      "model_module_version": "1.1.0",
      "model_name": "LayoutModel",
      "state": {}
     },
     "6e67ce20ee2644718cc230914e13b21a": {
      "model_module": "@jupyter-widgets/base",
      "model_module_version": "1.1.0",
      "model_name": "LayoutModel",
      "state": {}
     },
     "6eb729d190744d7bb84f2b813baddb3a": {
      "model_module": "@jupyter-widgets/base",
      "model_module_version": "1.1.0",
      "model_name": "LayoutModel",
      "state": {}
     },
     "6ed1d648031a403aa5bb290677181e2e": {
      "model_module": "@jupyter-widgets/controls",
      "model_module_version": "1.4.0",
      "model_name": "HBoxModel",
      "state": {
       "children": [
        "IPY_MODEL_2aa8f506d65548588ae687f8be1c5ff2",
        "IPY_MODEL_e99406bdd0b14b8b95233744b3238adc"
       ],
       "layout": "IPY_MODEL_257102aaa09a45aaa0cb3ebbddc2bc17"
      }
     },
     "6ee23ddc40e7404f8e65707de752d1b5": {
      "model_module": "@jupyter-widgets/controls",
      "model_module_version": "1.4.0",
      "model_name": "IntProgressModel",
      "state": {
       "bar_style": "danger",
       "layout": "IPY_MODEL_80ca26f67fce4df4bfc466d1bbdbcf71",
       "max": 1550,
       "style": "IPY_MODEL_d595b370191245048708c9f9185f27f9",
       "value": 4
      }
     },
     "6f1685bbef094a06961caf303be34293": {
      "model_module": "@jupyter-widgets/base",
      "model_module_version": "1.1.0",
      "model_name": "LayoutModel",
      "state": {}
     },
     "6f18f133733e430c91e7ed56c76bc841": {
      "model_module": "@jupyter-widgets/controls",
      "model_module_version": "1.4.0",
      "model_name": "ProgressStyleModel",
      "state": {
       "description_width": ""
      }
     },
     "6f599f00ea594f50ba8c5a21a9c118a9": {
      "model_module": "@jupyter-widgets/base",
      "model_module_version": "1.1.0",
      "model_name": "LayoutModel",
      "state": {}
     },
     "6fff97d0f984414a8ef6bc3fa8911f61": {
      "model_module": "@jupyter-widgets/base",
      "model_module_version": "1.1.0",
      "model_name": "LayoutModel",
      "state": {}
     },
     "6fffe295e7844bf2aa551c75b187ae0d": {
      "model_module": "@jupyter-widgets/base",
      "model_module_version": "1.1.0",
      "model_name": "LayoutModel",
      "state": {}
     },
     "7016be64e7364b5baff72f96bb9d08be": {
      "model_module": "@jupyter-widgets/controls",
      "model_module_version": "1.4.0",
      "model_name": "DescriptionStyleModel",
      "state": {
       "description_width": ""
      }
     },
     "7026b9bb716c4a8e8156136809cd20b7": {
      "model_module": "@jupyter-widgets/controls",
      "model_module_version": "1.4.0",
      "model_name": "DescriptionStyleModel",
      "state": {
       "description_width": ""
      }
     },
     "703a063ad26b4f18860a34d771487b6a": {
      "model_module": "@jupyter-widgets/controls",
      "model_module_version": "1.4.0",
      "model_name": "ProgressStyleModel",
      "state": {
       "description_width": ""
      }
     },
     "709ec9e794894e98aa39e2a83b89887a": {
      "model_module": "@jupyter-widgets/controls",
      "model_module_version": "1.4.0",
      "model_name": "HTMLModel",
      "state": {
       "layout": "IPY_MODEL_2c1ae389ee74461c9dc1f44f02e8d50f",
       "style": "IPY_MODEL_4404f48124374df08d94aad1b8beeb64",
       "value": "100.00% [2/2 15:34<00:00]"
      }
     },
     "70b0a60b36fa47a4825dea6d30cfd2cb": {
      "model_module": "@jupyter-widgets/base",
      "model_module_version": "1.1.0",
      "model_name": "LayoutModel",
      "state": {}
     },
     "70fc984bc48048e9826740d480377ade": {
      "model_module": "@jupyter-widgets/controls",
      "model_module_version": "1.4.0",
      "model_name": "ProgressStyleModel",
      "state": {
       "description_width": ""
      }
     },
     "71d297c342af470aa163b68a2ae4c60c": {
      "model_module": "@jupyter-widgets/controls",
      "model_module_version": "1.4.0",
      "model_name": "ProgressStyleModel",
      "state": {
       "description_width": ""
      }
     },
     "72d7881addb94136a846fdbbf11d51fd": {
      "model_module": "@jupyter-widgets/controls",
      "model_module_version": "1.4.0",
      "model_name": "HTMLModel",
      "state": {
       "layout": "IPY_MODEL_657f75c6b60f419aae270d164288fb0e",
       "style": "IPY_MODEL_b7b5bad4a87040f1b22e3000a01be3be",
       "value": "100.00% [1550/1550 03:57<00:00 11.9745]"
      }
     },
     "72f79a8df93a4d3ca99fe10a167e2bd3": {
      "model_module": "@jupyter-widgets/controls",
      "model_module_version": "1.4.0",
      "model_name": "HTMLModel",
      "state": {
       "layout": "IPY_MODEL_8e2138d61e1f4a3f8e6b7c67a7c64d79",
       "style": "IPY_MODEL_81db8faaf1df4be69d2615823ee93add",
       "value": "0.00% [0/1 00:00<00:00]"
      }
     },
     "73186f2d1d244336a1ed91f9a8e06455": {
      "model_module": "@jupyter-widgets/controls",
      "model_module_version": "1.4.0",
      "model_name": "HBoxModel",
      "state": {
       "children": [
        "IPY_MODEL_89203043077c472484a9d774e5a6308c",
        "IPY_MODEL_6560c0966891462fb13a8fe2fa411b17"
       ],
       "layout": "IPY_MODEL_ce43122ac21b4f22a8621b153127db83"
      }
     },
     "732f1bd275df44f884e25c73d55f07c9": {
      "model_module": "@jupyter-widgets/base",
      "model_module_version": "1.1.0",
      "model_name": "LayoutModel",
      "state": {}
     },
     "738066f89d114452a8ced8f76ccaefc0": {
      "model_module": "@jupyter-widgets/base",
      "model_module_version": "1.1.0",
      "model_name": "LayoutModel",
      "state": {}
     },
     "73dd23d92825431f8e12a08e0f7c2182": {
      "model_module": "@jupyter-widgets/controls",
      "model_module_version": "1.4.0",
      "model_name": "DescriptionStyleModel",
      "state": {
       "description_width": ""
      }
     },
     "73ec68e2e4974dbaae7d8510fadb7155": {
      "model_module": "@jupyter-widgets/base",
      "model_module_version": "1.1.0",
      "model_name": "LayoutModel",
      "state": {}
     },
     "74444bcea1fd441fb08d5eafbbb54dc8": {
      "model_module": "@jupyter-widgets/controls",
      "model_module_version": "1.4.0",
      "model_name": "VBoxModel",
      "state": {
       "children": [
        "IPY_MODEL_24c34f969fb54c7ca09537f5e25fa1f0",
        "IPY_MODEL_e595fc85109a416d9d44eef980d56ec5",
        "IPY_MODEL_3737fbe20ae248b8b4e497533c9f9c52"
       ],
       "layout": "IPY_MODEL_cd356a4275a149caba2baeb7298a1e7e"
      }
     },
     "747d1e2e409c4efdb48d65827c23ce3f": {
      "model_module": "@jupyter-widgets/controls",
      "model_module_version": "1.4.0",
      "model_name": "ProgressStyleModel",
      "state": {
       "description_width": ""
      }
     },
     "748acf938c5144d5918c06170fb53c7d": {
      "model_module": "@jupyter-widgets/controls",
      "model_module_version": "1.4.0",
      "model_name": "IntProgressModel",
      "state": {
       "layout": "IPY_MODEL_91f5c9e995c2433ab00b988c4f08a3b5",
       "max": 2,
       "style": "IPY_MODEL_d4e0a3392e7d4ec6ae9b3a4145dfee53",
       "value": 2
      }
     },
     "748b5aa06bdd4552a3ba7f529e20aa1b": {
      "model_module": "@jupyter-widgets/controls",
      "model_module_version": "1.4.0",
      "model_name": "ProgressStyleModel",
      "state": {
       "description_width": ""
      }
     },
     "756c1616d49c41a1a5e43f6488d86e06": {
      "model_module": "@jupyter-widgets/controls",
      "model_module_version": "1.4.0",
      "model_name": "DescriptionStyleModel",
      "state": {
       "description_width": ""
      }
     },
     "75dd7f7fc97d491686a192c70110bd56": {
      "model_module": "@jupyter-widgets/base",
      "model_module_version": "1.1.0",
      "model_name": "LayoutModel",
      "state": {}
     },
     "762ba97281bc46b8a981625ed8e9c801": {
      "model_module": "@jupyter-widgets/base",
      "model_module_version": "1.1.0",
      "model_name": "LayoutModel",
      "state": {}
     },
     "76659cab67964e7a8175b8b28fdeccda": {
      "model_module": "@jupyter-widgets/controls",
      "model_module_version": "1.4.0",
      "model_name": "ProgressStyleModel",
      "state": {
       "description_width": ""
      }
     },
     "76940ce4398f4b6aa5d70db37d6dbe6c": {
      "model_module": "@jupyter-widgets/base",
      "model_module_version": "1.1.0",
      "model_name": "LayoutModel",
      "state": {}
     },
     "76ae3a93630843719a92cedb49ed723a": {
      "model_module": "@jupyter-widgets/controls",
      "model_module_version": "1.4.0",
      "model_name": "HTMLModel",
      "state": {
       "layout": "IPY_MODEL_0785594ec6274d41a0311b4fc3f1d79b",
       "style": "IPY_MODEL_1a65425385e9407c9821e4f96b2dbbf6",
       "value": "100.00% [3501/3501 03:51<00:00]"
      }
     },
     "76d035a7fec74717902a530200dc6fa3": {
      "model_module": "@jupyter-widgets/controls",
      "model_module_version": "1.4.0",
      "model_name": "IntProgressModel",
      "state": {
       "layout": "IPY_MODEL_65bbd6aad19d4b2896ab8dc62f1c2a4c",
       "max": 1550,
       "style": "IPY_MODEL_357b7014a84e4833997dd1e7be88d178",
       "value": 1550
      }
     },
     "770eb56d21ab40be974b3d0d1341a21e": {
      "model_module": "@jupyter-widgets/controls",
      "model_module_version": "1.4.0",
      "model_name": "HTMLModel",
      "state": {
       "layout": "IPY_MODEL_6c0292189685451c82efd1d26f6f97d1",
       "style": "IPY_MODEL_eb02d6bb23ff42bc9c9db011b2d8bd22",
       "value": "0.00% [0/1 00:00<00:00]"
      }
     },
     "7727a4b1c766464c9b2189715a1cb0f2": {
      "model_module": "@jupyter-widgets/controls",
      "model_module_version": "1.4.0",
      "model_name": "HTMLModel",
      "state": {
       "layout": "IPY_MODEL_4f41b553f72542cf9323f671236540e2",
       "style": "IPY_MODEL_03eabd7b619e43e389230e55f9309b48",
       "value": "epoch  train loss  valid loss  accuracy<p>0      23.886971 <p>"
      }
     },
     "774cb6ed21104e46885860fb837df44c": {
      "model_module": "@jupyter-widgets/controls",
      "model_module_version": "1.4.0",
      "model_name": "ProgressStyleModel",
      "state": {
       "description_width": ""
      }
     },
     "7750dc4b07bc4cbf80d61a132553c97f": {
      "model_module": "@jupyter-widgets/base",
      "model_module_version": "1.1.0",
      "model_name": "LayoutModel",
      "state": {}
     },
     "7757761c4db34f8a928372c040b323d4": {
      "model_module": "@jupyter-widgets/controls",
      "model_module_version": "1.4.0",
      "model_name": "HTMLModel",
      "state": {
       "layout": "IPY_MODEL_faf8739a478e4841b3b51aa0ca9ae85b",
       "style": "IPY_MODEL_55dd3725f54d491dbfed0ebb8fcce1dd",
       "value": "100.00% [3501/3501 03:50<00:00]"
      }
     },
     "7782b1ce6b1b44b0b05052f95663d3f7": {
      "model_module": "@jupyter-widgets/base",
      "model_module_version": "1.1.0",
      "model_name": "LayoutModel",
      "state": {}
     },
     "78f0af2dfb614a499a511ff2744e195a": {
      "model_module": "@jupyter-widgets/controls",
      "model_module_version": "1.4.0",
      "model_name": "DescriptionStyleModel",
      "state": {
       "description_width": ""
      }
     },
     "798fbcd9454843a9bd8e6d64304ad7ae": {
      "model_module": "@jupyter-widgets/controls",
      "model_module_version": "1.4.0",
      "model_name": "HBoxModel",
      "state": {
       "children": [
        "IPY_MODEL_a2c3748f91844c3a928efcffa9bd59b0",
        "IPY_MODEL_25ee3d81f02f4ede938ee9308c04ed83"
       ],
       "layout": "IPY_MODEL_55c341baa67641b1aaee6c30ec3b1103"
      }
     },
     "79eb74d9d8b74914978d4bfa52191362": {
      "model_module": "@jupyter-widgets/controls",
      "model_module_version": "1.4.0",
      "model_name": "HTMLModel",
      "state": {
       "layout": "IPY_MODEL_c59166e40cf94e508103bfa0736ea3ea",
       "style": "IPY_MODEL_b33026f4c474443cb8717d4b3bd32486",
       "value": "0.00% [0/1 00:00<00:00]"
      }
     },
     "79f54b85ebd2484a93ea5b197a8988d6": {
      "model_module": "@jupyter-widgets/controls",
      "model_module_version": "1.4.0",
      "model_name": "HBoxModel",
      "state": {
       "children": [
        "IPY_MODEL_925b17dc32844c55b5ea3a8d343a0666",
        "IPY_MODEL_c232a03409504695b9f2e1dbb91a136d"
       ],
       "layout": "IPY_MODEL_eb4ad6240bc84cb8bf076b43a0171fc3"
      }
     },
     "7a0eeee86bf7463e87919d0d28271aea": {
      "model_module": "@jupyter-widgets/base",
      "model_module_version": "1.1.0",
      "model_name": "LayoutModel",
      "state": {}
     },
     "7a7d2662b8b2480abab10a3cb635845e": {
      "model_module": "@jupyter-widgets/base",
      "model_module_version": "1.1.0",
      "model_name": "LayoutModel",
      "state": {}
     },
     "7af56df7de0746f59ce34e3470d8005c": {
      "model_module": "@jupyter-widgets/base",
      "model_module_version": "1.1.0",
      "model_name": "LayoutModel",
      "state": {}
     },
     "7b0411d0773849f294005668b9e88283": {
      "model_module": "@jupyter-widgets/base",
      "model_module_version": "1.1.0",
      "model_name": "LayoutModel",
      "state": {}
     },
     "7b7607bed27f45ab8ea83fc68cce4239": {
      "model_module": "@jupyter-widgets/base",
      "model_module_version": "1.1.0",
      "model_name": "LayoutModel",
      "state": {}
     },
     "7b82a93862c3408f90f8e82f035c8728": {
      "model_module": "@jupyter-widgets/base",
      "model_module_version": "1.1.0",
      "model_name": "LayoutModel",
      "state": {}
     },
     "7c17ab0782e24570ae4d58be06ce417f": {
      "model_module": "@jupyter-widgets/controls",
      "model_module_version": "1.4.0",
      "model_name": "DescriptionStyleModel",
      "state": {
       "description_width": ""
      }
     },
     "7c577131ff914820acb156e2aa6222ae": {
      "model_module": "@jupyter-widgets/base",
      "model_module_version": "1.1.0",
      "model_name": "LayoutModel",
      "state": {}
     },
     "7c668cc63cc44af6b81953ae545146e0": {
      "model_module": "@jupyter-widgets/controls",
      "model_module_version": "1.4.0",
      "model_name": "HTMLModel",
      "state": {
       "layout": "IPY_MODEL_928f2e27893b4ea392c7388dc5ca8c58",
       "style": "IPY_MODEL_e5c4bf77b81047298ffd49c7f9fa5583",
       "value": "100.00% [1550/1550 03:57<00:00 88.0355]"
      }
     },
     "7c9616cb407546268d5a1cf0ac61a5bf": {
      "model_module": "@jupyter-widgets/controls",
      "model_module_version": "1.4.0",
      "model_name": "DescriptionStyleModel",
      "state": {
       "description_width": ""
      }
     },
     "7c9cc0cb08ce4a87b77d029f33f786f5": {
      "model_module": "@jupyter-widgets/controls",
      "model_module_version": "1.4.0",
      "model_name": "HTMLModel",
      "state": {
       "layout": "IPY_MODEL_0772a29cace04a30af3c766fed618565",
       "style": "IPY_MODEL_a0bc71bed16449f487a45e239f5c3e8a",
       "value": "100.00% [1550/1550 03:56<00:00 2.4382]"
      }
     },
     "7cc6c7e4510e47e882bbd988fbc1c742": {
      "model_module": "@jupyter-widgets/base",
      "model_module_version": "1.1.0",
      "model_name": "LayoutModel",
      "state": {}
     },
     "7ceb6e35d26f47eb8327103e74242f15": {
      "model_module": "@jupyter-widgets/controls",
      "model_module_version": "1.4.0",
      "model_name": "HTMLModel",
      "state": {
       "layout": "IPY_MODEL_e3577be7d3564350b6c5bb3285f74ffe",
       "style": "IPY_MODEL_1b8a63ebd46648a7a852c0a1f0a23a58",
       "value": "100.00% [3501/3501 03:49<00:00]"
      }
     },
     "7e04abe9790a4821839f96d2797b5921": {
      "model_module": "@jupyter-widgets/controls",
      "model_module_version": "1.4.0",
      "model_name": "HBoxModel",
      "state": {
       "children": [
        "IPY_MODEL_078d80b8212f405d9fd8145a8b323bcc",
        "IPY_MODEL_89eb929d8f704b56be62e8504f136584"
       ],
       "layout": "IPY_MODEL_c9bc5bd44a7a4581b960eaeebbed5305"
      }
     },
     "7e2021ce7d86497f8200aaea87959c21": {
      "model_module": "@jupyter-widgets/base",
      "model_module_version": "1.1.0",
      "model_name": "LayoutModel",
      "state": {}
     },
     "7e68655a3ef54ac3b8425dd5501d0300": {
      "model_module": "@jupyter-widgets/base",
      "model_module_version": "1.1.0",
      "model_name": "LayoutModel",
      "state": {}
     },
     "7eba1983d3d34ec7b17c4038e258c182": {
      "model_module": "@jupyter-widgets/base",
      "model_module_version": "1.1.0",
      "model_name": "LayoutModel",
      "state": {}
     },
     "7ecc70711e344c1c93195a1ce3e0ac96": {
      "model_module": "@jupyter-widgets/base",
      "model_module_version": "1.1.0",
      "model_name": "LayoutModel",
      "state": {}
     },
     "7edfa36a384d48009e612b6d59bb4dcd": {
      "model_module": "@jupyter-widgets/controls",
      "model_module_version": "1.4.0",
      "model_name": "HTMLModel",
      "state": {
       "layout": "IPY_MODEL_5aea0d7138ee44e7a1fc4954318de780",
       "style": "IPY_MODEL_254931dfbd094743b41469aa6fc15238",
       "value": "100.00% [1550/1550 03:57<00:00 1.6159]"
      }
     },
     "7ee7e2b7901e42b3bbe4cdb3757b0d99": {
      "model_module": "@jupyter-widgets/controls",
      "model_module_version": "1.4.0",
      "model_name": "HTMLModel",
      "state": {
       "layout": "IPY_MODEL_ff922a36c0ac4cc7a3820d0ba297a049",
       "style": "IPY_MODEL_26ac3be720cd4d628c9c612430bfa823",
       "value": "100.00% [1550/1550 03:58<00:00 15.3801]"
      }
     },
     "7eef1762015543eeb00d470dc420ae74": {
      "model_module": "@jupyter-widgets/base",
      "model_module_version": "1.1.0",
      "model_name": "LayoutModel",
      "state": {}
     },
     "7f53f17c204d4a23ac443dbb78c32556": {
      "model_module": "@jupyter-widgets/controls",
      "model_module_version": "1.4.0",
      "model_name": "IntProgressModel",
      "state": {
       "layout": "IPY_MODEL_dfe614265ffc49f4944b79918fbaf4e0",
       "max": 3501,
       "style": "IPY_MODEL_8eac86913f7e4795ba622cdc9f61239e",
       "value": 3501
      }
     },
     "7fafdfc021724c428d06c1cc0af7219f": {
      "model_module": "@jupyter-widgets/controls",
      "model_module_version": "1.4.0",
      "model_name": "HTMLModel",
      "state": {
       "layout": "IPY_MODEL_1e9f927af43446e2980de091114bcec5",
       "style": "IPY_MODEL_18dac7eb6f194835a757f8166d88fe7c",
       "value": "0.26% [4/1550 00:00<03:51 7.9749]"
      }
     },
     "7ff2db184b144f178db6f78141654192": {
      "model_module": "@jupyter-widgets/controls",
      "model_module_version": "1.4.0",
      "model_name": "ProgressStyleModel",
      "state": {
       "description_width": ""
      }
     },
     "8045d8d6195b46a89b104508619b938a": {
      "model_module": "@jupyter-widgets/controls",
      "model_module_version": "1.4.0",
      "model_name": "DescriptionStyleModel",
      "state": {
       "description_width": ""
      }
     },
     "80ca26f67fce4df4bfc466d1bbdbcf71": {
      "model_module": "@jupyter-widgets/base",
      "model_module_version": "1.1.0",
      "model_name": "LayoutModel",
      "state": {}
     },
     "80ed860d45e94932bc2b61c6e2677517": {
      "model_module": "@jupyter-widgets/controls",
      "model_module_version": "1.4.0",
      "model_name": "IntProgressModel",
      "state": {
       "layout": "IPY_MODEL_ccab9006c2614c85b7d2e33b65a82694",
       "max": 3501,
       "style": "IPY_MODEL_60d6fcf4995d448e94a8789c2ad9315f",
       "value": 3501
      }
     },
     "8127fdb37c5744e980ee835a9b7647fc": {
      "model_module": "@jupyter-widgets/base",
      "model_module_version": "1.1.0",
      "model_name": "LayoutModel",
      "state": {}
     },
     "8142bf50924641b7b54d990995006f3b": {
      "model_module": "@jupyter-widgets/controls",
      "model_module_version": "1.4.0",
      "model_name": "VBoxModel",
      "state": {
       "children": [
        "IPY_MODEL_ec02e0347bee480fabbf91b51f946e36",
        "IPY_MODEL_7727a4b1c766464c9b2189715a1cb0f2",
        "IPY_MODEL_6ed1d648031a403aa5bb290677181e2e"
       ],
       "layout": "IPY_MODEL_6f1685bbef094a06961caf303be34293"
      }
     },
     "814f165587994493a1e15500a1673eac": {
      "model_module": "@jupyter-widgets/controls",
      "model_module_version": "1.4.0",
      "model_name": "HTMLModel",
      "state": {
       "layout": "IPY_MODEL_868b56bc45914652891705213d2db5a3",
       "style": "IPY_MODEL_36f595eff59f4becb7874fc4585cb493",
       "value": "100.00% [1550/1550 03:57<00:00 9.5996]"
      }
     },
     "8159c47a3832483f8091d1cf0261a150": {
      "model_module": "@jupyter-widgets/controls",
      "model_module_version": "1.4.0",
      "model_name": "IntProgressModel",
      "state": {
       "layout": "IPY_MODEL_923e0449c39847febf542b51d95f5b05",
       "max": 2,
       "style": "IPY_MODEL_71d297c342af470aa163b68a2ae4c60c",
       "value": 2
      }
     },
     "81914b7656ab4cd689cc3e66fa62fec0": {
      "model_module": "@jupyter-widgets/base",
      "model_module_version": "1.1.0",
      "model_name": "LayoutModel",
      "state": {}
     },
     "81d2c87fb8204e88aa5fcf1b45aa41ca": {
      "model_module": "@jupyter-widgets/base",
      "model_module_version": "1.1.0",
      "model_name": "LayoutModel",
      "state": {}
     },
     "81db8faaf1df4be69d2615823ee93add": {
      "model_module": "@jupyter-widgets/controls",
      "model_module_version": "1.4.0",
      "model_name": "DescriptionStyleModel",
      "state": {
       "description_width": ""
      }
     },
     "82801297d9224dbbbb5ba8a03fc96385": {
      "model_module": "@jupyter-widgets/controls",
      "model_module_version": "1.4.0",
      "model_name": "ProgressStyleModel",
      "state": {
       "description_width": ""
      }
     },
     "82ae7b1a0280482a860261b9280e3773": {
      "model_module": "@jupyter-widgets/base",
      "model_module_version": "1.1.0",
      "model_name": "LayoutModel",
      "state": {}
     },
     "82d90c92985a487ab20a1f4d1d931b93": {
      "model_module": "@jupyter-widgets/controls",
      "model_module_version": "1.4.0",
      "model_name": "HTMLModel",
      "state": {
       "layout": "IPY_MODEL_f8f04a31934d4e2088a2eefeb1a790b2",
       "style": "IPY_MODEL_2ace669da10142d3897ee666e8851921",
       "value": "100.00% [2/2 15:36<00:00]"
      }
     },
     "8337eb97013c4ca59fe11dc6aeea0838": {
      "model_module": "@jupyter-widgets/controls",
      "model_module_version": "1.4.0",
      "model_name": "HTMLModel",
      "state": {
       "layout": "IPY_MODEL_c323b733e1344326ab0e835e0ed664b7",
       "style": "IPY_MODEL_a2bdd3e592d240ee9475556909943a7f",
       "value": "100.00% [3501/3501 03:50<00:00]"
      }
     },
     "8366c022d79647fd8da1f53950c998d7": {
      "model_module": "@jupyter-widgets/controls",
      "model_module_version": "1.4.0",
      "model_name": "IntProgressModel",
      "state": {
       "layout": "IPY_MODEL_8127fdb37c5744e980ee835a9b7647fc",
       "max": 3501,
       "style": "IPY_MODEL_4453c080bbfd4ebc90b16dd7dcc75945",
       "value": 3501
      }
     },
     "8413571c8da64e01ba939ff3826ad3b0": {
      "model_module": "@jupyter-widgets/base",
      "model_module_version": "1.1.0",
      "model_name": "LayoutModel",
      "state": {}
     },
     "8449eb896a1647f99749861346d79991": {
      "model_module": "@jupyter-widgets/controls",
      "model_module_version": "1.4.0",
      "model_name": "DescriptionStyleModel",
      "state": {
       "description_width": ""
      }
     },
     "84611c82fd4f499f9131112bdbf1afb2": {
      "model_module": "@jupyter-widgets/controls",
      "model_module_version": "1.4.0",
      "model_name": "ProgressStyleModel",
      "state": {
       "description_width": ""
      }
     },
     "84c798b4387141dd8afb7ec7ff9d8eaa": {
      "model_module": "@jupyter-widgets/base",
      "model_module_version": "1.1.0",
      "model_name": "LayoutModel",
      "state": {}
     },
     "84d21211d3ae4b88bb94f486db32df0f": {
      "model_module": "@jupyter-widgets/controls",
      "model_module_version": "1.4.0",
      "model_name": "HTMLModel",
      "state": {
       "layout": "IPY_MODEL_a3a8cc286821411d873df38f0620ce00",
       "style": "IPY_MODEL_5d0440dee42b4458bb4ee69de1faf792",
       "value": "epoch  train loss  valid loss  accuracy<p>0      23.563339 <p>"
      }
     },
     "868ad7d455904cab8a160eb10d940a92": {
      "model_module": "@jupyter-widgets/controls",
      "model_module_version": "1.4.0",
      "model_name": "IntProgressModel",
      "state": {
       "layout": "IPY_MODEL_d832bb2007204b93b331ed91b44b05f8",
       "max": 1550,
       "style": "IPY_MODEL_beb42c0ae95c49c9b36631bb36b85126",
       "value": 1550
      }
     },
     "868b56bc45914652891705213d2db5a3": {
      "model_module": "@jupyter-widgets/base",
      "model_module_version": "1.1.0",
      "model_name": "LayoutModel",
      "state": {}
     },
     "86cf511a295348c4811ed0bc8bcea844": {
      "model_module": "@jupyter-widgets/controls",
      "model_module_version": "1.4.0",
      "model_name": "HTMLModel",
      "state": {
       "layout": "IPY_MODEL_89ee6dee2969448eacf0bdcc43bf437d",
       "style": "IPY_MODEL_2a34613538dc4d01b67f35bbcb4d78c1",
       "value": "6.39% [99/1550 00:15<03:51 8.1425]"
      }
     },
     "86f73a50e382439ca303c360dd96adbb": {
      "model_module": "@jupyter-widgets/base",
      "model_module_version": "1.1.0",
      "model_name": "LayoutModel",
      "state": {}
     },
     "8719afa3bcc54550bf903d0a17806d4d": {
      "model_module": "@jupyter-widgets/controls",
      "model_module_version": "1.4.0",
      "model_name": "IntProgressModel",
      "state": {
       "layout": "IPY_MODEL_a5230c909c0b4c74a2d942832bbf6d9f",
       "max": 3501,
       "style": "IPY_MODEL_fd3eef81e1a5428e970a69a5e98f19bb",
       "value": 3501
      }
     },
     "8741597ad2c640a2b459eb74113fa862": {
      "model_module": "@jupyter-widgets/base",
      "model_module_version": "1.1.0",
      "model_name": "LayoutModel",
      "state": {}
     },
     "885d6f6d160f4812b909f2a31c5236fd": {
      "model_module": "@jupyter-widgets/controls",
      "model_module_version": "1.4.0",
      "model_name": "VBoxModel",
      "state": {
       "children": [
        "IPY_MODEL_914203dc37db4541a6c0e3c466f2931c",
        "IPY_MODEL_d30298166bd44835b072046cf832395f",
        "IPY_MODEL_ebf6042836ad4062b6edd95209c96a27"
       ],
       "layout": "IPY_MODEL_6fff97d0f984414a8ef6bc3fa8911f61"
      }
     },
     "88caed451fb74d34b30b274fa67682fe": {
      "model_module": "@jupyter-widgets/controls",
      "model_module_version": "1.4.0",
      "model_name": "IntProgressModel",
      "state": {
       "bar_style": "danger",
       "layout": "IPY_MODEL_d7534e50e0974ec78ee1d0f875522b31",
       "max": 1,
       "style": "IPY_MODEL_cf0c678ca1734bf595a4c17ce3270479"
      }
     },
     "88d299caa3c1418796996fdd17ab7cf3": {
      "model_module": "@jupyter-widgets/controls",
      "model_module_version": "1.4.0",
      "model_name": "HTMLModel",
      "state": {
       "layout": "IPY_MODEL_7750dc4b07bc4cbf80d61a132553c97f",
       "style": "IPY_MODEL_537d5e8dc51943978bf7ea8ed9c2d5f9",
       "value": "100.00% [1550/1550 03:57<00:00 3.9357]"
      }
     },
     "88ec8d66b8714249ba5de6eba14e97dc": {
      "model_module": "@jupyter-widgets/controls",
      "model_module_version": "1.4.0",
      "model_name": "HTMLModel",
      "state": {
       "layout": "IPY_MODEL_762ba97281bc46b8a981625ed8e9c801",
       "style": "IPY_MODEL_c80965b28d36469b902ca76bfa07879a",
       "value": "100.00% [1550/1550 04:46<00:00 1.0527]"
      }
     },
     "89203043077c472484a9d774e5a6308c": {
      "model_module": "@jupyter-widgets/controls",
      "model_module_version": "1.4.0",
      "model_name": "IntProgressModel",
      "state": {
       "bar_style": "danger",
       "layout": "IPY_MODEL_8d317ce5420442dfb3f5ba168401e723",
       "max": 1,
       "style": "IPY_MODEL_6acfed3ee6ea42c7923959ecc59a8328"
      }
     },
     "8984af74d5154a06980a206786a19aef": {
      "model_module": "@jupyter-widgets/base",
      "model_module_version": "1.1.0",
      "model_name": "LayoutModel",
      "state": {}
     },
     "89b783cb691540509617caa424d0956a": {
      "model_module": "@jupyter-widgets/base",
      "model_module_version": "1.1.0",
      "model_name": "LayoutModel",
      "state": {}
     },
     "89eb929d8f704b56be62e8504f136584": {
      "model_module": "@jupyter-widgets/controls",
      "model_module_version": "1.4.0",
      "model_name": "HTMLModel",
      "state": {
       "layout": "IPY_MODEL_b375a695e11b468d8a958bbee69cf51b",
       "style": "IPY_MODEL_df93beed5cd14cf78789551edd7006e0",
       "value": "100.00% [1/1 08:37<00:00]"
      }
     },
     "89ee6dee2969448eacf0bdcc43bf437d": {
      "model_module": "@jupyter-widgets/base",
      "model_module_version": "1.1.0",
      "model_name": "LayoutModel",
      "state": {}
     },
     "8a08e21fb5f94b5b99086b02ce723da1": {
      "model_module": "@jupyter-widgets/controls",
      "model_module_version": "1.4.0",
      "model_name": "ProgressStyleModel",
      "state": {
       "description_width": ""
      }
     },
     "8a16a2523f364329865c222db34dae4c": {
      "model_module": "@jupyter-widgets/base",
      "model_module_version": "1.1.0",
      "model_name": "LayoutModel",
      "state": {}
     },
     "8a2e52b6e53c4e0c9a811a882ca1b6d1": {
      "model_module": "@jupyter-widgets/controls",
      "model_module_version": "1.4.0",
      "model_name": "DescriptionStyleModel",
      "state": {
       "description_width": ""
      }
     },
     "8a3dea5c98e24da3be98eb8848d5aceb": {
      "model_module": "@jupyter-widgets/controls",
      "model_module_version": "1.4.0",
      "model_name": "DescriptionStyleModel",
      "state": {
       "description_width": ""
      }
     },
     "8a64b380a344487dbbfccb35333d2de3": {
      "model_module": "@jupyter-widgets/controls",
      "model_module_version": "1.4.0",
      "model_name": "IntProgressModel",
      "state": {
       "layout": "IPY_MODEL_cb603fa9310b4231a4b9cb48ec503d36",
       "max": 1550,
       "style": "IPY_MODEL_d64b1e24aa054251b515b5129a8770f9",
       "value": 1550
      }
     },
     "8aaa2ce221094c9d962c9d8084b70c1c": {
      "model_module": "@jupyter-widgets/base",
      "model_module_version": "1.1.0",
      "model_name": "LayoutModel",
      "state": {}
     },
     "8ac847aae10a4d01b9f8ff3534ee45b0": {
      "model_module": "@jupyter-widgets/controls",
      "model_module_version": "1.4.0",
      "model_name": "HTMLModel",
      "state": {
       "layout": "IPY_MODEL_3f31ce6c931749c49291e95e5710a81c",
       "style": "IPY_MODEL_2283f0a17f96453a8be0208a675ecb51",
       "value": "100.00% [1550/1550 03:58<00:00 7.4722]"
      }
     },
     "8c419c8d585d44c684b21d126a7732a8": {
      "model_module": "@jupyter-widgets/controls",
      "model_module_version": "1.4.0",
      "model_name": "HTMLModel",
      "state": {
       "layout": "IPY_MODEL_84c798b4387141dd8afb7ec7ff9d8eaa",
       "style": "IPY_MODEL_f57b6f564e7946bab0c7330ed77c7d93",
       "value": "100.00% [3501/3501 03:51<00:00]"
      }
     },
     "8c65cf7fc0094419ab5eec74d89a6367": {
      "model_module": "@jupyter-widgets/base",
      "model_module_version": "1.1.0",
      "model_name": "LayoutModel",
      "state": {}
     },
     "8c8e77b1d66d4e6d9060b9b0f3fa72f2": {
      "model_module": "@jupyter-widgets/controls",
      "model_module_version": "1.4.0",
      "model_name": "IntProgressModel",
      "state": {
       "bar_style": "danger",
       "layout": "IPY_MODEL_1836fd3b0ff143e68de4586772c635ec",
       "max": 1,
       "style": "IPY_MODEL_5b4338b06be24e039bed166a943daf41"
      }
     },
     "8ce1b38d06ac4eb19cdf4dd08a118bdd": {
      "model_module": "@jupyter-widgets/base",
      "model_module_version": "1.1.0",
      "model_name": "LayoutModel",
      "state": {}
     },
     "8d317ce5420442dfb3f5ba168401e723": {
      "model_module": "@jupyter-widgets/base",
      "model_module_version": "1.1.0",
      "model_name": "LayoutModel",
      "state": {}
     },
     "8d3ec4e92ec54be289d1a4e63ba8443d": {
      "model_module": "@jupyter-widgets/controls",
      "model_module_version": "1.4.0",
      "model_name": "HTMLModel",
      "state": {
       "layout": "IPY_MODEL_09afff9515a7469f867d84e730318df6",
       "style": "IPY_MODEL_c422cb694b5947e8ac4e5ec806c80b05",
       "value": "0.00% [0/1 00:00<00:00]"
      }
     },
     "8e2138d61e1f4a3f8e6b7c67a7c64d79": {
      "model_module": "@jupyter-widgets/base",
      "model_module_version": "1.1.0",
      "model_name": "LayoutModel",
      "state": {}
     },
     "8e31c6cd494f4c968838463187855015": {
      "model_module": "@jupyter-widgets/controls",
      "model_module_version": "1.4.0",
      "model_name": "IntProgressModel",
      "state": {
       "bar_style": "danger",
       "layout": "IPY_MODEL_bb17ccd0c66246b69b67529594d63719",
       "max": 1,
       "style": "IPY_MODEL_82801297d9224dbbbb5ba8a03fc96385"
      }
     },
     "8eac86913f7e4795ba622cdc9f61239e": {
      "model_module": "@jupyter-widgets/controls",
      "model_module_version": "1.4.0",
      "model_name": "ProgressStyleModel",
      "state": {
       "description_width": ""
      }
     },
     "8f503476ad974497962fc45ff8d38120": {
      "model_module": "@jupyter-widgets/controls",
      "model_module_version": "1.4.0",
      "model_name": "IntProgressModel",
      "state": {
       "bar_style": "danger",
       "layout": "IPY_MODEL_d56b165042f94feeaf8f7689e5057d77",
       "max": 1,
       "style": "IPY_MODEL_8faa125f70fd45bba408e89b8fae35cc"
      }
     },
     "8faa125f70fd45bba408e89b8fae35cc": {
      "model_module": "@jupyter-widgets/controls",
      "model_module_version": "1.4.0",
      "model_name": "ProgressStyleModel",
      "state": {
       "description_width": ""
      }
     },
     "8faefa2b5a6843f2870112af6b221fdd": {
      "model_module": "@jupyter-widgets/base",
      "model_module_version": "1.1.0",
      "model_name": "LayoutModel",
      "state": {}
     },
     "9002bac86a2b460899fa5da7e480a305": {
      "model_module": "@jupyter-widgets/base",
      "model_module_version": "1.1.0",
      "model_name": "LayoutModel",
      "state": {}
     },
     "902d82821e7c4870868ed928b0100123": {
      "model_module": "@jupyter-widgets/controls",
      "model_module_version": "1.4.0",
      "model_name": "ProgressStyleModel",
      "state": {
       "description_width": ""
      }
     },
     "906ffece61ff4f8e98e3b74b4b723b5f": {
      "model_module": "@jupyter-widgets/base",
      "model_module_version": "1.1.0",
      "model_name": "LayoutModel",
      "state": {}
     },
     "90b2ed2364a44f0984f8bc4ac67898f0": {
      "model_module": "@jupyter-widgets/controls",
      "model_module_version": "1.4.0",
      "model_name": "VBoxModel",
      "state": {
       "children": [
        "IPY_MODEL_176ed8c2f88a4ce8af95162498e05956",
        "IPY_MODEL_0e73a8d9e8004935a65937d0d198689c",
        "IPY_MODEL_142fb27237034edf8928040b91bcbc0a"
       ],
       "layout": "IPY_MODEL_223db08d309b44408f626e62348da23a"
      }
     },
     "90b51d83e28c44c8b1fd7836b6b0c378": {
      "model_module": "@jupyter-widgets/controls",
      "model_module_version": "1.4.0",
      "model_name": "IntProgressModel",
      "state": {
       "layout": "IPY_MODEL_36940f7f8c7a4fe2a4c6f3cf74bee443",
       "max": 3501,
       "style": "IPY_MODEL_1ba93f5ebcae49f69d43c47b97744b02",
       "value": 3501
      }
     },
     "90d722404c2f42b4bdece8295c379912": {
      "model_module": "@jupyter-widgets/base",
      "model_module_version": "1.1.0",
      "model_name": "LayoutModel",
      "state": {}
     },
     "910dd1c9a3674f2495b17016de6cb764": {
      "model_module": "@jupyter-widgets/controls",
      "model_module_version": "1.4.0",
      "model_name": "HBoxModel",
      "state": {
       "children": [
        "IPY_MODEL_ec9c5c60d81d41beb2102492ae08f5de",
        "IPY_MODEL_6834e6b4655d47f4963b876c0b2b6492"
       ],
       "layout": "IPY_MODEL_5498f9432c4347d097d9202c8bd83314"
      }
     },
     "914203dc37db4541a6c0e3c466f2931c": {
      "model_module": "@jupyter-widgets/controls",
      "model_module_version": "1.4.0",
      "model_name": "HBoxModel",
      "state": {
       "children": [
        "IPY_MODEL_1f9d4bd5b67c4afba46b1a0a09c560e5",
        "IPY_MODEL_616fbacd2f3f4f639b11d4dda683f3e1"
       ],
       "layout": "IPY_MODEL_b7654d61be074f54954d6bb54a44a414"
      }
     },
     "91434c800a03422fab3a2ad3c577e429": {
      "model_module": "@jupyter-widgets/controls",
      "model_module_version": "1.4.0",
      "model_name": "IntProgressModel",
      "state": {
       "layout": "IPY_MODEL_c690cb33a802467f93c3ea341fcbb741",
       "max": 1550,
       "style": "IPY_MODEL_395cc6a0dead4766a5bcaa1d151a970b",
       "value": 1550
      }
     },
     "9167f7cee58946b8b4652f3f7f8820ad": {
      "model_module": "@jupyter-widgets/base",
      "model_module_version": "1.1.0",
      "model_name": "LayoutModel",
      "state": {}
     },
     "91829e63ccd340398677e6660786bbed": {
      "model_module": "@jupyter-widgets/controls",
      "model_module_version": "1.4.0",
      "model_name": "IntProgressModel",
      "state": {
       "layout": "IPY_MODEL_f45080e4230c4eb39dc63657e92641cc",
       "max": 3501,
       "style": "IPY_MODEL_f2adba438dba45a49e6b631e5ea32ecf",
       "value": 3501
      }
     },
     "91b01f8b2769466693c76c20f339f95c": {
      "model_module": "@jupyter-widgets/controls",
      "model_module_version": "1.4.0",
      "model_name": "ProgressStyleModel",
      "state": {
       "description_width": ""
      }
     },
     "91f5c9e995c2433ab00b988c4f08a3b5": {
      "model_module": "@jupyter-widgets/base",
      "model_module_version": "1.1.0",
      "model_name": "LayoutModel",
      "state": {}
     },
     "91fa295616984661aebe6a9176aebde4": {
      "model_module": "@jupyter-widgets/controls",
      "model_module_version": "1.4.0",
      "model_name": "IntProgressModel",
      "state": {
       "layout": "IPY_MODEL_c0f33ca8fa1a438391955f1d53f7e5de",
       "max": 3501,
       "style": "IPY_MODEL_9374a8b96a974075bb9e69f21e7e4071",
       "value": 3501
      }
     },
     "9223dcdc085b484ab3dd73604cc14db4": {
      "model_module": "@jupyter-widgets/base",
      "model_module_version": "1.1.0",
      "model_name": "LayoutModel",
      "state": {}
     },
     "922f16b0e161414e8f703e8a57993b48": {
      "model_module": "@jupyter-widgets/base",
      "model_module_version": "1.1.0",
      "model_name": "LayoutModel",
      "state": {}
     },
     "923e0449c39847febf542b51d95f5b05": {
      "model_module": "@jupyter-widgets/base",
      "model_module_version": "1.1.0",
      "model_name": "LayoutModel",
      "state": {}
     },
     "9247c52752024981908b38cf3e1a85c3": {
      "model_module": "@jupyter-widgets/base",
      "model_module_version": "1.1.0",
      "model_name": "LayoutModel",
      "state": {}
     },
     "925b17dc32844c55b5ea3a8d343a0666": {
      "model_module": "@jupyter-widgets/controls",
      "model_module_version": "1.4.0",
      "model_name": "IntProgressModel",
      "state": {
       "bar_style": "danger",
       "layout": "IPY_MODEL_af4dfec00da74dc19f5e5b7adf571029",
       "max": 1550,
       "style": "IPY_MODEL_e97f91dd5e4346c79f9d60c6df4897ee",
       "value": 8
      }
     },
     "9279550e21314d2dbb20a4bd34241ed3": {
      "model_module": "@jupyter-widgets/controls",
      "model_module_version": "1.4.0",
      "model_name": "IntProgressModel",
      "state": {
       "bar_style": "danger",
       "layout": "IPY_MODEL_2dda23ccfc674676bc8ec872caac1e08",
       "max": 1,
       "style": "IPY_MODEL_e1677eea6501473084ec2f5700dff28b"
      }
     },
     "928f2e27893b4ea392c7388dc5ca8c58": {
      "model_module": "@jupyter-widgets/base",
      "model_module_version": "1.1.0",
      "model_name": "LayoutModel",
      "state": {}
     },
     "935086810f3847a4be7435fb2ec390a7": {
      "model_module": "@jupyter-widgets/base",
      "model_module_version": "1.1.0",
      "model_name": "LayoutModel",
      "state": {}
     },
     "9374a8b96a974075bb9e69f21e7e4071": {
      "model_module": "@jupyter-widgets/controls",
      "model_module_version": "1.4.0",
      "model_name": "ProgressStyleModel",
      "state": {
       "description_width": ""
      }
     },
     "939f31229c0e4e54a4d402009a5bf550": {
      "model_module": "@jupyter-widgets/controls",
      "model_module_version": "1.4.0",
      "model_name": "DescriptionStyleModel",
      "state": {
       "description_width": ""
      }
     },
     "93a9123cbbb34723856b89ffa1317a28": {
      "model_module": "@jupyter-widgets/controls",
      "model_module_version": "1.4.0",
      "model_name": "HBoxModel",
      "state": {
       "children": [
        "IPY_MODEL_0375285aed1b4fe1b0e1a423ff95d0b6",
        "IPY_MODEL_a2bcb549864e4a55944ec1799de486ad"
       ],
       "layout": "IPY_MODEL_0bea17f4e0f64d92ab2895b6756d06a5"
      }
     },
     "94601b86b434446bae653b05a0c8d98c": {
      "model_module": "@jupyter-widgets/controls",
      "model_module_version": "1.4.0",
      "model_name": "DescriptionStyleModel",
      "state": {
       "description_width": ""
      }
     },
     "94b717e6ae2b4223a24f316469e9ccf7": {
      "model_module": "@jupyter-widgets/base",
      "model_module_version": "1.1.0",
      "model_name": "LayoutModel",
      "state": {}
     },
     "94ee89badffa46d48395fc69c4b4b9ea": {
      "model_module": "@jupyter-widgets/base",
      "model_module_version": "1.1.0",
      "model_name": "LayoutModel",
      "state": {}
     },
     "95b0c0437c09450c9654659ad508f6fb": {
      "model_module": "@jupyter-widgets/base",
      "model_module_version": "1.1.0",
      "model_name": "LayoutModel",
      "state": {}
     },
     "95bedb22cef747e8bb71e125b237e39f": {
      "model_module": "@jupyter-widgets/base",
      "model_module_version": "1.1.0",
      "model_name": "LayoutModel",
      "state": {}
     },
     "95ec2e58e5434d1885c16f6bdb9f69b8": {
      "model_module": "@jupyter-widgets/controls",
      "model_module_version": "1.4.0",
      "model_name": "DescriptionStyleModel",
      "state": {
       "description_width": ""
      }
     },
     "96053daaa9dd4dc8b9f6e0159c66b3d9": {
      "model_module": "@jupyter-widgets/controls",
      "model_module_version": "1.4.0",
      "model_name": "IntProgressModel",
      "state": {
       "bar_style": "danger",
       "layout": "IPY_MODEL_738066f89d114452a8ced8f76ccaefc0",
       "max": 1550,
       "style": "IPY_MODEL_eba05c30a3ba46c485e7aff740b0fdb2",
       "value": 99
      }
     },
     "962991a0e91848a7bf8614d616ea259d": {
      "model_module": "@jupyter-widgets/controls",
      "model_module_version": "1.4.0",
      "model_name": "ProgressStyleModel",
      "state": {
       "description_width": ""
      }
     },
     "9676290e24a0404cbc34e1322f796b61": {
      "model_module": "@jupyter-widgets/controls",
      "model_module_version": "1.4.0",
      "model_name": "VBoxModel",
      "state": {
       "children": [
        "IPY_MODEL_ef777510e4274ff4b8d13b027b2db1b3",
        "IPY_MODEL_84d21211d3ae4b88bb94f486db32df0f",
        "IPY_MODEL_159b42786e7349869092f4341e0be915"
       ],
       "layout": "IPY_MODEL_d55f24e1669b4c7e889aff9a99f8a05c"
      }
     },
     "96dd59b092a8413393455984bc798d2f": {
      "model_module": "@jupyter-widgets/controls",
      "model_module_version": "1.4.0",
      "model_name": "HTMLModel",
      "state": {
       "layout": "IPY_MODEL_7c577131ff914820acb156e2aa6222ae",
       "style": "IPY_MODEL_9d9063b77e474acfb35f49c1da93e629",
       "value": "100.00% [1550/1550 03:58<00:00 3.8927]"
      }
     },
     "96ec7b3cdc404878bf608e02310f31a1": {
      "model_module": "@jupyter-widgets/base",
      "model_module_version": "1.1.0",
      "model_name": "LayoutModel",
      "state": {}
     },
     "9870c1364a8a4fc09f669ff8521045ac": {
      "model_module": "@jupyter-widgets/base",
      "model_module_version": "1.1.0",
      "model_name": "LayoutModel",
      "state": {}
     },
     "989db8cce7cc4e46b5339211adabeb0f": {
      "model_module": "@jupyter-widgets/controls",
      "model_module_version": "1.4.0",
      "model_name": "DescriptionStyleModel",
      "state": {
       "description_width": ""
      }
     },
     "9902b430c6424f9dbd66008351ab3f80": {
      "model_module": "@jupyter-widgets/base",
      "model_module_version": "1.1.0",
      "model_name": "LayoutModel",
      "state": {}
     },
     "9942026f3673474daf35bbaaeea425a0": {
      "model_module": "@jupyter-widgets/base",
      "model_module_version": "1.1.0",
      "model_name": "LayoutModel",
      "state": {}
     },
     "99b47bc3bd8e4c3f9c198944c86419cb": {
      "model_module": "@jupyter-widgets/base",
      "model_module_version": "1.1.0",
      "model_name": "LayoutModel",
      "state": {}
     },
     "9a0bec5dd4824e6296f5452f4ad49bd2": {
      "model_module": "@jupyter-widgets/controls",
      "model_module_version": "1.4.0",
      "model_name": "DescriptionStyleModel",
      "state": {
       "description_width": ""
      }
     },
     "9a1efd4606504f9987676c15d971b02e": {
      "model_module": "@jupyter-widgets/controls",
      "model_module_version": "1.4.0",
      "model_name": "IntProgressModel",
      "state": {
       "layout": "IPY_MODEL_ed3cf0499b7f4cbc9f77fe5ab6010d8d",
       "max": 3501,
       "style": "IPY_MODEL_b49d818772504e75ad587950661f83ec",
       "value": 3501
      }
     },
     "9aa7f79c9b56461ab9acfd032596bd64": {
      "model_module": "@jupyter-widgets/controls",
      "model_module_version": "1.4.0",
      "model_name": "HTMLModel",
      "state": {
       "layout": "IPY_MODEL_9942026f3673474daf35bbaaeea425a0",
       "style": "IPY_MODEL_e5e254fac34841fe836496d2c0ba3e7d",
       "value": "100.00% [10/10 1:18:11<00:00]"
      }
     },
     "9ac2b73c362349948a239c4afff88089": {
      "model_module": "@jupyter-widgets/controls",
      "model_module_version": "1.4.0",
      "model_name": "HTMLModel",
      "state": {
       "layout": "IPY_MODEL_a03144c782f2454d80147fadbd995b07",
       "style": "IPY_MODEL_0abde5f82c7243e794e5599b0f94043b",
       "value": "100.00% [1550/1550 03:56<00:00 15.3336]"
      }
     },
     "9b0092e9a6bb49b7bbff8f69811b4387": {
      "model_module": "@jupyter-widgets/base",
      "model_module_version": "1.1.0",
      "model_name": "LayoutModel",
      "state": {}
     },
     "9b09a904e97b4ef4b46797a20663da5b": {
      "model_module": "@jupyter-widgets/base",
      "model_module_version": "1.1.0",
      "model_name": "LayoutModel",
      "state": {}
     },
     "9b280c66bf1e487f86ccedd0873d31d8": {
      "model_module": "@jupyter-widgets/controls",
      "model_module_version": "1.4.0",
      "model_name": "HTMLModel",
      "state": {
       "layout": "IPY_MODEL_1bd114fd95ae444b856ab19f7791406d",
       "style": "IPY_MODEL_bd3b7b965c7a47c1b89fd62057a5bd1e",
       "value": "100.00% [1550/1550 03:57<00:00 88.2748]"
      }
     },
     "9b855c6b983e42b68907415f914e9f28": {
      "model_module": "@jupyter-widgets/controls",
      "model_module_version": "1.4.0",
      "model_name": "HTMLModel",
      "state": {
       "layout": "IPY_MODEL_25b1d9146a2b48bc9e729ba2b3b06480",
       "style": "IPY_MODEL_df1792e9f7bc40fea862fc810e2da13e",
       "value": "6.39% [99/1550 00:15<03:42 21.4494]"
      }
     },
     "9c0f6940eadb429182c4f2c8a146c8e8": {
      "model_module": "@jupyter-widgets/controls",
      "model_module_version": "1.4.0",
      "model_name": "HTMLModel",
      "state": {
       "layout": "IPY_MODEL_a3ee62f60417424a955f3d91b4c1e83c",
       "style": "IPY_MODEL_939f31229c0e4e54a4d402009a5bf550",
       "value": "epoch  train loss  valid loss  accuracy<p>0      22.823954 <p>"
      }
     },
     "9c5df61afd364c589404e0eb32f43776": {
      "model_module": "@jupyter-widgets/controls",
      "model_module_version": "1.4.0",
      "model_name": "ProgressStyleModel",
      "state": {
       "description_width": ""
      }
     },
     "9c7ae38461e246d39c0902acb5190292": {
      "model_module": "@jupyter-widgets/controls",
      "model_module_version": "1.4.0",
      "model_name": "IntProgressModel",
      "state": {
       "layout": "IPY_MODEL_81d2c87fb8204e88aa5fcf1b45aa41ca",
       "max": 1550,
       "style": "IPY_MODEL_28153f97d84e4eb9846572a8fb284dd6",
       "value": 1550
      }
     },
     "9c9ac9c0d1b9416ab75be6275b4362e6": {
      "model_module": "@jupyter-widgets/controls",
      "model_module_version": "1.4.0",
      "model_name": "ProgressStyleModel",
      "state": {
       "description_width": ""
      }
     },
     "9d9063b77e474acfb35f49c1da93e629": {
      "model_module": "@jupyter-widgets/controls",
      "model_module_version": "1.4.0",
      "model_name": "DescriptionStyleModel",
      "state": {
       "description_width": ""
      }
     },
     "9d9d66a0b4e544eba532396667a68def": {
      "model_module": "@jupyter-widgets/base",
      "model_module_version": "1.1.0",
      "model_name": "LayoutModel",
      "state": {}
     },
     "9ea8dab7a20f4bbca97cf5412eb7b3e9": {
      "model_module": "@jupyter-widgets/base",
      "model_module_version": "1.1.0",
      "model_name": "LayoutModel",
      "state": {}
     },
     "9ec87422d9f74336bd45090658ba7999": {
      "model_module": "@jupyter-widgets/controls",
      "model_module_version": "1.4.0",
      "model_name": "IntProgressModel",
      "state": {
       "layout": "IPY_MODEL_56161b3536ab4c1c9edb6280a90b5611",
       "max": 3501,
       "style": "IPY_MODEL_9c5df61afd364c589404e0eb32f43776",
       "value": 3501
      }
     },
     "9ec99c08032b454683585a2390c656c6": {
      "model_module": "@jupyter-widgets/controls",
      "model_module_version": "1.4.0",
      "model_name": "ProgressStyleModel",
      "state": {
       "description_width": ""
      }
     },
     "9f0f2b64fdc5443ea88b25e8c09f495f": {
      "model_module": "@jupyter-widgets/controls",
      "model_module_version": "1.4.0",
      "model_name": "HBoxModel",
      "state": {
       "children": [
        "IPY_MODEL_96053daaa9dd4dc8b9f6e0159c66b3d9",
        "IPY_MODEL_86cf511a295348c4811ed0bc8bcea844"
       ],
       "layout": "IPY_MODEL_9d9d66a0b4e544eba532396667a68def"
      }
     },
     "9f7128772a484827be5bee8c8d0020d9": {
      "model_module": "@jupyter-widgets/base",
      "model_module_version": "1.1.0",
      "model_name": "LayoutModel",
      "state": {}
     },
     "9f72653255a64739b49620897c088dbb": {
      "model_module": "@jupyter-widgets/base",
      "model_module_version": "1.1.0",
      "model_name": "LayoutModel",
      "state": {}
     },
     "a03144c782f2454d80147fadbd995b07": {
      "model_module": "@jupyter-widgets/base",
      "model_module_version": "1.1.0",
      "model_name": "LayoutModel",
      "state": {}
     },
     "a08c58fec766484bba66e58f16b991e2": {
      "model_module": "@jupyter-widgets/controls",
      "model_module_version": "1.4.0",
      "model_name": "HTMLModel",
      "state": {
       "layout": "IPY_MODEL_0c812cbba1704330874a6218bb428764",
       "style": "IPY_MODEL_429782430d454d01b39b7fe4072448ff",
       "value": "epoch  train loss  valid loss  accuracy<p>0      9.054031  <p>"
      }
     },
     "a0a4466240bf46e8b964148fe3c4392d": {
      "model_module": "@jupyter-widgets/controls",
      "model_module_version": "1.4.0",
      "model_name": "HTMLModel",
      "state": {
       "layout": "IPY_MODEL_2608b763051e4000ba9c0ac0936c06df",
       "style": "IPY_MODEL_5c0c552149d54b18a4747e957bb26bd7",
       "value": "6.32% [98/1550 00:15<03:48 20.1531]"
      }
     },
     "a0a68bb81de042f68992aa3647de7497": {
      "model_module": "@jupyter-widgets/controls",
      "model_module_version": "1.4.0",
      "model_name": "DescriptionStyleModel",
      "state": {
       "description_width": ""
      }
     },
     "a0bc71bed16449f487a45e239f5c3e8a": {
      "model_module": "@jupyter-widgets/controls",
      "model_module_version": "1.4.0",
      "model_name": "DescriptionStyleModel",
      "state": {
       "description_width": ""
      }
     },
     "a0de60090d8c4c988409e9c20078dff4": {
      "model_module": "@jupyter-widgets/controls",
      "model_module_version": "1.4.0",
      "model_name": "DescriptionStyleModel",
      "state": {
       "description_width": ""
      }
     },
     "a0dfbd3062674d2f800e5a264973b61d": {
      "model_module": "@jupyter-widgets/controls",
      "model_module_version": "1.4.0",
      "model_name": "DescriptionStyleModel",
      "state": {
       "description_width": ""
      }
     },
     "a0f6d2ac3ab44d86838f267e0551cb8e": {
      "model_module": "@jupyter-widgets/controls",
      "model_module_version": "1.4.0",
      "model_name": "DescriptionStyleModel",
      "state": {
       "description_width": ""
      }
     },
     "a1f1e3d589684cb7923c90a5cb277192": {
      "model_module": "@jupyter-widgets/controls",
      "model_module_version": "1.4.0",
      "model_name": "HTMLModel",
      "state": {
       "layout": "IPY_MODEL_26f6e94c0cf8461a90fb4fdb1b14910e",
       "style": "IPY_MODEL_bc0d45796c594eeb8c0177fd5d79d1b8",
       "value": "100.00% [3501/3501 03:51<00:00]"
      }
     },
     "a280d1f3704e4317bf9259bf1298b066": {
      "model_module": "@jupyter-widgets/controls",
      "model_module_version": "1.4.0",
      "model_name": "ProgressStyleModel",
      "state": {
       "description_width": ""
      }
     },
     "a2bcb549864e4a55944ec1799de486ad": {
      "model_module": "@jupyter-widgets/controls",
      "model_module_version": "1.4.0",
      "model_name": "HTMLModel",
      "state": {
       "layout": "IPY_MODEL_7eba1983d3d34ec7b17c4038e258c182",
       "style": "IPY_MODEL_d1642d37713646cabcd3f8350ea87737",
       "value": "70.81% [2479/3501 02:50<01:10]"
      }
     },
     "a2bdd3e592d240ee9475556909943a7f": {
      "model_module": "@jupyter-widgets/controls",
      "model_module_version": "1.4.0",
      "model_name": "DescriptionStyleModel",
      "state": {
       "description_width": ""
      }
     },
     "a2c3748f91844c3a928efcffa9bd59b0": {
      "model_module": "@jupyter-widgets/controls",
      "model_module_version": "1.4.0",
      "model_name": "IntProgressModel",
      "state": {
       "bar_style": "danger",
       "layout": "IPY_MODEL_b8d32b5203134a4f812380728aefc730",
       "max": 1,
       "style": "IPY_MODEL_59af9e8115844d8fae60141da40cbe2c"
      }
     },
     "a2e967ffd01848f4899cffe42f05d533": {
      "model_module": "@jupyter-widgets/base",
      "model_module_version": "1.1.0",
      "model_name": "LayoutModel",
      "state": {}
     },
     "a325a7d22f224a5389706b4ad141ed37": {
      "model_module": "@jupyter-widgets/controls",
      "model_module_version": "1.4.0",
      "model_name": "HTMLModel",
      "state": {
       "layout": "IPY_MODEL_fd5d6bca390d4278a9e274e3aca65d32",
       "style": "IPY_MODEL_a0dfbd3062674d2f800e5a264973b61d",
       "value": "100.00% [3501/3501 03:50<00:00]"
      }
     },
     "a3a8cc286821411d873df38f0620ce00": {
      "model_module": "@jupyter-widgets/base",
      "model_module_version": "1.1.0",
      "model_name": "LayoutModel",
      "state": {}
     },
     "a3ee62f60417424a955f3d91b4c1e83c": {
      "model_module": "@jupyter-widgets/base",
      "model_module_version": "1.1.0",
      "model_name": "LayoutModel",
      "state": {}
     },
     "a4a300a36d644200a60587957bfa8200": {
      "model_module": "@jupyter-widgets/base",
      "model_module_version": "1.1.0",
      "model_name": "LayoutModel",
      "state": {}
     },
     "a5230c909c0b4c74a2d942832bbf6d9f": {
      "model_module": "@jupyter-widgets/base",
      "model_module_version": "1.1.0",
      "model_name": "LayoutModel",
      "state": {}
     },
     "a534306d457a429095a689ca0de6d003": {
      "model_module": "@jupyter-widgets/controls",
      "model_module_version": "1.4.0",
      "model_name": "IntProgressModel",
      "state": {
       "layout": "IPY_MODEL_e673d5c60a4b4e7e93e0f42224bd9309",
       "max": 1,
       "style": "IPY_MODEL_e142278afd2d4c82a2f9b2806ece5e9b",
       "value": 1
      }
     },
     "a565b434e1d941bb8c1d3bb39e292399": {
      "model_module": "@jupyter-widgets/base",
      "model_module_version": "1.1.0",
      "model_name": "LayoutModel",
      "state": {}
     },
     "a61c1d385d544561826f291c4bbf23ce": {
      "model_module": "@jupyter-widgets/base",
      "model_module_version": "1.1.0",
      "model_name": "LayoutModel",
      "state": {}
     },
     "a62196574e0442d392af4bd0cea93d13": {
      "model_module": "@jupyter-widgets/controls",
      "model_module_version": "1.4.0",
      "model_name": "IntProgressModel",
      "state": {
       "layout": "IPY_MODEL_56acfbef0e1b4d2fa1a9d2d718f09b80",
       "max": 1550,
       "style": "IPY_MODEL_12b679f47505411ea5640d4fcdd5aa60",
       "value": 1550
      }
     },
     "a6de684651544f92b8967d1b378a2906": {
      "model_module": "@jupyter-widgets/controls",
      "model_module_version": "1.4.0",
      "model_name": "IntProgressModel",
      "state": {
       "bar_style": "danger",
       "layout": "IPY_MODEL_e36ea67cd5a54aee8485ee40f5b88466",
       "max": 1,
       "style": "IPY_MODEL_f56f64c5bf3e451889493862502e56f1"
      }
     },
     "a77816008283401395f3217c5c749705": {
      "model_module": "@jupyter-widgets/controls",
      "model_module_version": "1.4.0",
      "model_name": "IntProgressModel",
      "state": {
       "layout": "IPY_MODEL_b9892addb841449e829fd353f2a6e6bc",
       "max": 3501,
       "style": "IPY_MODEL_047e439b3cc4441287eb9faac4799433",
       "value": 3501
      }
     },
     "a77ad55b543e4d319f16ddbe62534f95": {
      "model_module": "@jupyter-widgets/base",
      "model_module_version": "1.1.0",
      "model_name": "LayoutModel",
      "state": {}
     },
     "a78d3f03e4ef4d23ab88cfe6d81a514f": {
      "model_module": "@jupyter-widgets/controls",
      "model_module_version": "1.4.0",
      "model_name": "IntProgressModel",
      "state": {
       "layout": "IPY_MODEL_26e5857d0d6247d3a0216856c3105959",
       "max": 1550,
       "style": "IPY_MODEL_962991a0e91848a7bf8614d616ea259d",
       "value": 1550
      }
     },
     "a79ab14afb704d85a21c4889c8f6a3c5": {
      "model_module": "@jupyter-widgets/base",
      "model_module_version": "1.1.0",
      "model_name": "LayoutModel",
      "state": {}
     },
     "a937dea3a6614ae091fa907d9277b24a": {
      "model_module": "@jupyter-widgets/controls",
      "model_module_version": "1.4.0",
      "model_name": "IntProgressModel",
      "state": {
       "bar_style": "danger",
       "layout": "IPY_MODEL_d483de88e3db4de38368856d45e7fe65",
       "max": 1550,
       "style": "IPY_MODEL_d59a212ed43b4e42b742667f3a996a32",
       "value": 99
      }
     },
     "a975a78e39c842e385c49d54bc20ca55": {
      "model_module": "@jupyter-widgets/controls",
      "model_module_version": "1.4.0",
      "model_name": "DescriptionStyleModel",
      "state": {
       "description_width": ""
      }
     },
     "a9819c0ac21846059dcce9b410470234": {
      "model_module": "@jupyter-widgets/controls",
      "model_module_version": "1.4.0",
      "model_name": "IntProgressModel",
      "state": {
       "layout": "IPY_MODEL_35d43b052d3f4528be4d0d50e52d0f31",
       "max": 1550,
       "style": "IPY_MODEL_292a157d42a24941951e4a72144e77a7",
       "value": 1550
      }
     },
     "a99d0c805b6a4fc6946a6dcbc62f9d37": {
      "model_module": "@jupyter-widgets/controls",
      "model_module_version": "1.4.0",
      "model_name": "DescriptionStyleModel",
      "state": {
       "description_width": ""
      }
     },
     "a9db933c50894be98461af79f03dd596": {
      "model_module": "@jupyter-widgets/base",
      "model_module_version": "1.1.0",
      "model_name": "LayoutModel",
      "state": {}
     },
     "a9e6c5aab58f42298b7c0a6edb31d934": {
      "model_module": "@jupyter-widgets/base",
      "model_module_version": "1.1.0",
      "model_name": "LayoutModel",
      "state": {}
     },
     "aa3e88737cee43a1b8208a2e39ef3a8a": {
      "model_module": "@jupyter-widgets/controls",
      "model_module_version": "1.4.0",
      "model_name": "HTMLModel",
      "state": {
       "layout": "IPY_MODEL_2ec7e355ee6647d385355f879a109237",
       "style": "IPY_MODEL_22c4aee7a8b04bfd8038fe0856050ec9",
       "value": "100.00% [3501/3501 03:51<00:00]"
      }
     },
     "abf8cd14ccf84f8fb78a481bdaea8ac8": {
      "model_module": "@jupyter-widgets/base",
      "model_module_version": "1.1.0",
      "model_name": "LayoutModel",
      "state": {}
     },
     "acdb6b6ac57344f3b84fb0d877ea2e24": {
      "model_module": "@jupyter-widgets/controls",
      "model_module_version": "1.4.0",
      "model_name": "IntProgressModel",
      "state": {
       "layout": "IPY_MODEL_f7ac87b2aaeb4f92bb1a31ae9fdb6928",
       "max": 3501,
       "style": "IPY_MODEL_f566d427d4cb4821822d3599ec249454",
       "value": 3501
      }
     },
     "ad23d2f739c24fa6934e2b59a6a94bfb": {
      "model_module": "@jupyter-widgets/controls",
      "model_module_version": "1.4.0",
      "model_name": "HTMLModel",
      "state": {
       "layout": "IPY_MODEL_7e68655a3ef54ac3b8425dd5501d0300",
       "style": "IPY_MODEL_2f4e0a30211f4b2886d708d84b1a9f26",
       "value": "0.00% [0/1 00:00<00:00]"
      }
     },
     "af084955770c4f3c93448d9cdc7c28fa": {
      "model_module": "@jupyter-widgets/base",
      "model_module_version": "1.1.0",
      "model_name": "LayoutModel",
      "state": {}
     },
     "af18fbd8acf647ff9c7254e3f12897bd": {
      "model_module": "@jupyter-widgets/base",
      "model_module_version": "1.1.0",
      "model_name": "LayoutModel",
      "state": {}
     },
     "af4dfec00da74dc19f5e5b7adf571029": {
      "model_module": "@jupyter-widgets/base",
      "model_module_version": "1.1.0",
      "model_name": "LayoutModel",
      "state": {}
     },
     "af500c3d32b441f8afeaac53919f78ca": {
      "model_module": "@jupyter-widgets/controls",
      "model_module_version": "1.4.0",
      "model_name": "DescriptionStyleModel",
      "state": {
       "description_width": ""
      }
     },
     "af68813c688a415c9faa5bc8c2fba9e8": {
      "model_module": "@jupyter-widgets/controls",
      "model_module_version": "1.4.0",
      "model_name": "DescriptionStyleModel",
      "state": {
       "description_width": ""
      }
     },
     "afb8a134c73a4cc0b55838706060017e": {
      "model_module": "@jupyter-widgets/controls",
      "model_module_version": "1.4.0",
      "model_name": "IntProgressModel",
      "state": {
       "layout": "IPY_MODEL_01964af2fc2943e494ab45a42227b6af",
       "max": 1550,
       "style": "IPY_MODEL_55dee7d3158c40b09a278fd52e1d7a3b",
       "value": 1550
      }
     },
     "b03212af3d464cf8a8633738f0c3a8b7": {
      "model_module": "@jupyter-widgets/base",
      "model_module_version": "1.1.0",
      "model_name": "LayoutModel",
      "state": {}
     },
     "b04bb319e071432687a14d5531a5e6d6": {
      "model_module": "@jupyter-widgets/base",
      "model_module_version": "1.1.0",
      "model_name": "LayoutModel",
      "state": {}
     },
     "b086ec4677f143dbbb99f95ee7a869aa": {
      "model_module": "@jupyter-widgets/controls",
      "model_module_version": "1.4.0",
      "model_name": "VBoxModel",
      "state": {
       "children": [
        "IPY_MODEL_06a27395255e4afbb3a8525d9c83da43",
        "IPY_MODEL_2049a5316cf34535b617c97569a7db90",
        "IPY_MODEL_e1a72effb8e144d693009b2161cb0d30"
       ],
       "layout": "IPY_MODEL_8984af74d5154a06980a206786a19aef"
      }
     },
     "b1c2829c051d4c16aac74d327a0ae6f2": {
      "model_module": "@jupyter-widgets/controls",
      "model_module_version": "1.4.0",
      "model_name": "HBoxModel",
      "state": {
       "children": [
        "IPY_MODEL_f9cf04a3ec4c46028a8061108284ee37",
        "IPY_MODEL_b9768a994e6244a29e86ad59108ee5e3"
       ],
       "layout": "IPY_MODEL_70b0a60b36fa47a4825dea6d30cfd2cb"
      }
     },
     "b2ae70bf7b7e4c689ed53fb13bbd4573": {
      "model_module": "@jupyter-widgets/controls",
      "model_module_version": "1.4.0",
      "model_name": "DescriptionStyleModel",
      "state": {
       "description_width": ""
      }
     },
     "b31b244744714fc782614d0e7a19d0a2": {
      "model_module": "@jupyter-widgets/controls",
      "model_module_version": "1.4.0",
      "model_name": "DescriptionStyleModel",
      "state": {
       "description_width": ""
      }
     },
     "b33026f4c474443cb8717d4b3bd32486": {
      "model_module": "@jupyter-widgets/controls",
      "model_module_version": "1.4.0",
      "model_name": "DescriptionStyleModel",
      "state": {
       "description_width": ""
      }
     },
     "b375a695e11b468d8a958bbee69cf51b": {
      "model_module": "@jupyter-widgets/base",
      "model_module_version": "1.1.0",
      "model_name": "LayoutModel",
      "state": {}
     },
     "b38ec411ef4d466d84ddd09ad6e96516": {
      "model_module": "@jupyter-widgets/base",
      "model_module_version": "1.1.0",
      "model_name": "LayoutModel",
      "state": {}
     },
     "b3e3b12e8a6b483897ffc2497a3b2b9e": {
      "model_module": "@jupyter-widgets/base",
      "model_module_version": "1.1.0",
      "model_name": "LayoutModel",
      "state": {}
     },
     "b49d818772504e75ad587950661f83ec": {
      "model_module": "@jupyter-widgets/controls",
      "model_module_version": "1.4.0",
      "model_name": "ProgressStyleModel",
      "state": {
       "description_width": ""
      }
     },
     "b5c949957c904049aa091b5520806250": {
      "model_module": "@jupyter-widgets/base",
      "model_module_version": "1.1.0",
      "model_name": "LayoutModel",
      "state": {}
     },
     "b622c3a8070f4a16ae030108085824b6": {
      "model_module": "@jupyter-widgets/controls",
      "model_module_version": "1.4.0",
      "model_name": "HTMLModel",
      "state": {
       "layout": "IPY_MODEL_494e86e7386d4729996e01c3f7d76310",
       "style": "IPY_MODEL_d1a76a4205bf45f0b5d71ad356f8f31d",
       "value": "100.00% [3501/3501 03:51<00:00]"
      }
     },
     "b64432b7ee554219bdc57166d72efac2": {
      "model_module": "@jupyter-widgets/base",
      "model_module_version": "1.1.0",
      "model_name": "LayoutModel",
      "state": {}
     },
     "b72acc0522fd4c7baebc1336643e7f2c": {
      "model_module": "@jupyter-widgets/base",
      "model_module_version": "1.1.0",
      "model_name": "LayoutModel",
      "state": {}
     },
     "b7654d61be074f54954d6bb54a44a414": {
      "model_module": "@jupyter-widgets/base",
      "model_module_version": "1.1.0",
      "model_name": "LayoutModel",
      "state": {}
     },
     "b7b5bad4a87040f1b22e3000a01be3be": {
      "model_module": "@jupyter-widgets/controls",
      "model_module_version": "1.4.0",
      "model_name": "DescriptionStyleModel",
      "state": {
       "description_width": ""
      }
     },
     "b8013eebd65e424ca5819fc3ca4f8381": {
      "model_module": "@jupyter-widgets/base",
      "model_module_version": "1.1.0",
      "model_name": "LayoutModel",
      "state": {}
     },
     "b87bab1d1b324d36b98ed526968e173a": {
      "model_module": "@jupyter-widgets/controls",
      "model_module_version": "1.4.0",
      "model_name": "DescriptionStyleModel",
      "state": {
       "description_width": ""
      }
     },
     "b8b1b64463f347a683fc93c0c11f3f13": {
      "model_module": "@jupyter-widgets/base",
      "model_module_version": "1.1.0",
      "model_name": "LayoutModel",
      "state": {}
     },
     "b8d32b5203134a4f812380728aefc730": {
      "model_module": "@jupyter-widgets/base",
      "model_module_version": "1.1.0",
      "model_name": "LayoutModel",
      "state": {}
     },
     "b8e3a42d2ffa4596b10a1de313548509": {
      "model_module": "@jupyter-widgets/controls",
      "model_module_version": "1.4.0",
      "model_name": "HTMLModel",
      "state": {
       "layout": "IPY_MODEL_a9db933c50894be98461af79f03dd596",
       "style": "IPY_MODEL_a0a68bb81de042f68992aa3647de7497",
       "value": "100.00% [2/2 15:36<00:00]"
      }
     },
     "b9524bf9e13f472fa7c61bbdb5ae76ea": {
      "model_module": "@jupyter-widgets/controls",
      "model_module_version": "1.4.0",
      "model_name": "IntProgressModel",
      "state": {
       "bar_style": "danger",
       "layout": "IPY_MODEL_4e07afe9b1b648f9b4ee70341165419b",
       "max": 1550,
       "style": "IPY_MODEL_cc3b265560c446e48755566175e1bea6",
       "value": 99
      }
     },
     "b9768a994e6244a29e86ad59108ee5e3": {
      "model_module": "@jupyter-widgets/controls",
      "model_module_version": "1.4.0",
      "model_name": "HTMLModel",
      "state": {
       "layout": "IPY_MODEL_9002bac86a2b460899fa5da7e480a305",
       "style": "IPY_MODEL_fedb886432ee430db06252fa51bf14f8",
       "value": "0.00% [0/1 00:00<00:00]"
      }
     },
     "b9892addb841449e829fd353f2a6e6bc": {
      "model_module": "@jupyter-widgets/base",
      "model_module_version": "1.1.0",
      "model_name": "LayoutModel",
      "state": {}
     },
     "b9ba1a85753c412895df449418863bc2": {
      "model_module": "@jupyter-widgets/controls",
      "model_module_version": "1.4.0",
      "model_name": "IntProgressModel",
      "state": {
       "bar_style": "danger",
       "layout": "IPY_MODEL_04f4207615b54e17b11c191abc43f712",
       "max": 1550,
       "style": "IPY_MODEL_e1cf65e277f041f7908fcca714a7924c",
       "value": 99
      }
     },
     "ba135c9f404346f6998886c2c06f344f": {
      "model_module": "@jupyter-widgets/controls",
      "model_module_version": "1.4.0",
      "model_name": "IntProgressModel",
      "state": {
       "bar_style": "danger",
       "layout": "IPY_MODEL_af084955770c4f3c93448d9cdc7c28fa",
       "max": 6,
       "style": "IPY_MODEL_d3dcc86dc7334809b1661ec1be9ae270",
       "value": 5
      }
     },
     "ba3a0e1e648346dd9faf9df619611647": {
      "model_module": "@jupyter-widgets/controls",
      "model_module_version": "1.4.0",
      "model_name": "ProgressStyleModel",
      "state": {
       "description_width": ""
      }
     },
     "bac5a14963574af3a63eeb1941a8573e": {
      "model_module": "@jupyter-widgets/base",
      "model_module_version": "1.1.0",
      "model_name": "LayoutModel",
      "state": {}
     },
     "bb17ccd0c66246b69b67529594d63719": {
      "model_module": "@jupyter-widgets/base",
      "model_module_version": "1.1.0",
      "model_name": "LayoutModel",
      "state": {}
     },
     "bb2cbb16d20a4920a1d01fbfdc78cd95": {
      "model_module": "@jupyter-widgets/base",
      "model_module_version": "1.1.0",
      "model_name": "LayoutModel",
      "state": {}
     },
     "bb31d63242be4c12a79441d31ded7f5b": {
      "model_module": "@jupyter-widgets/controls",
      "model_module_version": "1.4.0",
      "model_name": "ProgressStyleModel",
      "state": {
       "description_width": ""
      }
     },
     "bb3b777615e049a2b5fa2675cd2a1f56": {
      "model_module": "@jupyter-widgets/base",
      "model_module_version": "1.1.0",
      "model_name": "LayoutModel",
      "state": {}
     },
     "bc0d45796c594eeb8c0177fd5d79d1b8": {
      "model_module": "@jupyter-widgets/controls",
      "model_module_version": "1.4.0",
      "model_name": "DescriptionStyleModel",
      "state": {
       "description_width": ""
      }
     },
     "bc812412cb0640b886651d4ae2874468": {
      "model_module": "@jupyter-widgets/base",
      "model_module_version": "1.1.0",
      "model_name": "LayoutModel",
      "state": {}
     },
     "bc90a6ab4ce54d3782cfaa6de5de2207": {
      "model_module": "@jupyter-widgets/controls",
      "model_module_version": "1.4.0",
      "model_name": "DescriptionStyleModel",
      "state": {
       "description_width": ""
      }
     },
     "bcfb66ace23d46f6adf88e98647d10d0": {
      "model_module": "@jupyter-widgets/controls",
      "model_module_version": "1.4.0",
      "model_name": "HTMLModel",
      "state": {
       "layout": "IPY_MODEL_81914b7656ab4cd689cc3e66fa62fec0",
       "style": "IPY_MODEL_646a0d34eb824baebc0ba2d5409fe14f",
       "value": "epoch  train loss  valid loss  accuracy<p>0      24.642885 <p>"
      }
     },
     "bd3b7b965c7a47c1b89fd62057a5bd1e": {
      "model_module": "@jupyter-widgets/controls",
      "model_module_version": "1.4.0",
      "model_name": "DescriptionStyleModel",
      "state": {
       "description_width": ""
      }
     },
     "bda5c6f13bbf49639094a91ca5e25d7c": {
      "model_module": "@jupyter-widgets/controls",
      "model_module_version": "1.4.0",
      "model_name": "HBoxModel",
      "state": {
       "children": [
        "IPY_MODEL_8159c47a3832483f8091d1cf0261a150",
        "IPY_MODEL_b8e3a42d2ffa4596b10a1de313548509"
       ],
       "layout": "IPY_MODEL_8413571c8da64e01ba939ff3826ad3b0"
      }
     },
     "be02d907b131419c80ce6dece76349b1": {
      "model_module": "@jupyter-widgets/controls",
      "model_module_version": "1.4.0",
      "model_name": "DescriptionStyleModel",
      "state": {
       "description_width": ""
      }
     },
     "beb42c0ae95c49c9b36631bb36b85126": {
      "model_module": "@jupyter-widgets/controls",
      "model_module_version": "1.4.0",
      "model_name": "ProgressStyleModel",
      "state": {
       "description_width": ""
      }
     },
     "beb4a4a2fe6e436ba8e0a18a223d575d": {
      "model_module": "@jupyter-widgets/base",
      "model_module_version": "1.1.0",
      "model_name": "LayoutModel",
      "state": {}
     },
     "bfb3e81393a940faadb6cade3c7bdd37": {
      "model_module": "@jupyter-widgets/controls",
      "model_module_version": "1.4.0",
      "model_name": "IntProgressModel",
      "state": {
       "bar_style": "danger",
       "layout": "IPY_MODEL_01dcf685e13b4c92a2a2a2c0395a3e2d",
       "max": 1,
       "style": "IPY_MODEL_e6ee718c34b84c02ad666034b530032a"
      }
     },
     "c0f33ca8fa1a438391955f1d53f7e5de": {
      "model_module": "@jupyter-widgets/base",
      "model_module_version": "1.1.0",
      "model_name": "LayoutModel",
      "state": {}
     },
     "c0f47042ad5946569320bfcba1e89093": {
      "model_module": "@jupyter-widgets/base",
      "model_module_version": "1.1.0",
      "model_name": "LayoutModel",
      "state": {}
     },
     "c22d110e49ef42e8ad1f40f77ff039d5": {
      "model_module": "@jupyter-widgets/controls",
      "model_module_version": "1.4.0",
      "model_name": "ProgressStyleModel",
      "state": {
       "description_width": ""
      }
     },
     "c232a03409504695b9f2e1dbb91a136d": {
      "model_module": "@jupyter-widgets/controls",
      "model_module_version": "1.4.0",
      "model_name": "HTMLModel",
      "state": {
       "layout": "IPY_MODEL_e5b857134c88456aad453ea3ea351d1b",
       "style": "IPY_MODEL_67d30aa60bd7489d8d09833b9d49ed2f",
       "value": "0.52% [8/1550 00:01<04:17 8.0103]"
      }
     },
     "c2cbc780d45845c898001bdf55ce8e19": {
      "model_module": "@jupyter-widgets/controls",
      "model_module_version": "1.4.0",
      "model_name": "DescriptionStyleModel",
      "state": {
       "description_width": ""
      }
     },
     "c323b733e1344326ab0e835e0ed664b7": {
      "model_module": "@jupyter-widgets/base",
      "model_module_version": "1.1.0",
      "model_name": "LayoutModel",
      "state": {}
     },
     "c3c3ff26c3134b42bc89dd703a98d5ab": {
      "model_module": "@jupyter-widgets/base",
      "model_module_version": "1.1.0",
      "model_name": "LayoutModel",
      "state": {}
     },
     "c3de69e4beeb4b04b04e375946a2a193": {
      "model_module": "@jupyter-widgets/base",
      "model_module_version": "1.1.0",
      "model_name": "LayoutModel",
      "state": {}
     },
     "c3e5157220414adf8f2e53cbb89d5f3b": {
      "model_module": "@jupyter-widgets/controls",
      "model_module_version": "1.4.0",
      "model_name": "DescriptionStyleModel",
      "state": {
       "description_width": ""
      }
     },
     "c40f111d131a40bb997936903113c460": {
      "model_module": "@jupyter-widgets/controls",
      "model_module_version": "1.4.0",
      "model_name": "HBoxModel",
      "state": {
       "children": [
        "IPY_MODEL_3a4a398e363141d2809c398f19ada4a9",
        "IPY_MODEL_46c8093400cd44dc8881464a04d0e582"
       ],
       "layout": "IPY_MODEL_ce50d63dfbd64b62be1e5a0d74d0a2c5"
      }
     },
     "c422cb694b5947e8ac4e5ec806c80b05": {
      "model_module": "@jupyter-widgets/controls",
      "model_module_version": "1.4.0",
      "model_name": "DescriptionStyleModel",
      "state": {
       "description_width": ""
      }
     },
     "c493e70063064799bda0cb3954ef1961": {
      "model_module": "@jupyter-widgets/base",
      "model_module_version": "1.1.0",
      "model_name": "LayoutModel",
      "state": {}
     },
     "c59166e40cf94e508103bfa0736ea3ea": {
      "model_module": "@jupyter-widgets/base",
      "model_module_version": "1.1.0",
      "model_name": "LayoutModel",
      "state": {}
     },
     "c5eff0f3c7a14ca987f016d537e5b88d": {
      "model_module": "@jupyter-widgets/controls",
      "model_module_version": "1.4.0",
      "model_name": "HBoxModel",
      "state": {
       "children": [
        "IPY_MODEL_a534306d457a429095a689ca0de6d003",
        "IPY_MODEL_6c2ee39ec6994aa3a4802dca1f501058"
       ],
       "layout": "IPY_MODEL_5a37938c97f34508bb372e8fb26d23bd"
      }
     },
     "c666f8ffd2d94e57ae3ea7d19e887870": {
      "model_module": "@jupyter-widgets/controls",
      "model_module_version": "1.4.0",
      "model_name": "HTMLModel",
      "state": {
       "layout": "IPY_MODEL_217b9502774340949c7e1f639de65eb7",
       "style": "IPY_MODEL_be02d907b131419c80ce6dece76349b1",
       "value": "100.00% [3501/3501 03:51<00:00]"
      }
     },
     "c690cb33a802467f93c3ea341fcbb741": {
      "model_module": "@jupyter-widgets/base",
      "model_module_version": "1.1.0",
      "model_name": "LayoutModel",
      "state": {}
     },
     "c6a80dbf20994aadbe07470b8aedeeb0": {
      "model_module": "@jupyter-widgets/controls",
      "model_module_version": "1.4.0",
      "model_name": "ProgressStyleModel",
      "state": {
       "description_width": ""
      }
     },
     "c6e7d6923d8a440ab1126d9053c95a86": {
      "model_module": "@jupyter-widgets/controls",
      "model_module_version": "1.4.0",
      "model_name": "ProgressStyleModel",
      "state": {
       "description_width": ""
      }
     },
     "c70448324fa443619e41f636d1fd81ab": {
      "model_module": "@jupyter-widgets/base",
      "model_module_version": "1.1.0",
      "model_name": "LayoutModel",
      "state": {}
     },
     "c773730a7834450f8b7b1aba962d9c5b": {
      "model_module": "@jupyter-widgets/controls",
      "model_module_version": "1.4.0",
      "model_name": "HTMLModel",
      "state": {
       "layout": "IPY_MODEL_f308ddc450fc4f1a99e6a99b8a3295bf",
       "style": "IPY_MODEL_fdd25665fd1a4c91bd6ecb18aca1f59c",
       "value": "epoch  train loss  valid loss  accuracy<p>0      2.430332    1.539239    0.785178<p>1      0.736935    0.866273    0.867507<p>"
      }
     },
     "c7c036b249644452b6c3b78bc7b829ec": {
      "model_module": "@jupyter-widgets/base",
      "model_module_version": "1.1.0",
      "model_name": "LayoutModel",
      "state": {}
     },
     "c80965b28d36469b902ca76bfa07879a": {
      "model_module": "@jupyter-widgets/controls",
      "model_module_version": "1.4.0",
      "model_name": "DescriptionStyleModel",
      "state": {
       "description_width": ""
      }
     },
     "c8b5fcdc6b7248b6a6c39e9e27650ab0": {
      "model_module": "@jupyter-widgets/controls",
      "model_module_version": "1.4.0",
      "model_name": "HTMLModel",
      "state": {
       "layout": "IPY_MODEL_2964dbd2078c4110bc96fe9316c6160f",
       "style": "IPY_MODEL_157506c9b85748a08021ea99d4affcea",
       "value": "100.00% [3501/3501 03:50<00:00]"
      }
     },
     "c8e5c53bdab742cf91c9f2dd12384e3f": {
      "model_module": "@jupyter-widgets/controls",
      "model_module_version": "1.4.0",
      "model_name": "IntProgressModel",
      "state": {
       "layout": "IPY_MODEL_43846cc6143841da8658870bb9460cff",
       "max": 1550,
       "style": "IPY_MODEL_76659cab67964e7a8175b8b28fdeccda",
       "value": 1550
      }
     },
     "c95785e714f94f89a413e9804f2ffaa3": {
      "model_module": "@jupyter-widgets/controls",
      "model_module_version": "1.4.0",
      "model_name": "DescriptionStyleModel",
      "state": {
       "description_width": ""
      }
     },
     "c9809a7d83b4434290237434e6812f1a": {
      "model_module": "@jupyter-widgets/controls",
      "model_module_version": "1.4.0",
      "model_name": "HTMLModel",
      "state": {
       "layout": "IPY_MODEL_abf8cd14ccf84f8fb78a481bdaea8ac8",
       "style": "IPY_MODEL_bc90a6ab4ce54d3782cfaa6de5de2207",
       "value": "0.00% [0/1 00:00<00:00]"
      }
     },
     "c9bc5bd44a7a4581b960eaeebbed5305": {
      "model_module": "@jupyter-widgets/base",
      "model_module_version": "1.1.0",
      "model_name": "LayoutModel",
      "state": {}
     },
     "c9bcaaecb9c74b6bab07c62bfa033941": {
      "model_module": "@jupyter-widgets/base",
      "model_module_version": "1.1.0",
      "model_name": "LayoutModel",
      "state": {}
     },
     "caca3cb6759643f3b4093f02f366f21e": {
      "model_module": "@jupyter-widgets/controls",
      "model_module_version": "1.4.0",
      "model_name": "IntProgressModel",
      "state": {
       "bar_style": "danger",
       "layout": "IPY_MODEL_cae2872357b24f5d9387a6b4a35613f4",
       "max": 1550,
       "style": "IPY_MODEL_0259fdf36d314569b167e2fa775a6a02",
       "value": 99
      }
     },
     "cae2872357b24f5d9387a6b4a35613f4": {
      "model_module": "@jupyter-widgets/base",
      "model_module_version": "1.1.0",
      "model_name": "LayoutModel",
      "state": {}
     },
     "caef1c71e5eb46d58922ebbd1b361711": {
      "model_module": "@jupyter-widgets/controls",
      "model_module_version": "1.4.0",
      "model_name": "IntProgressModel",
      "state": {
       "layout": "IPY_MODEL_95b0c0437c09450c9654659ad508f6fb",
       "max": 1550,
       "style": "IPY_MODEL_0c124c5178a841a3be890baa46fb9a85",
       "value": 1550
      }
     },
     "cb584345c5d84f569b9d3d7f996aecac": {
      "model_module": "@jupyter-widgets/controls",
      "model_module_version": "1.4.0",
      "model_name": "IntProgressModel",
      "state": {
       "layout": "IPY_MODEL_6c908c5bc2c7411cb30640440fd7b99f",
       "max": 1550,
       "style": "IPY_MODEL_f13e1a98a4db4bfaac606ca6d39f0d22",
       "value": 1550
      }
     },
     "cb603fa9310b4231a4b9cb48ec503d36": {
      "model_module": "@jupyter-widgets/base",
      "model_module_version": "1.1.0",
      "model_name": "LayoutModel",
      "state": {}
     },
     "cc105d47d20841b089d96dc861adea85": {
      "model_module": "@jupyter-widgets/base",
      "model_module_version": "1.1.0",
      "model_name": "LayoutModel",
      "state": {}
     },
     "cc3b265560c446e48755566175e1bea6": {
      "model_module": "@jupyter-widgets/controls",
      "model_module_version": "1.4.0",
      "model_name": "ProgressStyleModel",
      "state": {
       "description_width": ""
      }
     },
     "cc7a5af1d3044618b841719785f8b3b6": {
      "model_module": "@jupyter-widgets/controls",
      "model_module_version": "1.4.0",
      "model_name": "DescriptionStyleModel",
      "state": {
       "description_width": ""
      }
     },
     "ccab9006c2614c85b7d2e33b65a82694": {
      "model_module": "@jupyter-widgets/base",
      "model_module_version": "1.1.0",
      "model_name": "LayoutModel",
      "state": {}
     },
     "cd356a4275a149caba2baeb7298a1e7e": {
      "model_module": "@jupyter-widgets/base",
      "model_module_version": "1.1.0",
      "model_name": "LayoutModel",
      "state": {}
     },
     "cd663eea8a6345aa9b4311be2078e187": {
      "model_module": "@jupyter-widgets/controls",
      "model_module_version": "1.4.0",
      "model_name": "DescriptionStyleModel",
      "state": {
       "description_width": ""
      }
     },
     "cd7ff62a65ae4384a29b8a89827455a2": {
      "model_module": "@jupyter-widgets/controls",
      "model_module_version": "1.4.0",
      "model_name": "DescriptionStyleModel",
      "state": {
       "description_width": ""
      }
     },
     "cd818fd36472441cac75dc55dd8f2dc6": {
      "model_module": "@jupyter-widgets/base",
      "model_module_version": "1.1.0",
      "model_name": "LayoutModel",
      "state": {}
     },
     "cda4644e57f14321bf72dd12f77598e7": {
      "model_module": "@jupyter-widgets/controls",
      "model_module_version": "1.4.0",
      "model_name": "DescriptionStyleModel",
      "state": {
       "description_width": ""
      }
     },
     "cdfa412d64654cdcba2eafd4550725ce": {
      "model_module": "@jupyter-widgets/controls",
      "model_module_version": "1.4.0",
      "model_name": "DescriptionStyleModel",
      "state": {
       "description_width": ""
      }
     },
     "ce1ed8a2caac4f64909337b5d995d5b8": {
      "model_module": "@jupyter-widgets/base",
      "model_module_version": "1.1.0",
      "model_name": "LayoutModel",
      "state": {}
     },
     "ce43122ac21b4f22a8621b153127db83": {
      "model_module": "@jupyter-widgets/base",
      "model_module_version": "1.1.0",
      "model_name": "LayoutModel",
      "state": {}
     },
     "ce50d63dfbd64b62be1e5a0d74d0a2c5": {
      "model_module": "@jupyter-widgets/base",
      "model_module_version": "1.1.0",
      "model_name": "LayoutModel",
      "state": {}
     },
     "cebc4118b48042cf98f21db329152348": {
      "model_module": "@jupyter-widgets/base",
      "model_module_version": "1.1.0",
      "model_name": "LayoutModel",
      "state": {}
     },
     "cedcb861aec540a6ab7ba888fd217eb9": {
      "model_module": "@jupyter-widgets/controls",
      "model_module_version": "1.4.0",
      "model_name": "IntProgressModel",
      "state": {
       "bar_style": "danger",
       "layout": "IPY_MODEL_99b47bc3bd8e4c3f9c198944c86419cb",
       "max": 2,
       "style": "IPY_MODEL_4786ba7a76b946e3979fbbdc60667091"
      }
     },
     "cf0c678ca1734bf595a4c17ce3270479": {
      "model_module": "@jupyter-widgets/controls",
      "model_module_version": "1.4.0",
      "model_name": "ProgressStyleModel",
      "state": {
       "description_width": ""
      }
     },
     "cfee473894df4822b4858e17bcef93cc": {
      "model_module": "@jupyter-widgets/controls",
      "model_module_version": "1.4.0",
      "model_name": "HTMLModel",
      "state": {
       "layout": "IPY_MODEL_4a14aa563a874582b6a648e4f14ba2df",
       "style": "IPY_MODEL_fd37b51f10f544afa26c98ad36da324f",
       "value": "100.00% [1550/1550 03:57<00:00 0.9854]"
      }
     },
     "d0457b644b874731baa655511356a920": {
      "model_module": "@jupyter-widgets/controls",
      "model_module_version": "1.4.0",
      "model_name": "DescriptionStyleModel",
      "state": {
       "description_width": ""
      }
     },
     "d0ad3c218514465faaa3502bb7b0c2d6": {
      "model_module": "@jupyter-widgets/controls",
      "model_module_version": "1.4.0",
      "model_name": "IntProgressModel",
      "state": {
       "bar_style": "danger",
       "layout": "IPY_MODEL_fcc2972219d0448594b10d71489acba0",
       "max": 1,
       "style": "IPY_MODEL_9c9ac9c0d1b9416ab75be6275b4362e6"
      }
     },
     "d0c754d126c34a588b41cb1ec0e783e9": {
      "model_module": "@jupyter-widgets/controls",
      "model_module_version": "1.4.0",
      "model_name": "ProgressStyleModel",
      "state": {
       "description_width": ""
      }
     },
     "d11fc7056d9a4c51a3ff50400e826fe3": {
      "model_module": "@jupyter-widgets/controls",
      "model_module_version": "1.4.0",
      "model_name": "HTMLModel",
      "state": {
       "layout": "IPY_MODEL_3956844057294358acf3f249dd33a5f7",
       "style": "IPY_MODEL_27f9239f63f44a46a00b37a7f5fec23c",
       "value": "100.00% [3501/3501 03:50<00:00]"
      }
     },
     "d1642d37713646cabcd3f8350ea87737": {
      "model_module": "@jupyter-widgets/controls",
      "model_module_version": "1.4.0",
      "model_name": "DescriptionStyleModel",
      "state": {
       "description_width": ""
      }
     },
     "d1a76a4205bf45f0b5d71ad356f8f31d": {
      "model_module": "@jupyter-widgets/controls",
      "model_module_version": "1.4.0",
      "model_name": "DescriptionStyleModel",
      "state": {
       "description_width": ""
      }
     },
     "d1fc506d4d76455d80fd5ad0c8c81226": {
      "model_module": "@jupyter-widgets/controls",
      "model_module_version": "1.4.0",
      "model_name": "ProgressStyleModel",
      "state": {
       "description_width": ""
      }
     },
     "d2d93ab1541242abaafcb41229a41f80": {
      "model_module": "@jupyter-widgets/controls",
      "model_module_version": "1.4.0",
      "model_name": "IntProgressModel",
      "state": {
       "layout": "IPY_MODEL_8a16a2523f364329865c222db34dae4c",
       "max": 1550,
       "style": "IPY_MODEL_dd352196b8f94ddbb6674cf8641c8eb1",
       "value": 1550
      }
     },
     "d30298166bd44835b072046cf832395f": {
      "model_module": "@jupyter-widgets/controls",
      "model_module_version": "1.4.0",
      "model_name": "HTMLModel",
      "state": {
       "layout": "IPY_MODEL_0528063cb4494f449eb34a6194e7f16b",
       "style": "IPY_MODEL_f018d15fd59f4216b8357cc2e559f76f",
       "value": "epoch  train loss  valid loss  accuracy<p>"
      }
     },
     "d30dcaea51e6406d9522b4b58176ad34": {
      "model_module": "@jupyter-widgets/base",
      "model_module_version": "1.1.0",
      "model_name": "LayoutModel",
      "state": {}
     },
     "d333d2c27e48462da9ddb0798c769316": {
      "model_module": "@jupyter-widgets/controls",
      "model_module_version": "1.4.0",
      "model_name": "HTMLModel",
      "state": {
       "layout": "IPY_MODEL_51297237de9b4d28a876c45585f3de5f",
       "style": "IPY_MODEL_163e3dacb8224802a087857db5732c92",
       "value": "6.39% [99/1550 00:15<03:44 22.1718]"
      }
     },
     "d347429cfb3f4258ad0c5115d7683a74": {
      "model_module": "@jupyter-widgets/controls",
      "model_module_version": "1.4.0",
      "model_name": "IntProgressModel",
      "state": {
       "bar_style": "danger",
       "layout": "IPY_MODEL_e08424dede894eb1a32d95c6417dcac9",
       "max": 1550,
       "style": "IPY_MODEL_84611c82fd4f499f9131112bdbf1afb2",
       "value": 99
      }
     },
     "d368bd1de6b446548d122ced3f2d11db": {
      "model_module": "@jupyter-widgets/base",
      "model_module_version": "1.1.0",
      "model_name": "LayoutModel",
      "state": {}
     },
     "d3dcc86dc7334809b1661ec1be9ae270": {
      "model_module": "@jupyter-widgets/controls",
      "model_module_version": "1.4.0",
      "model_name": "ProgressStyleModel",
      "state": {
       "description_width": ""
      }
     },
     "d464bee42a98412187a2e289417f2d8b": {
      "model_module": "@jupyter-widgets/controls",
      "model_module_version": "1.4.0",
      "model_name": "IntProgressModel",
      "state": {
       "layout": "IPY_MODEL_efa043ca52b4495a84eaae6abb238d33",
       "max": 3501,
       "style": "IPY_MODEL_703a063ad26b4f18860a34d771487b6a",
       "value": 3501
      }
     },
     "d483de88e3db4de38368856d45e7fe65": {
      "model_module": "@jupyter-widgets/base",
      "model_module_version": "1.1.0",
      "model_name": "LayoutModel",
      "state": {}
     },
     "d49c0aaae403485591edd80e7882b195": {
      "model_module": "@jupyter-widgets/controls",
      "model_module_version": "1.4.0",
      "model_name": "HTMLModel",
      "state": {
       "layout": "IPY_MODEL_56dc4974866445bd949751e931278023",
       "style": "IPY_MODEL_6d618ca246764826918a4825ae7fdd3c",
       "value": "100.00% [1550/1550 03:57<00:00 48.1390]"
      }
     },
     "d49c926633b741908fe5228184a6b3d2": {
      "model_module": "@jupyter-widgets/base",
      "model_module_version": "1.1.0",
      "model_name": "LayoutModel",
      "state": {}
     },
     "d4af8b37ba0b4ca78808e277bb227c58": {
      "model_module": "@jupyter-widgets/base",
      "model_module_version": "1.1.0",
      "model_name": "LayoutModel",
      "state": {}
     },
     "d4e0a3392e7d4ec6ae9b3a4145dfee53": {
      "model_module": "@jupyter-widgets/controls",
      "model_module_version": "1.4.0",
      "model_name": "ProgressStyleModel",
      "state": {
       "description_width": ""
      }
     },
     "d52403c42614491ca63b7fb37c1158b6": {
      "model_module": "@jupyter-widgets/controls",
      "model_module_version": "1.4.0",
      "model_name": "HBoxModel",
      "state": {
       "children": [
        "IPY_MODEL_ba135c9f404346f6998886c2c06f344f",
        "IPY_MODEL_5ce7bf74287f4129bc93d8a23f3a2e9d"
       ],
       "layout": "IPY_MODEL_0396b29c6a954775a76de69ade6f4532"
      }
     },
     "d55f24e1669b4c7e889aff9a99f8a05c": {
      "model_module": "@jupyter-widgets/base",
      "model_module_version": "1.1.0",
      "model_name": "LayoutModel",
      "state": {}
     },
     "d56b165042f94feeaf8f7689e5057d77": {
      "model_module": "@jupyter-widgets/base",
      "model_module_version": "1.1.0",
      "model_name": "LayoutModel",
      "state": {}
     },
     "d595b370191245048708c9f9185f27f9": {
      "model_module": "@jupyter-widgets/controls",
      "model_module_version": "1.4.0",
      "model_name": "ProgressStyleModel",
      "state": {
       "description_width": ""
      }
     },
     "d59a212ed43b4e42b742667f3a996a32": {
      "model_module": "@jupyter-widgets/controls",
      "model_module_version": "1.4.0",
      "model_name": "ProgressStyleModel",
      "state": {
       "description_width": ""
      }
     },
     "d64b1e24aa054251b515b5129a8770f9": {
      "model_module": "@jupyter-widgets/controls",
      "model_module_version": "1.4.0",
      "model_name": "ProgressStyleModel",
      "state": {
       "description_width": ""
      }
     },
     "d6e6c325f3334e0f9194caccf5165026": {
      "model_module": "@jupyter-widgets/base",
      "model_module_version": "1.1.0",
      "model_name": "LayoutModel",
      "state": {}
     },
     "d6f20bb6331148098bb35ed20865a1a4": {
      "model_module": "@jupyter-widgets/base",
      "model_module_version": "1.1.0",
      "model_name": "LayoutModel",
      "state": {}
     },
     "d6fb2787036142499a136826001bb7c4": {
      "model_module": "@jupyter-widgets/base",
      "model_module_version": "1.1.0",
      "model_name": "LayoutModel",
      "state": {}
     },
     "d7534e50e0974ec78ee1d0f875522b31": {
      "model_module": "@jupyter-widgets/base",
      "model_module_version": "1.1.0",
      "model_name": "LayoutModel",
      "state": {}
     },
     "d832bb2007204b93b331ed91b44b05f8": {
      "model_module": "@jupyter-widgets/base",
      "model_module_version": "1.1.0",
      "model_name": "LayoutModel",
      "state": {}
     },
     "d8718c3b94574cc3891bab534e4e89fe": {
      "model_module": "@jupyter-widgets/controls",
      "model_module_version": "1.4.0",
      "model_name": "HBoxModel",
      "state": {
       "children": [
        "IPY_MODEL_a937dea3a6614ae091fa907d9277b24a",
        "IPY_MODEL_9b855c6b983e42b68907415f914e9f28"
       ],
       "layout": "IPY_MODEL_246e6f561a534442887d61c2cd81e8ca"
      }
     },
     "d899d9a786824fcf8c5b09ee387d4fd6": {
      "model_module": "@jupyter-widgets/controls",
      "model_module_version": "1.4.0",
      "model_name": "HBoxModel",
      "state": {
       "children": [
        "IPY_MODEL_a6de684651544f92b8967d1b378a2906",
        "IPY_MODEL_2b5e6ddaaf5945bd88a9b8eadad79c18"
       ],
       "layout": "IPY_MODEL_fb90dd7c47ea49b9801036b488e0c46e"
      }
     },
     "d9115cd92ee64c02989df0570c49c05b": {
      "model_module": "@jupyter-widgets/controls",
      "model_module_version": "1.4.0",
      "model_name": "HTMLModel",
      "state": {
       "layout": "IPY_MODEL_4a11a84f5797411698023405e01a36a5",
       "style": "IPY_MODEL_c3e5157220414adf8f2e53cbb89d5f3b",
       "value": "epoch  train loss  valid loss  accuracy<p>0      25.303881 <p>"
      }
     },
     "d9dcd947f9e44eff8e686e8b90044048": {
      "model_module": "@jupyter-widgets/controls",
      "model_module_version": "1.4.0",
      "model_name": "IntProgressModel",
      "state": {
       "layout": "IPY_MODEL_2b7d223bfd254319a8b734b832f2fee1",
       "max": 10,
       "style": "IPY_MODEL_c6a80dbf20994aadbe07470b8aedeeb0",
       "value": 10
      }
     },
     "da8a1f1fa1fe4cb39723d3494952852a": {
      "model_module": "@jupyter-widgets/base",
      "model_module_version": "1.1.0",
      "model_name": "LayoutModel",
      "state": {}
     },
     "db0583bbab094947bfd4ae6ddf3c50a0": {
      "model_module": "@jupyter-widgets/base",
      "model_module_version": "1.1.0",
      "model_name": "LayoutModel",
      "state": {}
     },
     "db09cd81bd9b4fad8e207d4c900dd1a7": {
      "model_module": "@jupyter-widgets/controls",
      "model_module_version": "1.4.0",
      "model_name": "DescriptionStyleModel",
      "state": {
       "description_width": ""
      }
     },
     "db5b70ed91c647a3bb32b71d1576c079": {
      "model_module": "@jupyter-widgets/base",
      "model_module_version": "1.1.0",
      "model_name": "LayoutModel",
      "state": {}
     },
     "dbc01fc1f8154cd9a2a00a9e696eab53": {
      "model_module": "@jupyter-widgets/base",
      "model_module_version": "1.1.0",
      "model_name": "LayoutModel",
      "state": {}
     },
     "dbf0da689efb4dffadf0dc5fdad4c2c7": {
      "model_module": "@jupyter-widgets/controls",
      "model_module_version": "1.4.0",
      "model_name": "DescriptionStyleModel",
      "state": {
       "description_width": ""
      }
     },
     "dbf6e43727df447d81757210c77f7fcf": {
      "model_module": "@jupyter-widgets/controls",
      "model_module_version": "1.4.0",
      "model_name": "HBoxModel",
      "state": {
       "children": [
        "IPY_MODEL_b9524bf9e13f472fa7c61bbdb5ae76ea",
        "IPY_MODEL_1d6b3049a02d4ec89259274e230634bb"
       ],
       "layout": "IPY_MODEL_df0980a6ccd943d6bfb7e9da909c6223"
      }
     },
     "dc961df1c8434c07a5ef6086c06e17c4": {
      "model_module": "@jupyter-widgets/controls",
      "model_module_version": "1.4.0",
      "model_name": "HTMLModel",
      "state": {
       "layout": "IPY_MODEL_5a94eda8cab441a5ae5a488934af6380",
       "style": "IPY_MODEL_e4035538031f475faf58f6be4abe0d98",
       "value": "epoch  train loss  valid loss  accuracy<p>"
      }
     },
     "dd352196b8f94ddbb6674cf8641c8eb1": {
      "model_module": "@jupyter-widgets/controls",
      "model_module_version": "1.4.0",
      "model_name": "ProgressStyleModel",
      "state": {
       "description_width": ""
      }
     },
     "dd3b042ff92c4e4ab344eab960c0f577": {
      "model_module": "@jupyter-widgets/controls",
      "model_module_version": "1.4.0",
      "model_name": "HTMLModel",
      "state": {
       "layout": "IPY_MODEL_f565a0b9ba2b47489e20375b4de76b4a",
       "style": "IPY_MODEL_7016be64e7364b5baff72f96bb9d08be",
       "value": "0.03% [1/3501 00:00<00:17]"
      }
     },
     "dd7b85cfa9a543728fea22a4f3e4c96b": {
      "model_module": "@jupyter-widgets/controls",
      "model_module_version": "1.4.0",
      "model_name": "HTMLModel",
      "state": {
       "layout": "IPY_MODEL_af18fbd8acf647ff9c7254e3f12897bd",
       "style": "IPY_MODEL_593a0a71fd8f4cb0a0a8fb8de3710317",
       "value": "100.00% [1550/1550 03:57<00:00 49.3983]"
      }
     },
     "ddfa56fd4b114f6bb19e6f5c673d8b3b": {
      "model_module": "@jupyter-widgets/controls",
      "model_module_version": "1.4.0",
      "model_name": "DescriptionStyleModel",
      "state": {
       "description_width": ""
      }
     },
     "de30e64406af46b2bf5beca4946c5db6": {
      "model_module": "@jupyter-widgets/base",
      "model_module_version": "1.1.0",
      "model_name": "LayoutModel",
      "state": {}
     },
     "df0980a6ccd943d6bfb7e9da909c6223": {
      "model_module": "@jupyter-widgets/base",
      "model_module_version": "1.1.0",
      "model_name": "LayoutModel",
      "state": {}
     },
     "df1792e9f7bc40fea862fc810e2da13e": {
      "model_module": "@jupyter-widgets/controls",
      "model_module_version": "1.4.0",
      "model_name": "DescriptionStyleModel",
      "state": {
       "description_width": ""
      }
     },
     "df93beed5cd14cf78789551edd7006e0": {
      "model_module": "@jupyter-widgets/controls",
      "model_module_version": "1.4.0",
      "model_name": "DescriptionStyleModel",
      "state": {
       "description_width": ""
      }
     },
     "dfc8430202d64a63baa1ff36154009cd": {
      "model_module": "@jupyter-widgets/controls",
      "model_module_version": "1.4.0",
      "model_name": "HTMLModel",
      "state": {
       "layout": "IPY_MODEL_54aa1565f581447a82211013dbed83bb",
       "style": "IPY_MODEL_cd7ff62a65ae4384a29b8a89827455a2",
       "value": "epoch  train loss  valid loss  accuracy<p>0      24.508005 <p>"
      }
     },
     "dfe614265ffc49f4944b79918fbaf4e0": {
      "model_module": "@jupyter-widgets/base",
      "model_module_version": "1.1.0",
      "model_name": "LayoutModel",
      "state": {}
     },
     "e06bbe88f38947cda745f81033174f2c": {
      "model_module": "@jupyter-widgets/base",
      "model_module_version": "1.1.0",
      "model_name": "LayoutModel",
      "state": {}
     },
     "e08424dede894eb1a32d95c6417dcac9": {
      "model_module": "@jupyter-widgets/base",
      "model_module_version": "1.1.0",
      "model_name": "LayoutModel",
      "state": {}
     },
     "e0e15a839eb747109549acb1a6a6feb4": {
      "model_module": "@jupyter-widgets/base",
      "model_module_version": "1.1.0",
      "model_name": "LayoutModel",
      "state": {}
     },
     "e142278afd2d4c82a2f9b2806ece5e9b": {
      "model_module": "@jupyter-widgets/controls",
      "model_module_version": "1.4.0",
      "model_name": "ProgressStyleModel",
      "state": {
       "description_width": ""
      }
     },
     "e1677eea6501473084ec2f5700dff28b": {
      "model_module": "@jupyter-widgets/controls",
      "model_module_version": "1.4.0",
      "model_name": "ProgressStyleModel",
      "state": {
       "description_width": ""
      }
     },
     "e1a72effb8e144d693009b2161cb0d30": {
      "model_module": "@jupyter-widgets/controls",
      "model_module_version": "1.4.0",
      "model_name": "HBoxModel",
      "state": {
       "children": [
        "IPY_MODEL_b9ba1a85753c412895df449418863bc2",
        "IPY_MODEL_d333d2c27e48462da9ddb0798c769316"
       ],
       "layout": "IPY_MODEL_ebd16dda8a9a4338bd81a5b9a171c43c"
      }
     },
     "e1cf65e277f041f7908fcca714a7924c": {
      "model_module": "@jupyter-widgets/controls",
      "model_module_version": "1.4.0",
      "model_name": "ProgressStyleModel",
      "state": {
       "description_width": ""
      }
     },
     "e218de6412794007a8f99e72989d9ad8": {
      "model_module": "@jupyter-widgets/controls",
      "model_module_version": "1.4.0",
      "model_name": "IntProgressModel",
      "state": {
       "bar_style": "danger",
       "layout": "IPY_MODEL_4836dd854d1e4dc785f3e9b7db208492",
       "max": 1,
       "style": "IPY_MODEL_70fc984bc48048e9826740d480377ade"
      }
     },
     "e24566f9c1e24a28909089884fddbf0e": {
      "model_module": "@jupyter-widgets/controls",
      "model_module_version": "1.4.0",
      "model_name": "IntProgressModel",
      "state": {
       "layout": "IPY_MODEL_a9e6c5aab58f42298b7c0a6edb31d934",
       "max": 1550,
       "style": "IPY_MODEL_5869117522d34104bfdeb49e890cdf38",
       "value": 1550
      }
     },
     "e3577be7d3564350b6c5bb3285f74ffe": {
      "model_module": "@jupyter-widgets/base",
      "model_module_version": "1.1.0",
      "model_name": "LayoutModel",
      "state": {}
     },
     "e36450c615414790ad2a1fa3b3f18691": {
      "model_module": "@jupyter-widgets/controls",
      "model_module_version": "1.4.0",
      "model_name": "HTMLModel",
      "state": {
       "layout": "IPY_MODEL_0802206083ce4d1986ae19a6aedd5969",
       "style": "IPY_MODEL_5e667ea7bdd343a3864f7271c0cb06c6",
       "value": "epoch  train loss  valid loss  accuracy<p>0      5.618020    2.530024    0.586820<p>1      88.274834   61.198486   0.193630<p>2      49.398335   38.218666   0.069909<p>3      18.969814   15.538969   0.145254<p>4      3.935670    1.789971    0.663863<p>"
      }
     },
     "e36ea67cd5a54aee8485ee40f5b88466": {
      "model_module": "@jupyter-widgets/base",
      "model_module_version": "1.1.0",
      "model_name": "LayoutModel",
      "state": {}
     },
     "e37b73c792594222acadb4a7083c4c29": {
      "model_module": "@jupyter-widgets/controls",
      "model_module_version": "1.4.0",
      "model_name": "IntProgressModel",
      "state": {
       "layout": "IPY_MODEL_cebc4118b48042cf98f21db329152348",
       "max": 1550,
       "style": "IPY_MODEL_0c2cb7f1233f47718e410e6a0a70fd27",
       "value": 1550
      }
     },
     "e4035538031f475faf58f6be4abe0d98": {
      "model_module": "@jupyter-widgets/controls",
      "model_module_version": "1.4.0",
      "model_name": "DescriptionStyleModel",
      "state": {
       "description_width": ""
      }
     },
     "e411c9c11f81494ba18d0a9d8564e97b": {
      "model_module": "@jupyter-widgets/base",
      "model_module_version": "1.1.0",
      "model_name": "LayoutModel",
      "state": {}
     },
     "e43458bb0bda4802a5abec5b0970a540": {
      "model_module": "@jupyter-widgets/controls",
      "model_module_version": "1.4.0",
      "model_name": "DescriptionStyleModel",
      "state": {
       "description_width": ""
      }
     },
     "e48be9b3f6dc42e892e171094263e3f5": {
      "model_module": "@jupyter-widgets/controls",
      "model_module_version": "1.4.0",
      "model_name": "IntProgressModel",
      "state": {
       "layout": "IPY_MODEL_922f16b0e161414e8f703e8a57993b48",
       "max": 3501,
       "style": "IPY_MODEL_175e50849b1648ca9b74c5a3d6e5509b",
       "value": 3501
      }
     },
     "e4c680f6cab247c283b06c71709e7fcd": {
      "model_module": "@jupyter-widgets/controls",
      "model_module_version": "1.4.0",
      "model_name": "DescriptionStyleModel",
      "state": {
       "description_width": ""
      }
     },
     "e4da9bf6f82d4369842b32d7ad753dae": {
      "model_module": "@jupyter-widgets/base",
      "model_module_version": "1.1.0",
      "model_name": "LayoutModel",
      "state": {}
     },
     "e595fc85109a416d9d44eef980d56ec5": {
      "model_module": "@jupyter-widgets/controls",
      "model_module_version": "1.4.0",
      "model_name": "HTMLModel",
      "state": {
       "layout": "IPY_MODEL_37995de825fc4805b65adb0fcc46f0b5",
       "style": "IPY_MODEL_f8f101fe3be94c7fac4f173c60bc52f5",
       "value": "epoch  train loss  valid loss  accuracy<p>0      24.515488 <p>"
      }
     },
     "e5b857134c88456aad453ea3ea351d1b": {
      "model_module": "@jupyter-widgets/base",
      "model_module_version": "1.1.0",
      "model_name": "LayoutModel",
      "state": {}
     },
     "e5c4bf77b81047298ffd49c7f9fa5583": {
      "model_module": "@jupyter-widgets/controls",
      "model_module_version": "1.4.0",
      "model_name": "DescriptionStyleModel",
      "state": {
       "description_width": ""
      }
     },
     "e5e254fac34841fe836496d2c0ba3e7d": {
      "model_module": "@jupyter-widgets/controls",
      "model_module_version": "1.4.0",
      "model_name": "DescriptionStyleModel",
      "state": {
       "description_width": ""
      }
     },
     "e5f46613e1264a0b8a8586d608bde4a3": {
      "model_module": "@jupyter-widgets/controls",
      "model_module_version": "1.4.0",
      "model_name": "HTMLModel",
      "state": {
       "layout": "IPY_MODEL_1e498d1ad2e74f27b6a8d16c1bc36d39",
       "style": "IPY_MODEL_347aed22ebde46579f6cbfd475a4b795",
       "value": "6.39% [99/1550 00:15<03:40 20.5894]"
      }
     },
     "e668d34533fc49ce9b917a94fb023fa8": {
      "model_module": "@jupyter-widgets/base",
      "model_module_version": "1.1.0",
      "model_name": "LayoutModel",
      "state": {}
     },
     "e673d5c60a4b4e7e93e0f42224bd9309": {
      "model_module": "@jupyter-widgets/base",
      "model_module_version": "1.1.0",
      "model_name": "LayoutModel",
      "state": {}
     },
     "e687c240314a4772af2a091c2d9620e6": {
      "model_module": "@jupyter-widgets/controls",
      "model_module_version": "1.4.0",
      "model_name": "VBoxModel",
      "state": {
       "children": [
        "IPY_MODEL_48c8f8c1d8124404a67826c499a6adba",
        "IPY_MODEL_9c0f6940eadb429182c4f2c8a146c8e8",
        "IPY_MODEL_58ed0277a6cd47d591fa0e10fb51e557"
       ],
       "layout": "IPY_MODEL_6e67ce20ee2644718cc230914e13b21a"
      }
     },
     "e6ee718c34b84c02ad666034b530032a": {
      "model_module": "@jupyter-widgets/controls",
      "model_module_version": "1.4.0",
      "model_name": "ProgressStyleModel",
      "state": {
       "description_width": ""
      }
     },
     "e753f305f7b143a48988ebcd338801c3": {
      "model_module": "@jupyter-widgets/controls",
      "model_module_version": "1.4.0",
      "model_name": "DescriptionStyleModel",
      "state": {
       "description_width": ""
      }
     },
     "e76c567568344435b48a54401249041c": {
      "model_module": "@jupyter-widgets/base",
      "model_module_version": "1.1.0",
      "model_name": "LayoutModel",
      "state": {}
     },
     "e77abf8842a7498ba8b22ad9a95775a4": {
      "model_module": "@jupyter-widgets/controls",
      "model_module_version": "1.4.0",
      "model_name": "HBoxModel",
      "state": {
       "children": [
        "IPY_MODEL_3865254f3cfb4808bcf457b61cb8c1f8",
        "IPY_MODEL_023994e107c94a80a7a4da856cf36880"
       ],
       "layout": "IPY_MODEL_6dfca50a958a440a86b773a6206f2d47"
      }
     },
     "e7f17b85b9fa47239c4462c30dee8f5b": {
      "model_module": "@jupyter-widgets/controls",
      "model_module_version": "1.4.0",
      "model_name": "DescriptionStyleModel",
      "state": {
       "description_width": ""
      }
     },
     "e814c00fca6646cb94bd14ad196f254a": {
      "model_module": "@jupyter-widgets/controls",
      "model_module_version": "1.4.0",
      "model_name": "DescriptionStyleModel",
      "state": {
       "description_width": ""
      }
     },
     "e9059f549dc44e52bf38095812fa5797": {
      "model_module": "@jupyter-widgets/base",
      "model_module_version": "1.1.0",
      "model_name": "LayoutModel",
      "state": {}
     },
     "e97f91dd5e4346c79f9d60c6df4897ee": {
      "model_module": "@jupyter-widgets/controls",
      "model_module_version": "1.4.0",
      "model_name": "ProgressStyleModel",
      "state": {
       "description_width": ""
      }
     },
     "e99406bdd0b14b8b95233744b3238adc": {
      "model_module": "@jupyter-widgets/controls",
      "model_module_version": "1.4.0",
      "model_name": "HTMLModel",
      "state": {
       "layout": "IPY_MODEL_e4da9bf6f82d4369842b32d7ad753dae",
       "style": "IPY_MODEL_e43458bb0bda4802a5abec5b0970a540",
       "value": "6.39% [99/1550 00:15<03:48 20.2153]"
      }
     },
     "e9b9878e61e44175b705607f7942e21f": {
      "model_module": "@jupyter-widgets/base",
      "model_module_version": "1.1.0",
      "model_name": "LayoutModel",
      "state": {}
     },
     "e9c94ecac52b493b8cd79f85b773870c": {
      "model_module": "@jupyter-widgets/controls",
      "model_module_version": "1.4.0",
      "model_name": "ProgressStyleModel",
      "state": {
       "description_width": ""
      }
     },
     "ea442573c052464e80071fbc42c2f88e": {
      "model_module": "@jupyter-widgets/base",
      "model_module_version": "1.1.0",
      "model_name": "LayoutModel",
      "state": {}
     },
     "eaa0bf2a20374fe08ddb658bbd64beed": {
      "model_module": "@jupyter-widgets/base",
      "model_module_version": "1.1.0",
      "model_name": "LayoutModel",
      "state": {}
     },
     "eac79b465a79422f94ad15b294cc3297": {
      "model_module": "@jupyter-widgets/controls",
      "model_module_version": "1.4.0",
      "model_name": "DescriptionStyleModel",
      "state": {
       "description_width": ""
      }
     },
     "eb02d6bb23ff42bc9c9db011b2d8bd22": {
      "model_module": "@jupyter-widgets/controls",
      "model_module_version": "1.4.0",
      "model_name": "DescriptionStyleModel",
      "state": {
       "description_width": ""
      }
     },
     "eb2dfc9831bf4ad0b9cd40f27b6d7b90": {
      "model_module": "@jupyter-widgets/controls",
      "model_module_version": "1.4.0",
      "model_name": "HTMLModel",
      "state": {
       "layout": "IPY_MODEL_7a0eeee86bf7463e87919d0d28271aea",
       "style": "IPY_MODEL_f304eba3b160423ea79033810ff72e75",
       "value": "6.39% [99/1550 00:15<03:41 19.1857]"
      }
     },
     "eb4ad6240bc84cb8bf076b43a0171fc3": {
      "model_module": "@jupyter-widgets/base",
      "model_module_version": "1.1.0",
      "model_name": "LayoutModel",
      "state": {}
     },
     "eba05c30a3ba46c485e7aff740b0fdb2": {
      "model_module": "@jupyter-widgets/controls",
      "model_module_version": "1.4.0",
      "model_name": "ProgressStyleModel",
      "state": {
       "description_width": ""
      }
     },
     "ebd16dda8a9a4338bd81a5b9a171c43c": {
      "model_module": "@jupyter-widgets/base",
      "model_module_version": "1.1.0",
      "model_name": "LayoutModel",
      "state": {}
     },
     "ebf6042836ad4062b6edd95209c96a27": {
      "model_module": "@jupyter-widgets/controls",
      "model_module_version": "1.4.0",
      "model_name": "HBoxModel",
      "state": {
       "children": [
        "IPY_MODEL_222cdead4e254e3a94c8ce6516bcb0c0",
        "IPY_MODEL_fbd4faf7aef444aeb1cab6d095731ccd"
       ],
       "layout": "IPY_MODEL_0d49a024e09546a48c9816ff718f7f60"
      }
     },
     "ec02e0347bee480fabbf91b51f946e36": {
      "model_module": "@jupyter-widgets/controls",
      "model_module_version": "1.4.0",
      "model_name": "HBoxModel",
      "state": {
       "children": [
        "IPY_MODEL_e218de6412794007a8f99e72989d9ad8",
        "IPY_MODEL_57e029932e62418d807e391dc696da4c"
       ],
       "layout": "IPY_MODEL_001af635924c4a9fbad4c4f02a7ddf48"
      }
     },
     "ec0319a160c9424d8743039ddd162315": {
      "model_module": "@jupyter-widgets/base",
      "model_module_version": "1.1.0",
      "model_name": "LayoutModel",
      "state": {}
     },
     "ec4d97484e5e4f499356b143cb2d2584": {
      "model_module": "@jupyter-widgets/base",
      "model_module_version": "1.1.0",
      "model_name": "LayoutModel",
      "state": {}
     },
     "ec67313d4b1f499588d84a486b529e2b": {
      "model_module": "@jupyter-widgets/controls",
      "model_module_version": "1.4.0",
      "model_name": "DescriptionStyleModel",
      "state": {
       "description_width": ""
      }
     },
     "ec8dd550f1054d19a1dbed5f0e07769e": {
      "model_module": "@jupyter-widgets/controls",
      "model_module_version": "1.4.0",
      "model_name": "HTMLModel",
      "state": {
       "layout": "IPY_MODEL_b5c949957c904049aa091b5520806250",
       "style": "IPY_MODEL_ddfa56fd4b114f6bb19e6f5c673d8b3b",
       "value": "100.00% [3501/3501 03:50<00:00]"
      }
     },
     "ec9c5c60d81d41beb2102492ae08f5de": {
      "model_module": "@jupyter-widgets/controls",
      "model_module_version": "1.4.0",
      "model_name": "IntProgressModel",
      "state": {
       "layout": "IPY_MODEL_4f34fd4053644e36af66f520b55e7cc4",
       "max": 2,
       "style": "IPY_MODEL_e9c94ecac52b493b8cd79f85b773870c",
       "value": 2
      }
     },
     "ecafc1ebe9024cf3a282904f64ca978a": {
      "model_module": "@jupyter-widgets/controls",
      "model_module_version": "1.4.0",
      "model_name": "HTMLModel",
      "state": {
       "layout": "IPY_MODEL_eeb0832112e74ec3bc9c6beaa704be83",
       "style": "IPY_MODEL_b2ae70bf7b7e4c689ed53fb13bbd4573",
       "value": "0.00% [0/1 00:00<00:00]"
      }
     },
     "ece83c0933df47f3a7f3f49e7fccfcb1": {
      "model_module": "@jupyter-widgets/controls",
      "model_module_version": "1.4.0",
      "model_name": "HTMLModel",
      "state": {
       "layout": "IPY_MODEL_94ee89badffa46d48395fc69c4b4b9ea",
       "style": "IPY_MODEL_cda4644e57f14321bf72dd12f77598e7",
       "value": "100.00% [3501/3501 03:50<00:00]"
      }
     },
     "ed25419b0c2f4e94a5496f581328c0d9": {
      "model_module": "@jupyter-widgets/base",
      "model_module_version": "1.1.0",
      "model_name": "LayoutModel",
      "state": {}
     },
     "ed3cf0499b7f4cbc9f77fe5ab6010d8d": {
      "model_module": "@jupyter-widgets/base",
      "model_module_version": "1.1.0",
      "model_name": "LayoutModel",
      "state": {}
     },
     "ede5b133039848859203355fbd1ab875": {
      "model_module": "@jupyter-widgets/controls",
      "model_module_version": "1.4.0",
      "model_name": "HTMLModel",
      "state": {
       "layout": "IPY_MODEL_75dd7f7fc97d491686a192c70110bd56",
       "style": "IPY_MODEL_c95785e714f94f89a413e9804f2ffaa3",
       "value": "0.00% [0/1 00:00<00:00]"
      }
     },
     "ee36925ef73046d7aecad4a5d070af6b": {
      "model_module": "@jupyter-widgets/controls",
      "model_module_version": "1.4.0",
      "model_name": "HBoxModel",
      "state": {
       "children": [
        "IPY_MODEL_748acf938c5144d5918c06170fb53c7d",
        "IPY_MODEL_82d90c92985a487ab20a1f4d1d931b93"
       ],
       "layout": "IPY_MODEL_232dd38cf7bd433b93a8639941e3d64f"
      }
     },
     "eeb0832112e74ec3bc9c6beaa704be83": {
      "model_module": "@jupyter-widgets/base",
      "model_module_version": "1.1.0",
      "model_name": "LayoutModel",
      "state": {}
     },
     "ef22aa2442df4bba863ca0cf22f51fe1": {
      "model_module": "@jupyter-widgets/controls",
      "model_module_version": "1.4.0",
      "model_name": "IntProgressModel",
      "state": {
       "bar_style": "danger",
       "layout": "IPY_MODEL_7ecc70711e344c1c93195a1ce3e0ac96",
       "max": 1,
       "style": "IPY_MODEL_c6e7d6923d8a440ab1126d9053c95a86"
      }
     },
     "ef777510e4274ff4b8d13b027b2db1b3": {
      "model_module": "@jupyter-widgets/controls",
      "model_module_version": "1.4.0",
      "model_name": "HBoxModel",
      "state": {
       "children": [
        "IPY_MODEL_4878b167b47d4a83952441afc2b53d42",
        "IPY_MODEL_6c4f4b56a5fe4be8b86510cebe49d5f9"
       ],
       "layout": "IPY_MODEL_fbad5e07ae1d4067a0029de52d7d05ba"
      }
     },
     "efa043ca52b4495a84eaae6abb238d33": {
      "model_module": "@jupyter-widgets/base",
      "model_module_version": "1.1.0",
      "model_name": "LayoutModel",
      "state": {}
     },
     "efccdbdeaf534c81ba6d504d3bf77592": {
      "model_module": "@jupyter-widgets/controls",
      "model_module_version": "1.4.0",
      "model_name": "HTMLModel",
      "state": {
       "layout": "IPY_MODEL_da8a1f1fa1fe4cb39723d3494952852a",
       "style": "IPY_MODEL_cd663eea8a6345aa9b4311be2078e187",
       "value": "6.39% [99/1550 00:15<03:40 20.2498]"
      }
     },
     "f018d15fd59f4216b8357cc2e559f76f": {
      "model_module": "@jupyter-widgets/controls",
      "model_module_version": "1.4.0",
      "model_name": "DescriptionStyleModel",
      "state": {
       "description_width": ""
      }
     },
     "f0557077600a40068b30889c1e6340a4": {
      "model_module": "@jupyter-widgets/controls",
      "model_module_version": "1.4.0",
      "model_name": "VBoxModel",
      "state": {
       "children": [
        "IPY_MODEL_b1c2829c051d4c16aac74d327a0ae6f2",
        "IPY_MODEL_bcfb66ace23d46f6adf88e98647d10d0",
        "IPY_MODEL_e77abf8842a7498ba8b22ad9a95775a4"
       ],
       "layout": "IPY_MODEL_ea442573c052464e80071fbc42c2f88e"
      }
     },
     "f0717a56039b4d218e74b9504ab9f3f8": {
      "model_module": "@jupyter-widgets/base",
      "model_module_version": "1.1.0",
      "model_name": "LayoutModel",
      "state": {}
     },
     "f0a880c3ef4e41a2ad810b45b9934577": {
      "model_module": "@jupyter-widgets/base",
      "model_module_version": "1.1.0",
      "model_name": "LayoutModel",
      "state": {}
     },
     "f0eca35217d440cc9423071f5d98953d": {
      "model_module": "@jupyter-widgets/controls",
      "model_module_version": "1.4.0",
      "model_name": "IntProgressModel",
      "state": {
       "layout": "IPY_MODEL_56db252a0263432ca132d9ceea2402eb",
       "max": 3501,
       "style": "IPY_MODEL_774cb6ed21104e46885860fb837df44c",
       "value": 3501
      }
     },
     "f13e1a98a4db4bfaac606ca6d39f0d22": {
      "model_module": "@jupyter-widgets/controls",
      "model_module_version": "1.4.0",
      "model_name": "ProgressStyleModel",
      "state": {
       "description_width": ""
      }
     },
     "f16913290b1a4a3ca6ce26696a03e3eb": {
      "model_module": "@jupyter-widgets/base",
      "model_module_version": "1.1.0",
      "model_name": "LayoutModel",
      "state": {}
     },
     "f17014f4d83548df81db8d4fb2749dbe": {
      "model_module": "@jupyter-widgets/controls",
      "model_module_version": "1.4.0",
      "model_name": "HTMLModel",
      "state": {
       "layout": "IPY_MODEL_f6f39dd7a7d946fbba85c70e48312493",
       "style": "IPY_MODEL_8a2e52b6e53c4e0c9a811a882ca1b6d1",
       "value": "100.00% [3501/3501 03:51<00:00]"
      }
     },
     "f1953d12c5ed48659c6285faee22e855": {
      "model_module": "@jupyter-widgets/controls",
      "model_module_version": "1.4.0",
      "model_name": "IntProgressModel",
      "state": {
       "layout": "IPY_MODEL_579f1c1cfa8c47e5af49c4ebd4ce7c95",
       "max": 3501,
       "style": "IPY_MODEL_c22d110e49ef42e8ad1f40f77ff039d5",
       "value": 3501
      }
     },
     "f1da1b3bd3004e2fa707fb665d17a3e5": {
      "model_module": "@jupyter-widgets/controls",
      "model_module_version": "1.4.0",
      "model_name": "HBoxModel",
      "state": {
       "children": [
        "IPY_MODEL_8e31c6cd494f4c968838463187855015",
        "IPY_MODEL_72f79a8df93a4d3ca99fe10a167e2bd3"
       ],
       "layout": "IPY_MODEL_e411c9c11f81494ba18d0a9d8564e97b"
      }
     },
     "f1fd3ed6d3ef4a72b50d8fa424b0b5bc": {
      "model_module": "@jupyter-widgets/controls",
      "model_module_version": "1.4.0",
      "model_name": "HTMLModel",
      "state": {
       "layout": "IPY_MODEL_89b783cb691540509617caa424d0956a",
       "style": "IPY_MODEL_af500c3d32b441f8afeaac53919f78ca",
       "value": "100.00% [1550/1550 04:03<00:00 2.4561]"
      }
     },
     "f2148c8d1b154039b9d7d47a911fa373": {
      "model_module": "@jupyter-widgets/controls",
      "model_module_version": "1.4.0",
      "model_name": "IntProgressModel",
      "state": {
       "layout": "IPY_MODEL_e76c567568344435b48a54401249041c",
       "max": 1550,
       "style": "IPY_MODEL_271d1e559efd493f805d6a93362e84cd",
       "value": 1550
      }
     },
     "f23df8afb4444fdcb4fd270ec8f36eab": {
      "model_module": "@jupyter-widgets/base",
      "model_module_version": "1.1.0",
      "model_name": "LayoutModel",
      "state": {}
     },
     "f2adba438dba45a49e6b631e5ea32ecf": {
      "model_module": "@jupyter-widgets/controls",
      "model_module_version": "1.4.0",
      "model_name": "ProgressStyleModel",
      "state": {
       "description_width": ""
      }
     },
     "f2f241b9d33242a7abc6ed48519894e7": {
      "model_module": "@jupyter-widgets/controls",
      "model_module_version": "1.4.0",
      "model_name": "HBoxModel",
      "state": {
       "children": [
        "IPY_MODEL_8c8e77b1d66d4e6d9060b9b0f3fa72f2",
        "IPY_MODEL_770eb56d21ab40be974b3d0d1341a21e"
       ],
       "layout": "IPY_MODEL_5254c0a3f47d473caea70114ef46a980"
      }
     },
     "f304eba3b160423ea79033810ff72e75": {
      "model_module": "@jupyter-widgets/controls",
      "model_module_version": "1.4.0",
      "model_name": "DescriptionStyleModel",
      "state": {
       "description_width": ""
      }
     },
     "f308ddc450fc4f1a99e6a99b8a3295bf": {
      "model_module": "@jupyter-widgets/base",
      "model_module_version": "1.1.0",
      "model_name": "LayoutModel",
      "state": {}
     },
     "f3c4077ba6134d9e832f57b1fb39897f": {
      "model_module": "@jupyter-widgets/controls",
      "model_module_version": "1.4.0",
      "model_name": "HTMLModel",
      "state": {
       "layout": "IPY_MODEL_f64a5f2146734acca8fb78adc76e26b7",
       "style": "IPY_MODEL_2fbc8dcceb544a85af5744957da056c9",
       "value": "epoch  train loss  valid loss  accuracy<p>0      0.985409    0.922286    0.853216<p>"
      }
     },
     "f3fdf213b142482bbdb9ce79d6bf6616": {
      "model_module": "@jupyter-widgets/controls",
      "model_module_version": "1.4.0",
      "model_name": "ProgressStyleModel",
      "state": {
       "description_width": ""
      }
     },
     "f45080e4230c4eb39dc63657e92641cc": {
      "model_module": "@jupyter-widgets/base",
      "model_module_version": "1.1.0",
      "model_name": "LayoutModel",
      "state": {}
     },
     "f565a0b9ba2b47489e20375b4de76b4a": {
      "model_module": "@jupyter-widgets/base",
      "model_module_version": "1.1.0",
      "model_name": "LayoutModel",
      "state": {}
     },
     "f566d427d4cb4821822d3599ec249454": {
      "model_module": "@jupyter-widgets/controls",
      "model_module_version": "1.4.0",
      "model_name": "ProgressStyleModel",
      "state": {
       "description_width": ""
      }
     },
     "f56f64c5bf3e451889493862502e56f1": {
      "model_module": "@jupyter-widgets/controls",
      "model_module_version": "1.4.0",
      "model_name": "ProgressStyleModel",
      "state": {
       "description_width": ""
      }
     },
     "f57b6f564e7946bab0c7330ed77c7d93": {
      "model_module": "@jupyter-widgets/controls",
      "model_module_version": "1.4.0",
      "model_name": "DescriptionStyleModel",
      "state": {
       "description_width": ""
      }
     },
     "f64a5f2146734acca8fb78adc76e26b7": {
      "model_module": "@jupyter-widgets/base",
      "model_module_version": "1.1.0",
      "model_name": "LayoutModel",
      "state": {}
     },
     "f662f1cc0f6c4a4ba4cd61c8542c36d7": {
      "model_module": "@jupyter-widgets/controls",
      "model_module_version": "1.4.0",
      "model_name": "HTMLModel",
      "state": {
       "layout": "IPY_MODEL_7b7607bed27f45ab8ea83fc68cce4239",
       "style": "IPY_MODEL_23f756f64f1a45d6b07e23db757c2b5e",
       "value": "100.00% [1550/1550 03:58<00:00 1.6527]"
      }
     },
     "f6ee8ae8107d42788ef7233dacec9843": {
      "model_module": "@jupyter-widgets/controls",
      "model_module_version": "1.4.0",
      "model_name": "IntProgressModel",
      "state": {
       "bar_style": "danger",
       "layout": "IPY_MODEL_9223dcdc085b484ab3dd73604cc14db4",
       "max": 3501,
       "style": "IPY_MODEL_d0c754d126c34a588b41cb1ec0e783e9",
       "value": 1
      }
     },
     "f6f39dd7a7d946fbba85c70e48312493": {
      "model_module": "@jupyter-widgets/base",
      "model_module_version": "1.1.0",
      "model_name": "LayoutModel",
      "state": {}
     },
     "f7ac87b2aaeb4f92bb1a31ae9fdb6928": {
      "model_module": "@jupyter-widgets/base",
      "model_module_version": "1.1.0",
      "model_name": "LayoutModel",
      "state": {}
     },
     "f7b227289c07464680b82082782f4a4c": {
      "model_module": "@jupyter-widgets/controls",
      "model_module_version": "1.4.0",
      "model_name": "DescriptionStyleModel",
      "state": {
       "description_width": ""
      }
     },
     "f7bbb072891148e8b012557eec2ee1e7": {
      "model_module": "@jupyter-widgets/base",
      "model_module_version": "1.1.0",
      "model_name": "LayoutModel",
      "state": {}
     },
     "f8f04a31934d4e2088a2eefeb1a790b2": {
      "model_module": "@jupyter-widgets/base",
      "model_module_version": "1.1.0",
      "model_name": "LayoutModel",
      "state": {}
     },
     "f8f101fe3be94c7fac4f173c60bc52f5": {
      "model_module": "@jupyter-widgets/controls",
      "model_module_version": "1.4.0",
      "model_name": "DescriptionStyleModel",
      "state": {
       "description_width": ""
      }
     },
     "f9259ac860114a9c9d48b40edbed6d58": {
      "model_module": "@jupyter-widgets/base",
      "model_module_version": "1.1.0",
      "model_name": "LayoutModel",
      "state": {}
     },
     "f9343fa49a024310a355c84084cd6beb": {
      "model_module": "@jupyter-widgets/base",
      "model_module_version": "1.1.0",
      "model_name": "LayoutModel",
      "state": {}
     },
     "f9cf04a3ec4c46028a8061108284ee37": {
      "model_module": "@jupyter-widgets/controls",
      "model_module_version": "1.4.0",
      "model_name": "IntProgressModel",
      "state": {
       "bar_style": "danger",
       "layout": "IPY_MODEL_9f7128772a484827be5bee8c8d0020d9",
       "max": 1,
       "style": "IPY_MODEL_6f18f133733e430c91e7ed56c76bc841"
      }
     },
     "fa8994316a4c4928bcc65b73588c68b0": {
      "model_module": "@jupyter-widgets/base",
      "model_module_version": "1.1.0",
      "model_name": "LayoutModel",
      "state": {}
     },
     "faa5731df7914eadac1f7fd60c611a39": {
      "model_module": "@jupyter-widgets/base",
      "model_module_version": "1.1.0",
      "model_name": "LayoutModel",
      "state": {}
     },
     "faf8739a478e4841b3b51aa0ca9ae85b": {
      "model_module": "@jupyter-widgets/base",
      "model_module_version": "1.1.0",
      "model_name": "LayoutModel",
      "state": {}
     },
     "fb39b5d9e18c44a7be97e9231d0cca0a": {
      "model_module": "@jupyter-widgets/base",
      "model_module_version": "1.1.0",
      "model_name": "LayoutModel",
      "state": {}
     },
     "fb8c4cd53c644e6b8984066693e86d8a": {
      "model_module": "@jupyter-widgets/base",
      "model_module_version": "1.1.0",
      "model_name": "LayoutModel",
      "state": {}
     },
     "fb90dd7c47ea49b9801036b488e0c46e": {
      "model_module": "@jupyter-widgets/base",
      "model_module_version": "1.1.0",
      "model_name": "LayoutModel",
      "state": {}
     },
     "fb9e5d85933744119acb03405025286b": {
      "model_module": "@jupyter-widgets/base",
      "model_module_version": "1.1.0",
      "model_name": "LayoutModel",
      "state": {}
     },
     "fbad5e07ae1d4067a0029de52d7d05ba": {
      "model_module": "@jupyter-widgets/base",
      "model_module_version": "1.1.0",
      "model_name": "LayoutModel",
      "state": {}
     },
     "fbd4faf7aef444aeb1cab6d095731ccd": {
      "model_module": "@jupyter-widgets/controls",
      "model_module_version": "1.4.0",
      "model_name": "HTMLModel",
      "state": {
       "layout": "IPY_MODEL_077e030fd2d5444e8538d1ff2d47637a",
       "style": "IPY_MODEL_af68813c688a415c9faa5bc8c2fba9e8",
       "value": "32.45% [503/1550 01:15<02:38 3.3598]"
      }
     },
     "fc38b781afcf4b83b552cf6ef1ed0158": {
      "model_module": "@jupyter-widgets/controls",
      "model_module_version": "1.4.0",
      "model_name": "HTMLModel",
      "state": {
       "layout": "IPY_MODEL_4c590bd09dd949c1a81153d2a1e2fe83",
       "style": "IPY_MODEL_7026b9bb716c4a8e8156136809cd20b7",
       "value": "100.00% [1550/1550 03:57<00:00 56.2185]"
      }
     },
     "fcc2972219d0448594b10d71489acba0": {
      "model_module": "@jupyter-widgets/base",
      "model_module_version": "1.1.0",
      "model_name": "LayoutModel",
      "state": {}
     },
     "fcfc394eb4a34d72a605add85ddfaf48": {
      "model_module": "@jupyter-widgets/controls",
      "model_module_version": "1.4.0",
      "model_name": "IntProgressModel",
      "state": {
       "layout": "IPY_MODEL_4397f06774e5434ba724abd08dde77fb",
       "max": 3501,
       "style": "IPY_MODEL_36b0cc82af044efd93bd486596f4ebe1",
       "value": 3501
      }
     },
     "fd28b3e4ce184324bd900e6de4e48e5d": {
      "model_module": "@jupyter-widgets/base",
      "model_module_version": "1.1.0",
      "model_name": "LayoutModel",
      "state": {}
     },
     "fd37b51f10f544afa26c98ad36da324f": {
      "model_module": "@jupyter-widgets/controls",
      "model_module_version": "1.4.0",
      "model_name": "DescriptionStyleModel",
      "state": {
       "description_width": ""
      }
     },
     "fd3eef81e1a5428e970a69a5e98f19bb": {
      "model_module": "@jupyter-widgets/controls",
      "model_module_version": "1.4.0",
      "model_name": "ProgressStyleModel",
      "state": {
       "description_width": ""
      }
     },
     "fd5d6bca390d4278a9e274e3aca65d32": {
      "model_module": "@jupyter-widgets/base",
      "model_module_version": "1.1.0",
      "model_name": "LayoutModel",
      "state": {}
     },
     "fdd25665fd1a4c91bd6ecb18aca1f59c": {
      "model_module": "@jupyter-widgets/controls",
      "model_module_version": "1.4.0",
      "model_name": "DescriptionStyleModel",
      "state": {
       "description_width": ""
      }
     },
     "fdfc1e1cfc044403bf4da0bbb980d930": {
      "model_module": "@jupyter-widgets/controls",
      "model_module_version": "1.4.0",
      "model_name": "DescriptionStyleModel",
      "state": {
       "description_width": ""
      }
     },
     "fe80544b247645ebba61b3581dba35de": {
      "model_module": "@jupyter-widgets/controls",
      "model_module_version": "1.4.0",
      "model_name": "ProgressStyleModel",
      "state": {
       "description_width": ""
      }
     },
     "fedb886432ee430db06252fa51bf14f8": {
      "model_module": "@jupyter-widgets/controls",
      "model_module_version": "1.4.0",
      "model_name": "DescriptionStyleModel",
      "state": {
       "description_width": ""
      }
     },
     "fee5a4e8de914778ad2773778780a2c5": {
      "model_module": "@jupyter-widgets/base",
      "model_module_version": "1.1.0",
      "model_name": "LayoutModel",
      "state": {}
     },
     "ff661c5825e4432eb8927730d0c9115b": {
      "model_module": "@jupyter-widgets/base",
      "model_module_version": "1.1.0",
      "model_name": "LayoutModel",
      "state": {}
     },
     "ff922a36c0ac4cc7a3820d0ba297a049": {
      "model_module": "@jupyter-widgets/base",
      "model_module_version": "1.1.0",
      "model_name": "LayoutModel",
      "state": {}
     },
     "ffbdfdf80b2b49d9bb19e47ff3523d18": {
      "model_module": "@jupyter-widgets/controls",
      "model_module_version": "1.4.0",
      "model_name": "DescriptionStyleModel",
      "state": {
       "description_width": ""
      }
     },
     "ffd38ff6179f489db9092159e75b6b4a": {
      "model_module": "@jupyter-widgets/base",
      "model_module_version": "1.1.0",
      "model_name": "LayoutModel",
      "state": {}
     },
     "ffde0cd86ae34bc08017c8a8c5b59b9d": {
      "model_module": "@jupyter-widgets/controls",
      "model_module_version": "1.4.0",
      "model_name": "HTMLModel",
      "state": {
       "layout": "IPY_MODEL_86f73a50e382439ca303c360dd96adbb",
       "style": "IPY_MODEL_dbf0da689efb4dffadf0dc5fdad4c2c7",
       "value": "epoch  train loss  valid loss  accuracy<p>0      56.218513   36.435833   0.153283<p>1      15.333649   7.521914    0.247890<p>"
      }
     }
    },
    "version_major": 2,
    "version_minor": 0
   }
  }
 },
 "nbformat": 4,
 "nbformat_minor": 2
}
